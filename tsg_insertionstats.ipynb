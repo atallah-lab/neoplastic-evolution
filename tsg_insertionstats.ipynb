{
 "cells": [
  {
   "cell_type": "markdown",
   "metadata": {},
   "source": [
    "The purpose of this script is to compute and store the data \n",
    "necessary to develop an insertion frequency estimate of\n",
    "L1 elements in various known human tumor suppressor genes \n",
    "based on the Snap-Velcro model of Monot et al. 2013. The hg38 \n",
    "reference is used to gather this data."
   ]
  },
  {
   "cell_type": "code",
   "execution_count": 99,
   "metadata": {},
   "outputs": [],
   "source": [
    "#--- Load necessary libraries\n",
    "library(data.table)\n",
    "library(BSgenome.Hsapiens.UCSC.hg38)\n",
    "library(GenomicRanges)\n",
    "library(plyr)\n",
    "options(warn=1) # print any warnings\n",
    "colscheme = c(\"deeppink\",\"darkgreen\",\"dodgerblue\",\"grey\")"
   ]
  },
  {
   "cell_type": "markdown",
   "metadata": {},
   "source": [
    "A tab-delimited file is read from the web to a table. The file is made available by the TSGene 2.0 database project and contains data on 983 human tumor suppressor genes which are down-regulated in tumor samples versus normal tissue."
   ]
  },
  {
   "cell_type": "code",
   "execution_count": 3,
   "metadata": {
    "scrolled": true
   },
   "outputs": [
    {
     "data": {
      "text/html": [
       "<table>\n",
       "<thead><tr><th scope=col>GeneID</th><th scope=col>GeneName</th><th scope=col>NumberOfCancers</th><th scope=col>CancerTypes</th></tr></thead>\n",
       "<tbody>\n",
       "\t<tr><td> 9590                                                  </td><td>AKAP12                                                 </td><td>11                                                     </td><td>COAD,THCA,KICH,BLCA,KIRC,UCEC,HNSC,PRAD,LUSC,LUAD,BRCA,</td></tr>\n",
       "\t<tr><td> 8854                                                  </td><td>ALDH1A2                                                </td><td>11                                                     </td><td>COAD,THCA,KICH,BLCA,KIRC,UCEC,HNSC,PRAD,LUSC,LUAD,BRCA,</td></tr>\n",
       "\t<tr><td>84417                                                  </td><td>C2orf40                                                </td><td>11                                                     </td><td>COAD,THCA,KICH,BLCA,KIRC,UCEC,HNSC,PRAD,LUSC,LUAD,BRCA,</td></tr>\n",
       "\t<tr><td> 8434                                                  </td><td>RECK                                                   </td><td>11                                                     </td><td>COAD,THCA,KICH,BLCA,KIRC,UCEC,HNSC,PRAD,LUSC,LUAD,BRCA,</td></tr>\n",
       "\t<tr><td> 8031                                                  </td><td>NCOA4                                                  </td><td>11                                                     </td><td>COAD,THCA,KICH,BLCA,KIRC,UCEC,HNSC,PRAD,LUSC,LUAD,BRCA,</td></tr>\n",
       "\t<tr><td>79633                                                  </td><td>FAT4                                                   </td><td>11                                                     </td><td>COAD,THCA,KICH,BLCA,KIRC,UCEC,HNSC,PRAD,LUSC,LUAD,BRCA,</td></tr>\n",
       "</tbody>\n",
       "</table>\n"
      ],
      "text/latex": [
       "\\begin{tabular}{r|llll}\n",
       " GeneID & GeneName & NumberOfCancers & CancerTypes\\\\\n",
       "\\hline\n",
       "\t  9590                                                   & AKAP12                                                  & 11                                                      & COAD,THCA,KICH,BLCA,KIRC,UCEC,HNSC,PRAD,LUSC,LUAD,BRCA,\\\\\n",
       "\t  8854                                                   & ALDH1A2                                                 & 11                                                      & COAD,THCA,KICH,BLCA,KIRC,UCEC,HNSC,PRAD,LUSC,LUAD,BRCA,\\\\\n",
       "\t 84417                                                   & C2orf40                                                 & 11                                                      & COAD,THCA,KICH,BLCA,KIRC,UCEC,HNSC,PRAD,LUSC,LUAD,BRCA,\\\\\n",
       "\t  8434                                                   & RECK                                                    & 11                                                      & COAD,THCA,KICH,BLCA,KIRC,UCEC,HNSC,PRAD,LUSC,LUAD,BRCA,\\\\\n",
       "\t  8031                                                   & NCOA4                                                   & 11                                                      & COAD,THCA,KICH,BLCA,KIRC,UCEC,HNSC,PRAD,LUSC,LUAD,BRCA,\\\\\n",
       "\t 79633                                                   & FAT4                                                    & 11                                                      & COAD,THCA,KICH,BLCA,KIRC,UCEC,HNSC,PRAD,LUSC,LUAD,BRCA,\\\\\n",
       "\\end{tabular}\n"
      ],
      "text/markdown": [
       "\n",
       "GeneID | GeneName | NumberOfCancers | CancerTypes | \n",
       "|---|---|---|---|---|---|\n",
       "|  9590                                                   | AKAP12                                                  | 11                                                      | COAD,THCA,KICH,BLCA,KIRC,UCEC,HNSC,PRAD,LUSC,LUAD,BRCA, | \n",
       "|  8854                                                   | ALDH1A2                                                 | 11                                                      | COAD,THCA,KICH,BLCA,KIRC,UCEC,HNSC,PRAD,LUSC,LUAD,BRCA, | \n",
       "| 84417                                                   | C2orf40                                                 | 11                                                      | COAD,THCA,KICH,BLCA,KIRC,UCEC,HNSC,PRAD,LUSC,LUAD,BRCA, | \n",
       "|  8434                                                   | RECK                                                    | 11                                                      | COAD,THCA,KICH,BLCA,KIRC,UCEC,HNSC,PRAD,LUSC,LUAD,BRCA, | \n",
       "|  8031                                                   | NCOA4                                                   | 11                                                      | COAD,THCA,KICH,BLCA,KIRC,UCEC,HNSC,PRAD,LUSC,LUAD,BRCA, | \n",
       "| 79633                                                   | FAT4                                                    | 11                                                      | COAD,THCA,KICH,BLCA,KIRC,UCEC,HNSC,PRAD,LUSC,LUAD,BRCA, | \n",
       "\n",
       "\n"
      ],
      "text/plain": [
       "  GeneID GeneName NumberOfCancers\n",
       "1  9590  AKAP12   11             \n",
       "2  8854  ALDH1A2  11             \n",
       "3 84417  C2orf40  11             \n",
       "4  8434  RECK     11             \n",
       "5  8031  NCOA4    11             \n",
       "6 79633  FAT4     11             \n",
       "  CancerTypes                                            \n",
       "1 COAD,THCA,KICH,BLCA,KIRC,UCEC,HNSC,PRAD,LUSC,LUAD,BRCA,\n",
       "2 COAD,THCA,KICH,BLCA,KIRC,UCEC,HNSC,PRAD,LUSC,LUAD,BRCA,\n",
       "3 COAD,THCA,KICH,BLCA,KIRC,UCEC,HNSC,PRAD,LUSC,LUAD,BRCA,\n",
       "4 COAD,THCA,KICH,BLCA,KIRC,UCEC,HNSC,PRAD,LUSC,LUAD,BRCA,\n",
       "5 COAD,THCA,KICH,BLCA,KIRC,UCEC,HNSC,PRAD,LUSC,LUAD,BRCA,\n",
       "6 COAD,THCA,KICH,BLCA,KIRC,UCEC,HNSC,PRAD,LUSC,LUAD,BRCA,"
      ]
     },
     "metadata": {},
     "output_type": "display_data"
    }
   ],
   "source": [
    "tsg_table <- fread(\"https://bioinfo.uth.edu/TSGene/All_down_exp_TSGs_pan-cancer.txt\")\n",
    "head(tsg_table)"
   ]
  },
  {
   "cell_type": "markdown",
   "metadata": {},
   "source": [
    "Get a list of TSG names from the table"
   ]
  },
  {
   "cell_type": "code",
   "execution_count": 4,
   "metadata": {},
   "outputs": [
    {
     "data": {
      "text/html": [
       "<ol class=list-inline>\n",
       "\t<li>'AKAP12'</li>\n",
       "\t<li>'ALDH1A2'</li>\n",
       "\t<li>'C2orf40'</li>\n",
       "\t<li>'RECK'</li>\n",
       "\t<li>'NCOA4'</li>\n",
       "\t<li>'FAT4'</li>\n",
       "</ol>\n"
      ],
      "text/latex": [
       "\\begin{enumerate*}\n",
       "\\item 'AKAP12'\n",
       "\\item 'ALDH1A2'\n",
       "\\item 'C2orf40'\n",
       "\\item 'RECK'\n",
       "\\item 'NCOA4'\n",
       "\\item 'FAT4'\n",
       "\\end{enumerate*}\n"
      ],
      "text/markdown": [
       "1. 'AKAP12'\n",
       "2. 'ALDH1A2'\n",
       "3. 'C2orf40'\n",
       "4. 'RECK'\n",
       "5. 'NCOA4'\n",
       "6. 'FAT4'\n",
       "\n",
       "\n"
      ],
      "text/plain": [
       "[1] \"AKAP12\"  \"ALDH1A2\" \"C2orf40\" \"RECK\"    \"NCOA4\"   \"FAT4\"   "
      ]
     },
     "metadata": {},
     "output_type": "display_data"
    }
   ],
   "source": [
    "head(tsg_table$GeneName)"
   ]
  },
  {
   "cell_type": "markdown",
   "metadata": {},
   "source": [
    "Call a .gff3 file for hg38 stored locally, and extract genomic ranges of tumor suppressor genes"
   ]
  },
  {
   "cell_type": "code",
   "execution_count": 5,
   "metadata": {},
   "outputs": [
    {
     "name": "stdout",
     "output_type": "stream",
     "text": [
      "Gene list from hg38 .gff3 file"
     ]
    },
    {
     "data": {
      "text/html": [
       "<table>\n",
       "<thead><tr><th scope=col>chrom</th><th scope=col>source</th><th scope=col>type</th><th scope=col>start</th><th scope=col>end</th><th scope=col>score</th><th scope=col>strand</th><th scope=col>phase</th><th scope=col>attributes</th></tr></thead>\n",
       "<tbody>\n",
       "\t<tr><td>1                                                                                                                                                                                                                  </td><td>havana                                                                                                                                                                                                             </td><td>gene                                                                                                                                                                                                               </td><td>11869                                                                                                                                                                                                              </td><td>14409                                                                                                                                                                                                              </td><td>.                                                                                                                                                                                                                  </td><td>+                                                                                                                                                                                                                  </td><td>.                                                                                                                                                                                                                  </td><td>ID=gene:ENSG00000223972;Name=DDX11L1;biotype=transcribed_unprocessed_pseudogene;description=DEAD/H-box helicase 11 like 1 [Source:HGNC Symbol%3BAcc:HGNC:37102];gene_id=ENSG00000223972;logic_name=havana;version=5</td></tr>\n",
       "\t<tr><td>1                                                                                                                                                                                                                  </td><td>havana                                                                                                                                                                                                             </td><td>gene                                                                                                                                                                                                               </td><td>14404                                                                                                                                                                                                              </td><td>29570                                                                                                                                                                                                              </td><td>.                                                                                                                                                                                                                  </td><td>-                                                                                                                                                                                                                  </td><td>.                                                                                                                                                                                                                  </td><td>ID=gene:ENSG00000227232;Name=WASH7P;biotype=unprocessed_pseudogene;description=WAS protein family homolog 7 pseudogene [Source:HGNC Symbol%3BAcc:HGNC:38034];gene_id=ENSG00000227232;logic_name=havana;version=5   </td></tr>\n",
       "\t<tr><td>1                                                                                                                                                                                                                  </td><td>mirbase                                                                                                                                                                                                            </td><td>miRNA_gene                                                                                                                                                                                                         </td><td>17369                                                                                                                                                                                                              </td><td>17436                                                                                                                                                                                                              </td><td>.                                                                                                                                                                                                                  </td><td>-                                                                                                                                                                                                                  </td><td>.                                                                                                                                                                                                                  </td><td>ID=gene:ENSG00000278267;Name=MIR6859-1;biotype=miRNA;description=microRNA 6859-1 [Source:HGNC Symbol%3BAcc:HGNC:50039];gene_id=ENSG00000278267;logic_name=ncrna;version=1                                          </td></tr>\n",
       "\t<tr><td>1                                                                                                                                                                                                                  </td><td>havana                                                                                                                                                                                                             </td><td>lincRNA_gene                                                                                                                                                                                                       </td><td>29554                                                                                                                                                                                                              </td><td>31109                                                                                                                                                                                                              </td><td>.                                                                                                                                                                                                                  </td><td>+                                                                                                                                                                                                                  </td><td>.                                                                                                                                                                                                                  </td><td>ID=gene:ENSG00000243485;Name=MIR1302-2HG;biotype=lincRNA;description=MIR1302-2 host gene [Source:HGNC Symbol%3BAcc:HGNC:52482];gene_id=ENSG00000243485;logic_name=havana;version=5                                 </td></tr>\n",
       "\t<tr><td>1                                                                                                                                                                                                                  </td><td>mirbase                                                                                                                                                                                                            </td><td>miRNA_gene                                                                                                                                                                                                         </td><td>30366                                                                                                                                                                                                              </td><td>30503                                                                                                                                                                                                              </td><td>.                                                                                                                                                                                                                  </td><td>+                                                                                                                                                                                                                  </td><td>.                                                                                                                                                                                                                  </td><td>ID=gene:ENSG00000284332;Name=MIR1302-2;biotype=miRNA;description=microRNA 1302-2 [Source:HGNC Symbol%3BAcc:HGNC:35294];gene_id=ENSG00000284332;logic_name=ncrna;version=1                                          </td></tr>\n",
       "\t<tr><td>1                                                                                                                                                                                                                  </td><td>havana                                                                                                                                                                                                             </td><td>lincRNA_gene                                                                                                                                                                                                       </td><td>34554                                                                                                                                                                                                              </td><td>36081                                                                                                                                                                                                              </td><td>.                                                                                                                                                                                                                  </td><td>-                                                                                                                                                                                                                  </td><td>.                                                                                                                                                                                                                  </td><td>ID=gene:ENSG00000237613;Name=FAM138A;biotype=lincRNA;description=family with sequence similarity 138 member A [Source:HGNC Symbol%3BAcc:HGNC:32334];gene_id=ENSG00000237613;logic_name=havana;version=2            </td></tr>\n",
       "</tbody>\n",
       "</table>\n"
      ],
      "text/latex": [
       "\\begin{tabular}{r|lllllllll}\n",
       " chrom & source & type & start & end & score & strand & phase & attributes\\\\\n",
       "\\hline\n",
       "\t 1                                                                                                                                                                                                                                 & havana                                                                                                                                                                                                                            & gene                                                                                                                                                                                                                              & 11869                                                                                                                                                                                                                             & 14409                                                                                                                                                                                                                             & .                                                                                                                                                                                                                                 & +                                                                                                                                                                                                                                 & .                                                                                                                                                                                                                                 & ID=gene:ENSG00000223972;Name=DDX11L1;biotype=transcribed\\_unprocessed\\_pseudogene;description=DEAD/H-box helicase 11 like 1 {[}Source:HGNC Symbol\\%3BAcc:HGNC:37102{]};gene\\_id=ENSG00000223972;logic\\_name=havana;version=5\\\\\n",
       "\t 1                                                                                                                                                                                                                               & havana                                                                                                                                                                                                                          & gene                                                                                                                                                                                                                            & 14404                                                                                                                                                                                                                           & 29570                                                                                                                                                                                                                           & .                                                                                                                                                                                                                               & -                                                                                                                                                                                                                               & .                                                                                                                                                                                                                               & ID=gene:ENSG00000227232;Name=WASH7P;biotype=unprocessed\\_pseudogene;description=WAS protein family homolog 7 pseudogene {[}Source:HGNC Symbol\\%3BAcc:HGNC:38034{]};gene\\_id=ENSG00000227232;logic\\_name=havana;version=5   \\\\\n",
       "\t 1                                                                                                                                                                                                                             & mirbase                                                                                                                                                                                                                       & miRNA\\_gene                                                                                                                                                                                                                  & 17369                                                                                                                                                                                                                         & 17436                                                                                                                                                                                                                         & .                                                                                                                                                                                                                             & -                                                                                                                                                                                                                             & .                                                                                                                                                                                                                             & ID=gene:ENSG00000278267;Name=MIR6859-1;biotype=miRNA;description=microRNA 6859-1 {[}Source:HGNC Symbol\\%3BAcc:HGNC:50039{]};gene\\_id=ENSG00000278267;logic\\_name=ncrna;version=1                                          \\\\\n",
       "\t 1                                                                                                                                                                                                                             & havana                                                                                                                                                                                                                        & lincRNA\\_gene                                                                                                                                                                                                                & 29554                                                                                                                                                                                                                         & 31109                                                                                                                                                                                                                         & .                                                                                                                                                                                                                             & +                                                                                                                                                                                                                             & .                                                                                                                                                                                                                             & ID=gene:ENSG00000243485;Name=MIR1302-2HG;biotype=lincRNA;description=MIR1302-2 host gene {[}Source:HGNC Symbol\\%3BAcc:HGNC:52482{]};gene\\_id=ENSG00000243485;logic\\_name=havana;version=5                                 \\\\\n",
       "\t 1                                                                                                                                                                                                                             & mirbase                                                                                                                                                                                                                       & miRNA\\_gene                                                                                                                                                                                                                  & 30366                                                                                                                                                                                                                         & 30503                                                                                                                                                                                                                         & .                                                                                                                                                                                                                             & +                                                                                                                                                                                                                             & .                                                                                                                                                                                                                             & ID=gene:ENSG00000284332;Name=MIR1302-2;biotype=miRNA;description=microRNA 1302-2 {[}Source:HGNC Symbol\\%3BAcc:HGNC:35294{]};gene\\_id=ENSG00000284332;logic\\_name=ncrna;version=1                                          \\\\\n",
       "\t 1                                                                                                                                                                                                                             & havana                                                                                                                                                                                                                        & lincRNA\\_gene                                                                                                                                                                                                                & 34554                                                                                                                                                                                                                         & 36081                                                                                                                                                                                                                         & .                                                                                                                                                                                                                             & -                                                                                                                                                                                                                             & .                                                                                                                                                                                                                             & ID=gene:ENSG00000237613;Name=FAM138A;biotype=lincRNA;description=family with sequence similarity 138 member A {[}Source:HGNC Symbol\\%3BAcc:HGNC:32334{]};gene\\_id=ENSG00000237613;logic\\_name=havana;version=2            \\\\\n",
       "\\end{tabular}\n"
      ],
      "text/markdown": [
       "\n",
       "chrom | source | type | start | end | score | strand | phase | attributes | \n",
       "|---|---|---|---|---|---|\n",
       "| 1                                                                                                                                                                                                                   | havana                                                                                                                                                                                                              | gene                                                                                                                                                                                                                | 11869                                                                                                                                                                                                               | 14409                                                                                                                                                                                                               | .                                                                                                                                                                                                                   | +                                                                                                                                                                                                                   | .                                                                                                                                                                                                                   | ID=gene:ENSG00000223972;Name=DDX11L1;biotype=transcribed_unprocessed_pseudogene;description=DEAD/H-box helicase 11 like 1 [Source:HGNC Symbol%3BAcc:HGNC:37102];gene_id=ENSG00000223972;logic_name=havana;version=5 | \n",
       "| 1                                                                                                                                                                                                                   | havana                                                                                                                                                                                                              | gene                                                                                                                                                                                                                | 14404                                                                                                                                                                                                               | 29570                                                                                                                                                                                                               | .                                                                                                                                                                                                                   | -                                                                                                                                                                                                                   | .                                                                                                                                                                                                                   | ID=gene:ENSG00000227232;Name=WASH7P;biotype=unprocessed_pseudogene;description=WAS protein family homolog 7 pseudogene [Source:HGNC Symbol%3BAcc:HGNC:38034];gene_id=ENSG00000227232;logic_name=havana;version=5    | \n",
       "| 1                                                                                                                                                                                                                   | mirbase                                                                                                                                                                                                             | miRNA_gene                                                                                                                                                                                                          | 17369                                                                                                                                                                                                               | 17436                                                                                                                                                                                                               | .                                                                                                                                                                                                                   | -                                                                                                                                                                                                                   | .                                                                                                                                                                                                                   | ID=gene:ENSG00000278267;Name=MIR6859-1;biotype=miRNA;description=microRNA 6859-1 [Source:HGNC Symbol%3BAcc:HGNC:50039];gene_id=ENSG00000278267;logic_name=ncrna;version=1                                           | \n",
       "| 1                                                                                                                                                                                                                   | havana                                                                                                                                                                                                              | lincRNA_gene                                                                                                                                                                                                        | 29554                                                                                                                                                                                                               | 31109                                                                                                                                                                                                               | .                                                                                                                                                                                                                   | +                                                                                                                                                                                                                   | .                                                                                                                                                                                                                   | ID=gene:ENSG00000243485;Name=MIR1302-2HG;biotype=lincRNA;description=MIR1302-2 host gene [Source:HGNC Symbol%3BAcc:HGNC:52482];gene_id=ENSG00000243485;logic_name=havana;version=5                                  | \n",
       "| 1                                                                                                                                                                                                                   | mirbase                                                                                                                                                                                                             | miRNA_gene                                                                                                                                                                                                          | 30366                                                                                                                                                                                                               | 30503                                                                                                                                                                                                               | .                                                                                                                                                                                                                   | +                                                                                                                                                                                                                   | .                                                                                                                                                                                                                   | ID=gene:ENSG00000284332;Name=MIR1302-2;biotype=miRNA;description=microRNA 1302-2 [Source:HGNC Symbol%3BAcc:HGNC:35294];gene_id=ENSG00000284332;logic_name=ncrna;version=1                                           | \n",
       "| 1                                                                                                                                                                                                                   | havana                                                                                                                                                                                                              | lincRNA_gene                                                                                                                                                                                                        | 34554                                                                                                                                                                                                               | 36081                                                                                                                                                                                                               | .                                                                                                                                                                                                                   | -                                                                                                                                                                                                                   | .                                                                                                                                                                                                                   | ID=gene:ENSG00000237613;Name=FAM138A;biotype=lincRNA;description=family with sequence similarity 138 member A [Source:HGNC Symbol%3BAcc:HGNC:32334];gene_id=ENSG00000237613;logic_name=havana;version=2             | \n",
       "\n",
       "\n"
      ],
      "text/plain": [
       "  chrom source  type         start end   score strand phase\n",
       "1 1     havana  gene         11869 14409 .     +      .    \n",
       "2 1     havana  gene         14404 29570 .     -      .    \n",
       "3 1     mirbase miRNA_gene   17369 17436 .     -      .    \n",
       "4 1     havana  lincRNA_gene 29554 31109 .     +      .    \n",
       "5 1     mirbase miRNA_gene   30366 30503 .     +      .    \n",
       "6 1     havana  lincRNA_gene 34554 36081 .     -      .    \n",
       "  attributes                                                                                                                                                                                                         \n",
       "1 ID=gene:ENSG00000223972;Name=DDX11L1;biotype=transcribed_unprocessed_pseudogene;description=DEAD/H-box helicase 11 like 1 [Source:HGNC Symbol%3BAcc:HGNC:37102];gene_id=ENSG00000223972;logic_name=havana;version=5\n",
       "2 ID=gene:ENSG00000227232;Name=WASH7P;biotype=unprocessed_pseudogene;description=WAS protein family homolog 7 pseudogene [Source:HGNC Symbol%3BAcc:HGNC:38034];gene_id=ENSG00000227232;logic_name=havana;version=5   \n",
       "3 ID=gene:ENSG00000278267;Name=MIR6859-1;biotype=miRNA;description=microRNA 6859-1 [Source:HGNC Symbol%3BAcc:HGNC:50039];gene_id=ENSG00000278267;logic_name=ncrna;version=1                                          \n",
       "4 ID=gene:ENSG00000243485;Name=MIR1302-2HG;biotype=lincRNA;description=MIR1302-2 host gene [Source:HGNC Symbol%3BAcc:HGNC:52482];gene_id=ENSG00000243485;logic_name=havana;version=5                                 \n",
       "5 ID=gene:ENSG00000284332;Name=MIR1302-2;biotype=miRNA;description=microRNA 1302-2 [Source:HGNC Symbol%3BAcc:HGNC:35294];gene_id=ENSG00000284332;logic_name=ncrna;version=1                                          \n",
       "6 ID=gene:ENSG00000237613;Name=FAM138A;biotype=lincRNA;description=family with sequence similarity 138 member A [Source:HGNC Symbol%3BAcc:HGNC:32334];gene_id=ENSG00000237613;logic_name=havana;version=2            "
      ]
     },
     "metadata": {},
     "output_type": "display_data"
    }
   ],
   "source": [
    "system(paste0(\"grep ID=gene ../Data/humangenome/Homo_sapiens.GRCh38.89.gff3 > tmp\"))\n",
    "geneann <- fread(\"tmp\") # extract all lines from .gff3 describing genes into a table\n",
    "system(\"rm tmp\")\n",
    "cat(\"Gene list from hg38 .gff3 file\")\n",
    "names(geneann) <- c('chrom','source','type','start','end','score','strand','phase','attributes')\n",
    "head(geneann)"
   ]
  },
  {
   "cell_type": "code",
   "execution_count": 6,
   "metadata": {
    "collapsed": true
   },
   "outputs": [
    {
     "name": "stderr",
     "output_type": "stream",
     "text": [
      "Warning message in tsg_inds[j] <- tmp:\n",
      "“number of items to replace is not a multiple of replacement length”Warning message in tsg_inds[j] <- tmp:\n",
      "“number of items to replace is not a multiple of replacement length”"
     ]
    }
   ],
   "source": [
    "j=1;\n",
    "tsg_inds<-rep(0,nrow(tsg_table)) # allocate memory for array of TSG indices in the list of genes\n",
    "for (i in tsg_table$GeneName){\n",
    "        tmp <- grep(paste0(\"Name=\",i,\";\"),geneann$attributes) # search for \"Name=<gene name>\" in the attributes column of the .gff3\n",
    "        if (length(tmp)==0){ # if it was not found, place a NA for index of the current TSG\n",
    "                tsg_inds[j]=NA;\n",
    "        } else { # if found, store its index in the list\n",
    "                tsg_inds[j] <- tmp\n",
    "        }\n",
    "        j<-j+1 # increment tsg_inds array counter\n",
    "        # print(grep(paste0(\"Name=\",i,\";\"),geneann$V9)) # print to screen the index of the current TSG (not necessary)\n",
    "}\n",
    "tsgann <- geneann[tsg_inds] # extract rows of the geneann table associated with TSGs\n",
    "tsgann <- tsgann[,c(\"chrom\",\"start\",\"end\")] # extract columns describing genomic ranges (chrom name, start, end)"
   ]
  },
  {
   "cell_type": "code",
   "execution_count": 7,
   "metadata": {},
   "outputs": [
    {
     "name": "stdout",
     "output_type": "stream",
     "text": [
      "Genomic ranges of TSGs"
     ]
    },
    {
     "data": {
      "text/html": [
       "<table>\n",
       "<thead><tr><th scope=col>chrom</th><th scope=col>start</th><th scope=col>end</th></tr></thead>\n",
       "<tbody>\n",
       "\t<tr><td>6        </td><td>151239999</td><td>151358557</td></tr>\n",
       "\t<tr><td>15       </td><td> 57953424</td><td> 58497866</td></tr>\n",
       "\t<tr><td>2        </td><td>106063246</td><td>106078159</td></tr>\n",
       "\t<tr><td>9        </td><td> 36036433</td><td> 36124451</td></tr>\n",
       "\t<tr><td>10       </td><td> 46005088</td><td> 46030714</td></tr>\n",
       "\t<tr><td>4        </td><td>125316399</td><td>125492932</td></tr>\n",
       "</tbody>\n",
       "</table>\n"
      ],
      "text/latex": [
       "\\begin{tabular}{r|lll}\n",
       " chrom & start & end\\\\\n",
       "\\hline\n",
       "\t 6         & 151239999 & 151358557\\\\\n",
       "\t 15        &  57953424 &  58497866\\\\\n",
       "\t 2         & 106063246 & 106078159\\\\\n",
       "\t 9         &  36036433 &  36124451\\\\\n",
       "\t 10        &  46005088 &  46030714\\\\\n",
       "\t 4         & 125316399 & 125492932\\\\\n",
       "\\end{tabular}\n"
      ],
      "text/markdown": [
       "\n",
       "chrom | start | end | \n",
       "|---|---|---|---|---|---|\n",
       "| 6         | 151239999 | 151358557 | \n",
       "| 15        |  57953424 |  58497866 | \n",
       "| 2         | 106063246 | 106078159 | \n",
       "| 9         |  36036433 |  36124451 | \n",
       "| 10        |  46005088 |  46030714 | \n",
       "| 4         | 125316399 | 125492932 | \n",
       "\n",
       "\n"
      ],
      "text/plain": [
       "  chrom start     end      \n",
       "1 6     151239999 151358557\n",
       "2 15     57953424  58497866\n",
       "3 2     106063246 106078159\n",
       "4 9      36036433  36124451\n",
       "5 10     46005088  46030714\n",
       "6 4     125316399 125492932"
      ]
     },
     "metadata": {},
     "output_type": "display_data"
    },
    {
     "name": "stdout",
     "output_type": "stream",
     "text": [
      "971/983 TSGs from the database were located in hg38.\n"
     ]
    }
   ],
   "source": [
    "tsgann=tsgann[which(!is.na(tsgann$chrom))]\n",
    "cat(\"Genomic ranges of TSGs\")\n",
    "head(tsgann)\n",
    "cat(paste0(nrow(tsgann),\"/\",nrow(tsg_table),\" TSGs from the database were located in hg38.\\n\"))"
   ]
  },
  {
   "cell_type": "markdown",
   "metadata": {},
   "source": [
    "We will now count the number of sites of each SV site category within the TSGs, as well as in hg38 overall. TSG densities are also stored."
   ]
  },
  {
   "cell_type": "code",
   "execution_count": 8,
   "metadata": {},
   "outputs": [],
   "source": [
    "chr_tsg_counts <-  array(0,dim=c(24,9)) # Allocate memory\n",
    "\n",
    "#--- Loop through chromosome names\n",
    "j<-1\n",
    "for (i in names(Hsapiens)[1:24]){\n",
    "\n",
    "        # cat(\"\\nProccessing \",i,\"...\")\n",
    "        load(paste0(\"../Data/root_maps/\",i,\"map.rda\")) # Load map file for current chromosome\n",
    "\n",
    "        # Data objects containing indices of S-V sites for each category are labeled with the chromosome name.\n",
    "        # Here we copy the data objects to a set of generic names which can be used consistently in the following\n",
    "        # code. \n",
    "        ict<-get(paste0(i,\"ict\"))\n",
    "        icl<-get(paste0(i,\"icl\"))\n",
    "        iot<-get(paste0(i,\"iot\"))\n",
    "        iol<-get(paste0(i,\"iol\"))\n",
    "        insites<-get(paste0(i,\"insites\"))\n",
    "\n",
    "        # Extract TSG regions for the current chromosome\n",
    "        chrno<-strsplit(i,\"chr\")[[1]][2] # Get the current chromosome number (or letter)\n",
    "        tsgann_i <- tsgann[tsgann$chrom == chrno,] # Extract a subset of the 'tsgann' table for regions in the current chromosome\n",
    "\n",
    "        # Fill in columns 1-4 of the row of the chr_tsg_counts array corresponding to current chromosome.\n",
    "        # These columns contain the number of sites of each S-V category lying within TSGs \n",
    "        # Categories are in this order: closed-tight, closed-loose, open-tight, open-loose\n",
    "        tmp<-inrange(insites[as.vector(ict[which(!is.na(ict))])],tsgann_i$start,tsgann_i$end) # Check if any Closed-Tight category sites are within the start-end range of tsgann_i\n",
    "        chr_tsg_counts[j,1]<-length(which(tmp == TRUE))                                    # Fill an element of the chr_tsg_counts table with the count\n",
    "        tmp<-inrange(insites[as.vector(icl[which(!is.na(icl))])],tsgann_i$start,tsgann_i$end)\n",
    "        chr_tsg_counts[j,2]<-length(which(tmp == TRUE))\n",
    "        tmp<-inrange(insites[as.vector(iot[which(!is.na(iot))])],tsgann_i$start,tsgann_i$end)\n",
    "        chr_tsg_counts[j,3]<-length(which(tmp == TRUE))\n",
    "        tmp<-inrange(insites[as.vector(iol[which(!is.na(iol))])],tsgann_i$start,tsgann_i$end)\n",
    "        chr_tsg_counts[j,4]<-length(which(tmp == TRUE))\n",
    "\n",
    "        # Fill in columns 5-8 of the row of the chr_tsg_counts array corresponding to current chromosome.\n",
    "        # These columns contain the total number of sites of each category.\n",
    "        chr_tsg_counts[j,5]<-length(which(!is.na(ict)))\n",
    "        chr_tsg_counts[j,6]<-length(which(!is.na(icl)))\n",
    "        chr_tsg_counts[j,7]<-length(which(!is.na(iot)))\n",
    "        chr_tsg_counts[j,8]<-length(which(!is.na(iol)))\n",
    "\n",
    "        # The last column contains the TSG fraction of the current chromosome\n",
    "        tmp<-IRanges(tsgann_i$start,tsgann_i$end)\n",
    "        chr_tsg_counts[j,9] <- sum(width(tmp))/length(Hsapiens[[i]])\n",
    "\n",
    "        j<-j+1\n",
    "}"
   ]
  },
  {
   "cell_type": "code",
   "execution_count": 9,
   "metadata": {},
   "outputs": [
    {
     "data": {
      "text/html": [
       "<table>\n",
       "<thead><tr><th></th><th scope=col>CT_TSG</th><th scope=col>CL_TSG</th><th scope=col>OT_TSG</th><th scope=col>OL_TSG</th><th scope=col>CT_hg38</th><th scope=col>CL_hg38</th><th scope=col>OT_hg38</th><th scope=col>OL_hg38</th><th scope=col>TSG_frac</th></tr></thead>\n",
       "<tbody>\n",
       "\t<tr><th scope=row>chr1</th><td> 80966    </td><td>113339    </td><td>276312    </td><td> 762355   </td><td>2672539   </td><td>4201065   </td><td>10488523  </td><td>27971014  </td><td>0.02721808</td></tr>\n",
       "\t<tr><th scope=row>chr2</th><td>101775    </td><td>178535    </td><td>437165    </td><td>1172829   </td><td>2787188   </td><td>4764698   </td><td>11780898  </td><td>30898470  </td><td>0.03602919</td></tr>\n",
       "\t<tr><th scope=row>chr3</th><td>166131    </td><td>294210    </td><td>721514    </td><td>1913074   </td><td>2313360   </td><td>3998896   </td><td> 9894819  </td><td>25986494  </td><td>0.07373505</td></tr>\n",
       "\t<tr><th scope=row>chr4</th><td> 55157    </td><td>103260    </td><td>250323    </td><td> 658706   </td><td>2239602   </td><td>4069581   </td><td>10206083  </td><td>26038352  </td><td>0.02578945</td></tr>\n",
       "\t<tr><th scope=row>chr5</th><td> 43331    </td><td> 72885    </td><td>173268    </td><td> 476642   </td><td>2091044   </td><td>3680652   </td><td> 9108378  </td><td>23951693  </td><td>0.02218732</td></tr>\n",
       "\t<tr><th scope=row>chr6</th><td> 71885    </td><td>116412    </td><td>282684    </td><td> 737667   </td><td>2002773   </td><td>3464330   </td><td> 8609574  </td><td>22339159  </td><td>0.03430513</td></tr>\n",
       "</tbody>\n",
       "</table>\n"
      ],
      "text/latex": [
       "\\begin{tabular}{r|lllllllll}\n",
       "  & CT\\_TSG & CL\\_TSG & OT\\_TSG & OL\\_TSG & CT\\_hg38 & CL\\_hg38 & OT\\_hg38 & OL\\_hg38 & TSG\\_frac\\\\\n",
       "\\hline\n",
       "\tchr1 &  80966     & 113339     & 276312     &  762355    & 2672539    & 4201065    & 10488523   & 27971014   & 0.02721808\\\\\n",
       "\tchr2 & 101775     & 178535     & 437165     & 1172829    & 2787188    & 4764698    & 11780898   & 30898470   & 0.03602919\\\\\n",
       "\tchr3 & 166131     & 294210     & 721514     & 1913074    & 2313360    & 3998896    &  9894819   & 25986494   & 0.07373505\\\\\n",
       "\tchr4 &  55157     & 103260     & 250323     &  658706    & 2239602    & 4069581    & 10206083   & 26038352   & 0.02578945\\\\\n",
       "\tchr5 &  43331     &  72885     & 173268     &  476642    & 2091044    & 3680652    &  9108378   & 23951693   & 0.02218732\\\\\n",
       "\tchr6 &  71885     & 116412     & 282684     &  737667    & 2002773    & 3464330    &  8609574   & 22339159   & 0.03430513\\\\\n",
       "\\end{tabular}\n"
      ],
      "text/markdown": [
       "\n",
       "| <!--/--> | CT_TSG | CL_TSG | OT_TSG | OL_TSG | CT_hg38 | CL_hg38 | OT_hg38 | OL_hg38 | TSG_frac | \n",
       "|---|---|---|---|---|---|\n",
       "| chr1 |  80966     | 113339     | 276312     |  762355    | 2672539    | 4201065    | 10488523   | 27971014   | 0.02721808 | \n",
       "| chr2 | 101775     | 178535     | 437165     | 1172829    | 2787188    | 4764698    | 11780898   | 30898470   | 0.03602919 | \n",
       "| chr3 | 166131     | 294210     | 721514     | 1913074    | 2313360    | 3998896    |  9894819   | 25986494   | 0.07373505 | \n",
       "| chr4 |  55157     | 103260     | 250323     |  658706    | 2239602    | 4069581    | 10206083   | 26038352   | 0.02578945 | \n",
       "| chr5 |  43331     |  72885     | 173268     |  476642    | 2091044    | 3680652    |  9108378   | 23951693   | 0.02218732 | \n",
       "| chr6 |  71885     | 116412     | 282684     |  737667    | 2002773    | 3464330    |  8609574   | 22339159   | 0.03430513 | \n",
       "\n",
       "\n"
      ],
      "text/plain": [
       "     CT_TSG CL_TSG OT_TSG OL_TSG  CT_hg38 CL_hg38 OT_hg38  OL_hg38  TSG_frac  \n",
       "chr1  80966 113339 276312  762355 2672539 4201065 10488523 27971014 0.02721808\n",
       "chr2 101775 178535 437165 1172829 2787188 4764698 11780898 30898470 0.03602919\n",
       "chr3 166131 294210 721514 1913074 2313360 3998896  9894819 25986494 0.07373505\n",
       "chr4  55157 103260 250323  658706 2239602 4069581 10206083 26038352 0.02578945\n",
       "chr5  43331  72885 173268  476642 2091044 3680652  9108378 23951693 0.02218732\n",
       "chr6  71885 116412 282684  737667 2002773 3464330  8609574 22339159 0.03430513"
      ]
     },
     "metadata": {},
     "output_type": "display_data"
    }
   ],
   "source": [
    "colnames(chr_tsg_counts)<-c('CT_TSG','CL_TSG','OT_TSG','OL_TSG','CT_hg38','CL_hg38','OT_hg38','OL_hg38','TSG_frac')\n",
    "# rownames(tsg_counts)<-tsgs[!is.na(tsg_inds)]\n",
    "rownames(chr_tsg_counts)<-names(Hsapiens)[1:24]\n",
    "head(chr_tsg_counts)"
   ]
  },
  {
   "cell_type": "markdown",
   "metadata": {},
   "source": [
    "Here we apply the enrichment observed by Monot et al. to the counts"
   ]
  },
  {
   "cell_type": "code",
   "execution_count": 10,
   "metadata": {},
   "outputs": [
    {
     "data": {
      "text/html": [
       "<table>\n",
       "<thead><tr><th></th><th scope=col>CT_TSG</th><th scope=col>CL_TSG</th><th scope=col>OT_TSG</th><th scope=col>OL_TSG</th></tr></thead>\n",
       "<tbody>\n",
       "\t<tr><th scope=row>chr1</th><td> 935157.3</td><td> 901045.1</td><td>345390.0 </td><td> 762355  </td></tr>\n",
       "\t<tr><th scope=row>chr2</th><td>1175501.2</td><td>1419353.2</td><td>546456.2 </td><td>1172829  </td></tr>\n",
       "\t<tr><th scope=row>chr3</th><td>1918813.1</td><td>2338969.5</td><td>901892.5 </td><td>1913074  </td></tr>\n",
       "\t<tr><th scope=row>chr4</th><td> 637063.4</td><td> 820917.0</td><td>312903.8 </td><td> 658706  </td></tr>\n",
       "\t<tr><th scope=row>chr5</th><td> 500473.1</td><td> 579435.8</td><td>216585.0 </td><td> 476642  </td></tr>\n",
       "\t<tr><th scope=row>chr6</th><td> 830271.8</td><td> 925475.4</td><td>353355.0 </td><td> 737667  </td></tr>\n",
       "</tbody>\n",
       "</table>\n"
      ],
      "text/latex": [
       "\\begin{tabular}{r|llll}\n",
       "  & CT\\_TSG & CL\\_TSG & OT\\_TSG & OL\\_TSG\\\\\n",
       "\\hline\n",
       "\tchr1 &  935157.3 &  901045.1 & 345390.0  &  762355  \\\\\n",
       "\tchr2 & 1175501.2 & 1419353.2 & 546456.2  & 1172829  \\\\\n",
       "\tchr3 & 1918813.1 & 2338969.5 & 901892.5  & 1913074  \\\\\n",
       "\tchr4 &  637063.4 &  820917.0 & 312903.8  &  658706  \\\\\n",
       "\tchr5 &  500473.1 &  579435.8 & 216585.0  &  476642  \\\\\n",
       "\tchr6 &  830271.8 &  925475.4 & 353355.0  &  737667  \\\\\n",
       "\\end{tabular}\n"
      ],
      "text/markdown": [
       "\n",
       "| <!--/--> | CT_TSG | CL_TSG | OT_TSG | OL_TSG | \n",
       "|---|---|---|---|---|---|\n",
       "| chr1 |  935157.3 |  901045.1 | 345390.0  |  762355   | \n",
       "| chr2 | 1175501.2 | 1419353.2 | 546456.2  | 1172829   | \n",
       "| chr3 | 1918813.1 | 2338969.5 | 901892.5  | 1913074   | \n",
       "| chr4 |  637063.4 |  820917.0 | 312903.8  |  658706   | \n",
       "| chr5 |  500473.1 |  579435.8 | 216585.0  |  476642   | \n",
       "| chr6 |  830271.8 |  925475.4 | 353355.0  |  737667   | \n",
       "\n",
       "\n"
      ],
      "text/plain": [
       "     CT_TSG    CL_TSG    OT_TSG   OL_TSG \n",
       "chr1  935157.3  901045.1 345390.0  762355\n",
       "chr2 1175501.2 1419353.2 546456.2 1172829\n",
       "chr3 1918813.1 2338969.5 901892.5 1913074\n",
       "chr4  637063.4  820917.0 312903.8  658706\n",
       "chr5  500473.1  579435.8 216585.0  476642\n",
       "chr6  830271.8  925475.4 353355.0  737667"
      ]
     },
     "metadata": {},
     "output_type": "display_data"
    }
   ],
   "source": [
    "chr_tsg_enrich <- chr_tsg_counts[,1:4]\n",
    "chr_tsg_enrich <- t( t(chr_tsg_enrich) * c(11.55,7.95,1.25,1.00) )\n",
    "head(chr_tsg_enrich)"
   ]
  },
  {
   "cell_type": "code",
   "execution_count": 101,
   "metadata": {},
   "outputs": [
    {
     "data": {
      "image/png": "[encoded data removed]",
      "text/plain": [
       "Plot with title “Fig. 1 - Relative TSG insertion frequency after SV category enrichment”"
      ]
     },
     "metadata": {},
     "output_type": "display_data"
    }
   ],
   "source": [
    "barplot(t(chr_tsg_enrich/max(rowSums(chr_tsg_enrich))),col=colscheme,ylab=\" Normalized Count\",xlab=\"Chromosome\")\n",
    "legend(\"topright\",  fill=colscheme, c(\"CT\",\"CL\",\"OT\",\"OL\")  );\n",
    "title(\"Fig. 1 - Relative TSG insertion frequency after SV category enrichment\")\n",
    "options(repr.plot.width=7, repr.plot.height=5)"
   ]
  },
  {
   "cell_type": "markdown",
   "metadata": {},
   "source": [
    "For each chromosome, the number of sites of each SV category were counted. The counts for each site class were multiplied by the respective enrichment factor of the class, as determined by Monot et al. A significant spike in the normalized frequency is seen for chromosome 3. This suggests chromosome 3 is a hazard zone for TSG disruption by L1 activity."
   ]
  },
  {
   "cell_type": "code",
   "execution_count": 12,
   "metadata": {},
   "outputs": [],
   "source": [
    "tsgden<-rep(0,24)\n",
    "for (i in 1:24){\n",
    "    chrno<-strsplit(names(Hsapiens)[i],\"chr\")[[1]][2]\n",
    "    chrmlen <- length(Hsapiens[[i]])\n",
    "    tsgden[i] <- length(which(tsgann$chrom==chrno))/chrmlen\n",
    "}\n",
    "names(tsgden)=names(Hsapiens)[1:24]"
   ]
  },
  {
   "cell_type": "code",
   "execution_count": 85,
   "metadata": {
    "scrolled": false
   },
   "outputs": [
    {
     "data": {
      "image/png": "[encoded data removed]",
      "text/plain": [
       "Plot with title “Fig. 2 - TSG density of each chromosome”"
      ]
     },
     "metadata": {},
     "output_type": "display_data"
    }
   ],
   "source": [
    "barplot(tsgden,ylab=\"bp of TSG / bp of Chrom\",xlab=\"Chromosome\",col=\"grey\")\n",
    "title(\"Fig. 2 - TSG density of each chromosome\")\n",
    "options(repr.plot.width=7, repr.plot.height=5)"
   ]
  },
  {
   "cell_type": "code",
   "execution_count": 102,
   "metadata": {},
   "outputs": [
    {
     "data": {
      "image/png": "[encoded data removed]",
      "text/plain": [
       "Plot with title “Fig. 3 - Relative density of SV sites in TSGs (after enrichment) of each chrom.”"
      ]
     },
     "metadata": {},
     "output_type": "display_data"
    }
   ],
   "source": [
    "barplot(t(chr_tsg_enrich/(max(rowSums(chr_tsg_enrich))*tsgden)),col=colscheme,ylab=\"Relative density\",xlab=\"Chromosome\")\n",
    "legend(\"topright\",  fill=colscheme, c(\"CT\",\"CL\",\"OT\",\"OL\")  );\n",
    "title(\"Fig. 3 - Relative density of SV sites in TSGs (after enrichment) of each chrom.\")\n",
    "options(repr.plot.width=7, repr.plot.height=5)"
   ]
  },
  {
   "cell_type": "markdown",
   "metadata": {},
   "source": [
    "For the plot above, the values from Fig. 1 were further normalized (divided) by the chromosome TSG densities (Fig. 2), to reveal the relative density of SV sites of TSGs within each chromosome.\n",
    "\n",
    "Above we can see that the TSGs of chromosomes 2,3,4 are dense with endonuclease sites. However, as shown in Fig. 2, chromosomes 2 and 4 contain less TSG region than chromosome 3. The moderate TSG density and high SV density of TSGs make chromosome 3 a likely place for an L1 to interfere with a TSG."
   ]
  },
  {
   "cell_type": "code",
   "execution_count": 103,
   "metadata": {
    "scrolled": false
   },
   "outputs": [
    {
     "data": {
      "image/png": "[encoded data removed]",
      "text/plain": [
       "Plot with title “Fig. 4 - SV site category distribution \n",
       "within TSGs over hg38 chromosomes”"
      ]
     },
     "metadata": {},
     "output_type": "display_data"
    }
   ],
   "source": [
    "tsg_sv_dist = chr_tsg_enrich/rowSums(chr_tsg_enrich)\n",
    "barplot(t(tsg_sv_dist),col=colscheme,ylab=\"Fraction of sites\",xlab=\"Chromosome\")\n",
    "legend(\"topright\",  fill=colscheme, c(\"CT\",\"CL\",\"OT\",\"OL\")  );\n",
    "title(\"Fig. 4 - SV site category distribution \n",
    "within TSGs over hg38 chromosomes\")\n",
    "options(repr.plot.width=7, repr.plot.height=5)"
   ]
  },
  {
   "cell_type": "markdown",
   "metadata": {},
   "source": [
    "The distribution of SV site classes amongst the TSGs of each chromosomes appears to contain no significant outliers."
   ]
  },
  {
   "cell_type": "code",
   "execution_count": 16,
   "metadata": {},
   "outputs": [
    {
     "data": {
      "text/plain": [
       "  A DNAStringSet instance of length 971\n",
       "        width seq\n",
       "  [1]  118559 GGGACTCGGACTCGCTCCTGGGCGAGCTGAAA...TCTAATTAAATGCCATGGATTTTCTTTCTGT\n",
       "  [2]  544443 AGGAGTACACAATATAAATGCTTTATTGCTAG...CTTGCCATGGAGCCAATGGAGCTTAGGTGTC\n",
       "  [3]   14914 AAGAAGGTGCCATCTAGGAAGCAGGAAGCAGG...AAATAAAGCATTTTGTTAAAAAGAAAAGTCT\n",
       "  [4]   88019 GATGAACCCTTGTCAGGGGGCCGTGTCTGCGG...TTTCTATTTTAATAAAAATAATTTTTATATG\n",
       "  [5]   25627 TATGGCTGTTATGCTTTTAATGGAAGCAGATA...CGGGTCAGCCAGAAGCCCTTGACTGCCCTCT\n",
       "  ...     ... ...\n",
       "[967]   54680 CCAGGTTCCATCAGGTTTTTAATTGTACATCA...GAGAGGGGAGGACGGATCTGGCTGGCGGAAG\n",
       "[968]    4416 TTTTGTTTGCTCTGAATTTATTGCGAGTGAAA...CCTCCTCTCCCTCCCTAGCTTTCTGTCTCCT\n",
       "[969]    9003 GAAATCTGGAAAGCTCATTTATCTCTTTTTCT...TTCCTGAGAAATACAACCGGAAGCAAATTGC\n",
       "[970]   10766 ATTGGCTAGGCCAGGGCGCCTGCGCGGCGGGG...AACTTGGGGCAATTTGCAGTTTGGAAACCTG\n",
       "[971]    6016 AACGCGGGAAGCAGGGGCGGGGCCTCTGGTGG...AGCTCATTAAAAAAATGTGCCTAGTTTTATA"
      ]
     },
     "metadata": {},
     "output_type": "display_data"
    }
   ],
   "source": [
    "gr <- GRanges(paste0(\"chr\",tsgann$chrom),IRanges(tsgann$start,tsgann$end))\n",
    "tsgs <- getSeq(Hsapiens,gr)\n",
    "tsgs"
   ]
  },
  {
   "cell_type": "code",
   "execution_count": 17,
   "metadata": {},
   "outputs": [],
   "source": [
    "source(\"mapSeq_SV.r\")\n",
    "tsg_counts <-  array(0,dim=c(nrow(tsgann),4)) # Allocate memory\n",
    "for (i in 1:nrow(tsgann)){\n",
    "    tmp <- mapSeq_SV(tsgs[[i]])\n",
    "    tsg_counts[i,]=c(length(which(!is.na(tmp$ict))),length(which(!is.na(tmp$icl))),length(which(!is.na(tmp$iot))),length(which(!is.na(tmp$iol))))\n",
    "}"
   ]
  },
  {
   "cell_type": "code",
   "execution_count": 94,
   "metadata": {},
   "outputs": [
    {
     "data": {
      "text/html": [
       "<table>\n",
       "<thead><tr><th></th><th scope=col>CT</th><th scope=col>CL</th><th scope=col>OT</th><th scope=col>OL</th></tr></thead>\n",
       "<tbody>\n",
       "\t<tr><th scope=row>AKAP12</th><td>1865 </td><td> 2109</td><td> 5245</td><td>12944</td></tr>\n",
       "\t<tr><th scope=row>ALDH1A2</th><td>5363 </td><td>10164</td><td>24271</td><td>68774</td></tr>\n",
       "\t<tr><th scope=row>C2orf40</th><td> 182 </td><td>  202</td><td>  655</td><td> 1443</td></tr>\n",
       "\t<tr><th scope=row>RECK</th><td>1310 </td><td> 1845</td><td> 4530</td><td>11447</td></tr>\n",
       "\t<tr><th scope=row>NCOA4</th><td> 291 </td><td>  517</td><td> 1060</td><td> 3266</td></tr>\n",
       "\t<tr><th scope=row>FAT4</th><td>1917 </td><td> 4389</td><td>10566</td><td>27346</td></tr>\n",
       "</tbody>\n",
       "</table>\n"
      ],
      "text/latex": [
       "\\begin{tabular}{r|llll}\n",
       "  & CT & CL & OT & OL\\\\\n",
       "\\hline\n",
       "\tAKAP12 & 1865  &  2109 &  5245 & 12944\\\\\n",
       "\tALDH1A2 & 5363  & 10164 & 24271 & 68774\\\\\n",
       "\tC2orf40 &  182  &   202 &   655 &  1443\\\\\n",
       "\tRECK & 1310  &  1845 &  4530 & 11447\\\\\n",
       "\tNCOA4 &  291  &   517 &  1060 &  3266\\\\\n",
       "\tFAT4 & 1917  &  4389 & 10566 & 27346\\\\\n",
       "\\end{tabular}\n"
      ],
      "text/markdown": [
       "\n",
       "| <!--/--> | CT | CL | OT | OL | \n",
       "|---|---|---|---|---|---|\n",
       "| AKAP12 | 1865  |  2109 |  5245 | 12944 | \n",
       "| ALDH1A2 | 5363  | 10164 | 24271 | 68774 | \n",
       "| C2orf40 |  182  |   202 |   655 |  1443 | \n",
       "| RECK | 1310  |  1845 |  4530 | 11447 | \n",
       "| NCOA4 |  291  |   517 |  1060 |  3266 | \n",
       "| FAT4 | 1917  |  4389 | 10566 | 27346 | \n",
       "\n",
       "\n"
      ],
      "text/plain": [
       "        CT   CL    OT    OL   \n",
       "AKAP12  1865  2109  5245 12944\n",
       "ALDH1A2 5363 10164 24271 68774\n",
       "C2orf40  182   202   655  1443\n",
       "RECK    1310  1845  4530 11447\n",
       "NCOA4    291   517  1060  3266\n",
       "FAT4    1917  4389 10566 27346"
      ]
     },
     "metadata": {},
     "output_type": "display_data"
    },
    {
     "data": {
      "image/png": "[encoded data removed]",
      "text/plain": [
       "Plot with title “Fig. 5 - TSG-specific SV site frequencies”"
      ]
     },
     "metadata": {},
     "output_type": "display_data"
    }
   ],
   "source": [
    "rownames(tsg_counts)<-tsg_table$GeneName[which(!is.na(tsg_inds))]\n",
    "barplot(t(tsg_counts),col=c(\"black\",\"black\",\"black\",\"black\"),ylab=\"Count\",xlab=\"TSG\",border=NA,beside=FALSE,ylim=c(0,400000))\n",
    "title(\"Fig. 5 - TSG-specific SV site frequencies\")\n",
    "options(repr.plot.width=7, repr.plot.height=4)\n",
    "colnames(tsg_counts)<-c(\"CT\",\"CL\",\"OT\",\"OL\")\n",
    "head(tsg_counts)"
   ]
  },
  {
   "cell_type": "markdown",
   "metadata": {},
   "source": [
    "The above graph depicts the total count of SV sites in the analyzed TSGs. The site frequency varies greatly, with several TSGs showing high outlying spikes in site frequency."
   ]
  },
  {
   "cell_type": "code",
   "execution_count": 113,
   "metadata": {},
   "outputs": [
    {
     "data": {
      "image/png": "[encoded data removed]",
      "text/plain": [
       "Plot with title “Fig. 6 - Category distribution of SV sites \n",
       "within tumor suppressor genes”"
      ]
     },
     "metadata": {},
     "output_type": "display_data"
    }
   ],
   "source": [
    "tsg_counts_norm = tsg_counts/rowSums(tsg_counts)\n",
    "barplot(t(tsg_counts_norm),col=colscheme,ylab=\"Fraction of sites\",xlab=\"TSG\",border=NA)\n",
    "legend(\"topright\",  fill=colscheme, c(\"CT\",\"CL\",\"OT\",\"OL\")  );\n",
    "title(\"Fig. 6 - Category distribution of SV sites \n",
    "within tumor suppressor genes\")\n",
    "options(repr.plot.width=7, repr.plot.height=5)"
   ]
  },
  {
   "cell_type": "markdown",
   "metadata": {},
   "source": [
    "Although difficult to visualize without aliasing, the distribution of SV site classes appears to be reasonably consistent across the TSGs."
   ]
  },
  {
   "cell_type": "markdown",
   "metadata": {},
   "source": [
    "We will now focus on the APC gene."
   ]
  },
  {
   "cell_type": "code",
   "execution_count": 39,
   "metadata": {},
   "outputs": [
    {
     "data": {
      "text/html": [
       "'APC'"
      ],
      "text/latex": [
       "'APC'"
      ],
      "text/markdown": [
       "'APC'"
      ],
      "text/plain": [
       "[1] \"APC\""
      ]
     },
     "metadata": {},
     "output_type": "display_data"
    }
   ],
   "source": [
    "tsg_table$GeneName[34]"
   ]
  },
  {
   "cell_type": "code",
   "execution_count": 38,
   "metadata": {},
   "outputs": [
    {
     "data": {
      "text/html": [
       "<strong>87%:</strong> 190538.7"
      ],
      "text/latex": [
       "\\textbf{87\\textbackslash{}\\%:} 190538.7"
      ],
      "text/markdown": [
       "**87%:** 190538.7"
      ],
      "text/plain": [
       "     87% \n",
       "190538.7 "
      ]
     },
     "metadata": {},
     "output_type": "display_data"
    }
   ],
   "source": [
    "quantile(width(tsgs), c(.87) )"
   ]
  },
  {
   "cell_type": "markdown",
   "metadata": {},
   "source": [
    "The length of APC gene is at approximately the 87th percentile of the lengths of TSGs located."
   ]
  },
  {
   "cell_type": "code",
   "execution_count": 116,
   "metadata": {},
   "outputs": [
    {
     "data": {
      "text/html": [
       "'APC'"
      ],
      "text/latex": [
       "'APC'"
      ],
      "text/markdown": [
       "'APC'"
      ],
      "text/plain": [
       "[1] \"APC\""
      ]
     },
     "metadata": {},
     "output_type": "display_data"
    },
    {
     "name": "stdout",
     "output_type": "stream",
     "text": [
      "SV site category distribution in APC before and after enrichment"
     ]
    },
    {
     "data": {
      "image/png": "[encoded data removed]",
      "text/plain": [
       "plot without title"
      ]
     },
     "metadata": {},
     "output_type": "display_data"
    }
   ],
   "source": [
    "rownames(tsg_counts)[33]\n",
    "par(mfrow=c(1,2))\n",
    "cat(\"SV site category distribution in APC before and after enrichment\")\n",
    "barplot(tsg_counts[33,],ylab = \"Counts\",xlab=\"SV class\",col=colscheme)\n",
    "barplot(tsg_counts[33,]*c(11.55,7.95,1.25,1.00)/max(tsg_counts[33,]*c(11.55,7.95,1.25,1.00)),ylab=\"Normalized Freq.\",xlab=\"SV Class\",col=colscheme)\n",
    "options(repr.plot.width=7, repr.plot.height=3)"
   ]
  },
  {
   "cell_type": "code",
   "execution_count": 74,
   "metadata": {},
   "outputs": [
    {
     "data": {
      "text/html": [
       "<strong>APC:</strong> 32108"
      ],
      "text/latex": [
       "\\textbf{APC:} 32108"
      ],
      "text/markdown": [
       "**APC:** 32108"
      ],
      "text/plain": [
       "  APC \n",
       "32108 "
      ]
     },
     "metadata": {},
     "output_type": "display_data"
    }
   ],
   "source": [
    "nsites = rowSums(tsg_counts)\n",
    "nsites[33]"
   ]
  },
  {
   "cell_type": "code",
   "execution_count": 82,
   "metadata": {},
   "outputs": [
    {
     "data": {
      "text/html": [
       "<strong>84%:</strong> 30564.4"
      ],
      "text/latex": [
       "\\textbf{84\\textbackslash{}\\%:} 30564.4"
      ],
      "text/markdown": [
       "**84%:** 30564.4"
      ],
      "text/plain": [
       "    84% \n",
       "30564.4 "
      ]
     },
     "metadata": {},
     "output_type": "display_data"
    }
   ],
   "source": [
    "quantile(nsites,c(0.84))"
   ]
  },
  {
   "cell_type": "markdown",
   "metadata": {},
   "source": [
    "The APC gene is above the 84th percentile of the number of SV sites amongst the analyzed TSGs. This makes it a notably strong candidate site for L1 insertion."
   ]
  },
  {
   "cell_type": "markdown",
   "metadata": {},
   "source": [
    "Below we list the TSGs with a number of endonuclease sites within the 80th percentile."
   ]
  },
  {
   "cell_type": "code",
   "execution_count": 109,
   "metadata": {},
   "outputs": [
    {
     "data": {
      "text/html": [
       "<dl class=dl-horizontal>\n",
       "\t<dt>ALDH1A2</dt>\n",
       "\t\t<dd>108572</dd>\n",
       "\t<dt>FAT4</dt>\n",
       "\t\t<dd>44218</dd>\n",
       "\t<dt>TGFBR3</dt>\n",
       "\t\t<dd>43862</dd>\n",
       "\t<dt>SMARCA2</dt>\n",
       "\t\t<dd>44621</dd>\n",
       "\t<dt>BMPR1A</dt>\n",
       "\t\t<dd>37929</dd>\n",
       "\t<dt>MAPK10</dt>\n",
       "\t\t<dd>134985</dd>\n",
       "\t<dt>PCDH9</dt>\n",
       "\t\t<dd>233317</dd>\n",
       "\t<dt>LIFR</dt>\n",
       "\t\t<dd>28301</dd>\n",
       "\t<dt>APC</dt>\n",
       "\t\t<dd>32108</dd>\n",
       "\t<dt>RNF180</dt>\n",
       "\t\t<dd>49010</dd>\n",
       "\t<dt>EYA4</dt>\n",
       "\t\t<dd>67142</dd>\n",
       "\t<dt>SYNPO2</dt>\n",
       "\t\t<dd>46946</dd>\n",
       "\t<dt>PRDM5</dt>\n",
       "\t\t<dd>54168</dd>\n",
       "\t<dt>ZMYND11</dt>\n",
       "\t\t<dd>27497</dd>\n",
       "\t<dt>SLIT2</dt>\n",
       "\t\t<dd>87639</dd>\n",
       "\t<dt>L3MBTL4</dt>\n",
       "\t\t<dd>97260</dd>\n",
       "\t<dt>TSC22D1</dt>\n",
       "\t\t<dd>33700</dd>\n",
       "\t<dt>UNC5C</dt>\n",
       "\t\t<dd>87935</dd>\n",
       "\t<dt>PIAS1</dt>\n",
       "\t\t<dd>33966</dd>\n",
       "\t<dt>FAM172A</dt>\n",
       "\t\t<dd>117906</dd>\n",
       "\t<dt>ZBTB16</dt>\n",
       "\t\t<dd>28685</dd>\n",
       "\t<dt>SPTBN1</dt>\n",
       "\t\t<dd>40148</dd>\n",
       "\t<dt>BMPR2</dt>\n",
       "\t\t<dd>40287</dd>\n",
       "\t<dt>RARB</dt>\n",
       "\t\t<dd>87819</dd>\n",
       "\t<dt>RAP1A</dt>\n",
       "\t\t<dd>37957</dd>\n",
       "\t<dt>PTEN</dt>\n",
       "\t\t<dd>27016</dd>\n",
       "\t<dt>RTN4</dt>\n",
       "\t\t<dd>31536</dd>\n",
       "\t<dt>PRKCE</dt>\n",
       "\t\t<dd>91618</dd>\n",
       "\t<dt>PBRM1</dt>\n",
       "\t\t<dd>29399</dd>\n",
       "\t<dt>DDR2</dt>\n",
       "\t\t<dd>31106</dd>\n",
       "\t<dt>NTRK3</dt>\n",
       "\t\t<dd>63913</dd>\n",
       "\t<dt>RBMS3</dt>\n",
       "\t\t<dd>334027</dd>\n",
       "\t<dt>GPC3</dt>\n",
       "\t\t<dd>94584</dd>\n",
       "\t<dt>CADM2</dt>\n",
       "\t\t<dd>287101</dd>\n",
       "\t<dt>SASH1</dt>\n",
       "\t\t<dd>53119</dd>\n",
       "\t<dt>KANK1</dt>\n",
       "\t\t<dd>53967</dd>\n",
       "\t<dt>EPB41L3</dt>\n",
       "\t\t<dd>50344</dd>\n",
       "\t<dt>FOXO1</dt>\n",
       "\t\t<dd>37031</dd>\n",
       "\t<dt>UNC5D</dt>\n",
       "\t\t<dd>121750</dd>\n",
       "\t<dt>PACRG</dt>\n",
       "\t\t<dd>126130</dd>\n",
       "\t<dt>RASSF8</dt>\n",
       "\t\t<dd>27517</dd>\n",
       "\t<dt>ABCG2</dt>\n",
       "\t\t<dd>28429</dd>\n",
       "\t<dt>STARD13</dt>\n",
       "\t\t<dd>49071</dd>\n",
       "\t<dt>MCPH1</dt>\n",
       "\t\t<dd>47319</dd>\n",
       "\t<dt>THRB</dt>\n",
       "\t\t<dd>82149</dd>\n",
       "\t<dt>TCF4</dt>\n",
       "\t\t<dd>100827</dd>\n",
       "\t<dt>MAP2K4</dt>\n",
       "\t\t<dd>28608</dd>\n",
       "\t<dt>RPS6KA2</dt>\n",
       "\t\t<dd>80563</dd>\n",
       "\t<dt>HACE1</dt>\n",
       "\t\t<dd>30972</dd>\n",
       "\t<dt>MTUS1</dt>\n",
       "\t\t<dd>32130</dd>\n",
       "\t<dt>CACNA2D3</dt>\n",
       "\t\t<dd>180334</dd>\n",
       "\t<dt>PPP2R5C</dt>\n",
       "\t\t<dd>30112</dd>\n",
       "\t<dt>RNF111</dt>\n",
       "\t\t<dd>50793</dd>\n",
       "\t<dt>WWOX</dt>\n",
       "\t\t<dd>209945</dd>\n",
       "\t<dt>PLCE1</dt>\n",
       "\t\t<dd>59065</dd>\n",
       "\t<dt>LSAMP</dt>\n",
       "\t\t<dd>308093</dd>\n",
       "\t<dt>SETD2</dt>\n",
       "\t\t<dd>31387</dd>\n",
       "\t<dt>GRIN2A</dt>\n",
       "\t\t<dd>80130</dd>\n",
       "\t<dt>RASSF3</dt>\n",
       "\t\t<dd>35291</dd>\n",
       "\t<dt>RPS6KA6</dt>\n",
       "\t\t<dd>32325</dd>\n",
       "\t<dt>FOXP1</dt>\n",
       "\t\t<dd>128989</dd>\n",
       "\t<dt>SSBP2</dt>\n",
       "\t\t<dd>82700</dd>\n",
       "\t<dt>ARHGEF12</dt>\n",
       "\t\t<dd>35551</dd>\n",
       "\t<dt>PDS5B</dt>\n",
       "\t\t<dd>47049</dd>\n",
       "\t<dt>PLA2R1</dt>\n",
       "\t\t<dd>28064</dd>\n",
       "\t<dt>ERBB4</dt>\n",
       "\t\t<dd>290324</dd>\n",
       "\t<dt>EPHA3</dt>\n",
       "\t\t<dd>94650</dd>\n",
       "\t<dt>PPM1L</dt>\n",
       "\t\t<dd>71392</dd>\n",
       "\t<dt>YAP1</dt>\n",
       "\t\t<dd>27632</dd>\n",
       "\t<dt>DLC1</dt>\n",
       "\t\t<dd>115956</dd>\n",
       "\t<dt>NUMB</dt>\n",
       "\t\t<dd>39292</dd>\n",
       "\t<dt>KDM6A</dt>\n",
       "\t\t<dd>54433</dd>\n",
       "\t<dt>TCF7L2</dt>\n",
       "\t\t<dd>39621</dd>\n",
       "\t<dt>ST5</dt>\n",
       "\t\t<dd>37155</dd>\n",
       "\t<dt>CSMD1</dt>\n",
       "\t\t<dd>451218</dd>\n",
       "\t<dt>KMT2C</dt>\n",
       "\t\t<dd>68059</dd>\n",
       "\t<dt>PTPRD</dt>\n",
       "\t\t<dd>559459</dd>\n",
       "\t<dt>PTPN13</dt>\n",
       "\t\t<dd>53254</dd>\n",
       "\t<dt>PDSS2</dt>\n",
       "\t\t<dd>65543</dd>\n",
       "\t<dt>PRKCB</dt>\n",
       "\t\t<dd>68063</dd>\n",
       "\t<dt>PPARG</dt>\n",
       "\t\t<dd>32541</dd>\n",
       "\t<dt>LRP1B</dt>\n",
       "\t\t<dd>473487</dd>\n",
       "\t<dt>NOTCH2</dt>\n",
       "\t\t<dd>33067</dd>\n",
       "\t<dt>MME</dt>\n",
       "\t\t<dd>36630</dd>\n",
       "\t<dt>SMAD2</dt>\n",
       "\t\t<dd>28344</dd>\n",
       "\t<dt>CTNNA3</dt>\n",
       "\t\t<dd>427890</dd>\n",
       "\t<dt>CADM1</dt>\n",
       "\t\t<dd>73594</dd>\n",
       "\t<dt>TMEFF2</dt>\n",
       "\t\t<dd>59487</dd>\n",
       "\t<dt>GPC5</dt>\n",
       "\t\t<dd>353978</dd>\n",
       "\t<dt>ESR1</dt>\n",
       "\t\t<dd>100401</dd>\n",
       "\t<dt>DMD</dt>\n",
       "\t\t<dd>524219</dd>\n",
       "\t<dt>BRINP1</dt>\n",
       "\t\t<dd>42482</dd>\n",
       "\t<dt>DACH1</dt>\n",
       "\t\t<dd>110076</dd>\n",
       "\t<dt>PRICKLE1</dt>\n",
       "\t\t<dd>27264</dd>\n",
       "\t<dt>PTPRT</dt>\n",
       "\t\t<dd>205019</dd>\n",
       "\t<dt>IQGAP2</dt>\n",
       "\t\t<dd>62740</dd>\n",
       "\t<dt>UBE4B</dt>\n",
       "\t\t<dd>27136</dd>\n",
       "\t<dt>RASAL2</dt>\n",
       "\t\t<dd>91366</dd>\n",
       "\t<dt>IFT88</dt>\n",
       "\t\t<dd>27616</dd>\n",
       "\t<dt>UVRAG</dt>\n",
       "\t\t<dd>72442</dd>\n",
       "\t<dt>SP100</dt>\n",
       "\t\t<dd>28634</dd>\n",
       "\t<dt>ROBO1</dt>\n",
       "\t\t<dd>288759</dd>\n",
       "\t<dt>HIVEP3</dt>\n",
       "\t\t<dd>81550</dd>\n",
       "\t<dt>RB1</dt>\n",
       "\t\t<dd>43080</dd>\n",
       "\t<dt>PTPRC</dt>\n",
       "\t\t<dd>30778</dd>\n",
       "\t<dt>ADAMTS9</dt>\n",
       "\t\t<dd>35592</dd>\n",
       "\t<dt>TET2</dt>\n",
       "\t\t<dd>32189</dd>\n",
       "\t<dt>ROR2</dt>\n",
       "\t\t<dd>67899</dd>\n",
       "\t<dt>NRF1</dt>\n",
       "\t\t<dd>29939</dd>\n",
       "\t<dt>NEDD4</dt>\n",
       "\t\t<dd>37895</dd>\n",
       "\t<dt>ATM</dt>\n",
       "\t\t<dd>33704</dd>\n",
       "\t<dt>ZFHX3</dt>\n",
       "\t\t<dd>45561</dd>\n",
       "\t<dt>MAP3K4</dt>\n",
       "\t\t<dd>27804</dd>\n",
       "\t<dt>MCC</dt>\n",
       "\t\t<dd>90974</dd>\n",
       "\t<dt>HIVEP1</dt>\n",
       "\t\t<dd>34466</dd>\n",
       "\t<dt>PHLPP1</dt>\n",
       "\t\t<dd>57940</dd>\n",
       "\t<dt>KIF1B</dt>\n",
       "\t\t<dd>34636</dd>\n",
       "\t<dt>FBXL13</dt>\n",
       "\t\t<dd>55585</dd>\n",
       "\t<dt>ZBTB7C</dt>\n",
       "\t\t<dd>58423</dd>\n",
       "\t<dt>EFNA5</dt>\n",
       "\t\t<dd>64995</dd>\n",
       "\t<dt>DLG1</dt>\n",
       "\t\t<dd>62821</dd>\n",
       "\t<dt>DCC</dt>\n",
       "\t\t<dd>273918</dd>\n",
       "\t<dt>DAPK1</dt>\n",
       "\t\t<dd>35387</dd>\n",
       "\t<dt>CREBBP</dt>\n",
       "\t\t<dd>27876</dd>\n",
       "\t<dt>CFTR</dt>\n",
       "\t\t<dd>58574</dd>\n",
       "\t<dt>CDK6</dt>\n",
       "\t\t<dd>51537</dd>\n",
       "\t<dt>CDH4</dt>\n",
       "\t\t<dd>80230</dd>\n",
       "\t<dt>SRGAP3</dt>\n",
       "\t\t<dd>62915</dd>\n",
       "\t<dt>RB1CC1</dt>\n",
       "\t\t<dd>28686</dd>\n",
       "\t<dt>ARHGAP29</dt>\n",
       "\t\t<dd>28264</dd>\n",
       "\t<dt>PTPRK</dt>\n",
       "\t\t<dd>135341</dd>\n",
       "\t<dt>VPS53</dt>\n",
       "\t\t<dd>34784</dd>\n",
       "\t<dt>DCDC2</dt>\n",
       "\t\t<dd>41220</dd>\n",
       "\t<dt>OPCML</dt>\n",
       "\t\t<dd>213215</dd>\n",
       "\t<dt>HIPK2</dt>\n",
       "\t\t<dd>35585</dd>\n",
       "\t<dt>SGMS1</dt>\n",
       "\t\t<dd>68425</dd>\n",
       "\t<dt>SMCHD1</dt>\n",
       "\t\t<dd>36071</dd>\n",
       "\t<dt>CAMTA1</dt>\n",
       "\t\t<dd>145547</dd>\n",
       "\t<dt>ZHX2</dt>\n",
       "\t\t<dd>30625</dd>\n",
       "\t<dt>FHIT</dt>\n",
       "\t\t<dd>321909</dd>\n",
       "\t<dt>EXT1</dt>\n",
       "\t\t<dd>63179</dd>\n",
       "\t<dt>LMNTD1</dt>\n",
       "\t\t<dd>53585</dd>\n",
       "\t<dt>CUX1</dt>\n",
       "\t\t<dd>71211</dd>\n",
       "\t<dt>CDH13</dt>\n",
       "\t\t<dd>216409</dd>\n",
       "\t<dt>MTSS1</dt>\n",
       "\t\t<dd>29631</dd>\n",
       "\t<dt>TP63</dt>\n",
       "\t\t<dd>61903</dd>\n",
       "\t<dt>CDC73</dt>\n",
       "\t\t<dd>32572</dd>\n",
       "\t<dt>PTPRJ</dt>\n",
       "\t\t<dd>32602</dd>\n",
       "\t<dt>FBXW7</dt>\n",
       "\t\t<dd>53359</dd>\n",
       "\t<dt>PLD1</dt>\n",
       "\t\t<dd>46275</dd>\n",
       "\t<dt>NPAS2</dt>\n",
       "\t\t<dd>29012</dd>\n",
       "\t<dt>NF1</dt>\n",
       "\t\t<dd>67053</dd>\n",
       "\t<dt>MTAP</dt>\n",
       "\t\t<dd>28188</dd>\n",
       "\t<dt>FRK</dt>\n",
       "\t\t<dd>30322</dd>\n",
       "\t<dt>NEDD4L</dt>\n",
       "\t\t<dd>65779</dd>\n",
       "\t<dt>IKZF2</dt>\n",
       "\t\t<dd>38278</dd>\n",
       "\t<dt>FAT1</dt>\n",
       "\t\t<dd>27295</dd>\n",
       "\t<dt>EXTL3</dt>\n",
       "\t\t<dd>27926</dd>\n",
       "\t<dt>ESR2</dt>\n",
       "\t\t<dd>50387</dd>\n",
       "\t<dt>EPB41</dt>\n",
       "\t\t<dd>46376</dd>\n",
       "\t<dt>CTNNA2</dt>\n",
       "\t\t<dd>318165</dd>\n",
       "\t<dt>PLXNC1</dt>\n",
       "\t\t<dd>28465</dd>\n",
       "\t<dt>INPP4B</dt>\n",
       "\t\t<dd>195281</dd>\n",
       "\t<dt>MYO18B</dt>\n",
       "\t\t<dd>45059</dd>\n",
       "\t<dt>PPP2R2C</dt>\n",
       "\t\t<dd>29199</dd>\n",
       "\t<dt>ESRRB</dt>\n",
       "\t\t<dd>26885</dd>\n",
       "\t<dt>RBM6</dt>\n",
       "\t\t<dd>29230</dd>\n",
       "\t<dt>CDH11</dt>\n",
       "\t\t<dd>37092</dd>\n",
       "\t<dt>ST7</dt>\n",
       "\t\t<dd>58983</dd>\n",
       "\t<dt>SMARCC1</dt>\n",
       "\t\t<dd>40138</dd>\n",
       "\t<dt>RBBP8</dt>\n",
       "\t\t<dd>51964</dd>\n",
       "\t<dt>ATR</dt>\n",
       "\t\t<dd>30019</dd>\n",
       "\t<dt>PAX5</dt>\n",
       "\t\t<dd>28158</dd>\n",
       "\t<dt>PAWR</dt>\n",
       "\t\t<dd>27665</dd>\n",
       "\t<dt>CNTNAP2</dt>\n",
       "\t\t<dd>525141</dd>\n",
       "\t<dt>MCM9</dt>\n",
       "\t\t<dd>26806</dd>\n",
       "\t<dt>POU6F2</dt>\n",
       "\t\t<dd>109798</dd>\n",
       "\t<dt>EGLN3</dt>\n",
       "\t\t<dd>105727</dd>\n",
       "\t<dt>DLEU1</dt>\n",
       "\t\t<dd>136042</dd>\n",
       "\t<dt>TRIM24</dt>\n",
       "\t\t<dd>28440</dd>\n",
       "\t<dt>RUNX2</dt>\n",
       "\t\t<dd>69758</dd>\n",
       "\t<dt>ZIC1</dt>\n",
       "\t\t<dd>26671</dd>\n",
       "\t<dt>RFWD2</dt>\n",
       "\t\t<dd>64200</dd>\n",
       "\t<dt>NRCAM</dt>\n",
       "\t\t<dd>67101</dd>\n",
       "\t<dt>GSK3B</dt>\n",
       "\t\t<dd>64521</dd>\n",
       "\t<dt>EXT2</dt>\n",
       "\t\t<dd>30803</dd>\n",
       "\t<dt>ETV6</dt>\n",
       "\t\t<dd>44961</dd>\n",
       "\t<dt>ARID2</dt>\n",
       "\t\t<dd>43836</dd>\n",
       "\t<dt>ADAMTS18</dt>\n",
       "\t\t<dd>38931</dd>\n",
       "\t<dt>BASP1</dt>\n",
       "\t\t<dd>39988</dd>\n",
       "\t<dt>DLEU2</dt>\n",
       "\t\t<dd>33028</dd>\n",
       "\t<dt>RUNX1</dt>\n",
       "\t\t<dd>236148</dd>\n",
       "\t<dt>NDST4</dt>\n",
       "\t\t<dd>71739</dd>\n",
       "\t<dt>MSH2</dt>\n",
       "\t\t<dd>28214</dd>\n",
       "</dl>\n"
      ],
      "text/latex": [
       "\\begin{description*}\n",
       "\\item[ALDH1A2] 108572\n",
       "\\item[FAT4] 44218\n",
       "\\item[TGFBR3] 43862\n",
       "\\item[SMARCA2] 44621\n",
       "\\item[BMPR1A] 37929\n",
       "\\item[MAPK10] 134985\n",
       "\\item[PCDH9] 233317\n",
       "\\item[LIFR] 28301\n",
       "\\item[APC] 32108\n",
       "\\item[RNF180] 49010\n",
       "\\item[EYA4] 67142\n",
       "\\item[SYNPO2] 46946\n",
       "\\item[PRDM5] 54168\n",
       "\\item[ZMYND11] 27497\n",
       "\\item[SLIT2] 87639\n",
       "\\item[L3MBTL4] 97260\n",
       "\\item[TSC22D1] 33700\n",
       "\\item[UNC5C] 87935\n",
       "\\item[PIAS1] 33966\n",
       "\\item[FAM172A] 117906\n",
       "\\item[ZBTB16] 28685\n",
       "\\item[SPTBN1] 40148\n",
       "\\item[BMPR2] 40287\n",
       "\\item[RARB] 87819\n",
       "\\item[RAP1A] 37957\n",
       "\\item[PTEN] 27016\n",
       "\\item[RTN4] 31536\n",
       "\\item[PRKCE] 91618\n",
       "\\item[PBRM1] 29399\n",
       "\\item[DDR2] 31106\n",
       "\\item[NTRK3] 63913\n",
       "\\item[RBMS3] 334027\n",
       "\\item[GPC3] 94584\n",
       "\\item[CADM2] 287101\n",
       "\\item[SASH1] 53119\n",
       "\\item[KANK1] 53967\n",
       "\\item[EPB41L3] 50344\n",
       "\\item[FOXO1] 37031\n",
       "\\item[UNC5D] 121750\n",
       "\\item[PACRG] 126130\n",
       "\\item[RASSF8] 27517\n",
       "\\item[ABCG2] 28429\n",
       "\\item[STARD13] 49071\n",
       "\\item[MCPH1] 47319\n",
       "\\item[THRB] 82149\n",
       "\\item[TCF4] 100827\n",
       "\\item[MAP2K4] 28608\n",
       "\\item[RPS6KA2] 80563\n",
       "\\item[HACE1] 30972\n",
       "\\item[MTUS1] 32130\n",
       "\\item[CACNA2D3] 180334\n",
       "\\item[PPP2R5C] 30112\n",
       "\\item[RNF111] 50793\n",
       "\\item[WWOX] 209945\n",
       "\\item[PLCE1] 59065\n",
       "\\item[LSAMP] 308093\n",
       "\\item[SETD2] 31387\n",
       "\\item[GRIN2A] 80130\n",
       "\\item[RASSF3] 35291\n",
       "\\item[RPS6KA6] 32325\n",
       "\\item[FOXP1] 128989\n",
       "\\item[SSBP2] 82700\n",
       "\\item[ARHGEF12] 35551\n",
       "\\item[PDS5B] 47049\n",
       "\\item[PLA2R1] 28064\n",
       "\\item[ERBB4] 290324\n",
       "\\item[EPHA3] 94650\n",
       "\\item[PPM1L] 71392\n",
       "\\item[YAP1] 27632\n",
       "\\item[DLC1] 115956\n",
       "\\item[NUMB] 39292\n",
       "\\item[KDM6A] 54433\n",
       "\\item[TCF7L2] 39621\n",
       "\\item[ST5] 37155\n",
       "\\item[CSMD1] 451218\n",
       "\\item[KMT2C] 68059\n",
       "\\item[PTPRD] 559459\n",
       "\\item[PTPN13] 53254\n",
       "\\item[PDSS2] 65543\n",
       "\\item[PRKCB] 68063\n",
       "\\item[PPARG] 32541\n",
       "\\item[LRP1B] 473487\n",
       "\\item[NOTCH2] 33067\n",
       "\\item[MME] 36630\n",
       "\\item[SMAD2] 28344\n",
       "\\item[CTNNA3] 427890\n",
       "\\item[CADM1] 73594\n",
       "\\item[TMEFF2] 59487\n",
       "\\item[GPC5] 353978\n",
       "\\item[ESR1] 100401\n",
       "\\item[DMD] 524219\n",
       "\\item[BRINP1] 42482\n",
       "\\item[DACH1] 110076\n",
       "\\item[PRICKLE1] 27264\n",
       "\\item[PTPRT] 205019\n",
       "\\item[IQGAP2] 62740\n",
       "\\item[UBE4B] 27136\n",
       "\\item[RASAL2] 91366\n",
       "\\item[IFT88] 27616\n",
       "\\item[UVRAG] 72442\n",
       "\\item[SP100] 28634\n",
       "\\item[ROBO1] 288759\n",
       "\\item[HIVEP3] 81550\n",
       "\\item[RB1] 43080\n",
       "\\item[PTPRC] 30778\n",
       "\\item[ADAMTS9] 35592\n",
       "\\item[TET2] 32189\n",
       "\\item[ROR2] 67899\n",
       "\\item[NRF1] 29939\n",
       "\\item[NEDD4] 37895\n",
       "\\item[ATM] 33704\n",
       "\\item[ZFHX3] 45561\n",
       "\\item[MAP3K4] 27804\n",
       "\\item[MCC] 90974\n",
       "\\item[HIVEP1] 34466\n",
       "\\item[PHLPP1] 57940\n",
       "\\item[KIF1B] 34636\n",
       "\\item[FBXL13] 55585\n",
       "\\item[ZBTB7C] 58423\n",
       "\\item[EFNA5] 64995\n",
       "\\item[DLG1] 62821\n",
       "\\item[DCC] 273918\n",
       "\\item[DAPK1] 35387\n",
       "\\item[CREBBP] 27876\n",
       "\\item[CFTR] 58574\n",
       "\\item[CDK6] 51537\n",
       "\\item[CDH4] 80230\n",
       "\\item[SRGAP3] 62915\n",
       "\\item[RB1CC1] 28686\n",
       "\\item[ARHGAP29] 28264\n",
       "\\item[PTPRK] 135341\n",
       "\\item[VPS53] 34784\n",
       "\\item[DCDC2] 41220\n",
       "\\item[OPCML] 213215\n",
       "\\item[HIPK2] 35585\n",
       "\\item[SGMS1] 68425\n",
       "\\item[SMCHD1] 36071\n",
       "\\item[CAMTA1] 145547\n",
       "\\item[ZHX2] 30625\n",
       "\\item[FHIT] 321909\n",
       "\\item[EXT1] 63179\n",
       "\\item[LMNTD1] 53585\n",
       "\\item[CUX1] 71211\n",
       "\\item[CDH13] 216409\n",
       "\\item[MTSS1] 29631\n",
       "\\item[TP63] 61903\n",
       "\\item[CDC73] 32572\n",
       "\\item[PTPRJ] 32602\n",
       "\\item[FBXW7] 53359\n",
       "\\item[PLD1] 46275\n",
       "\\item[NPAS2] 29012\n",
       "\\item[NF1] 67053\n",
       "\\item[MTAP] 28188\n",
       "\\item[FRK] 30322\n",
       "\\item[NEDD4L] 65779\n",
       "\\item[IKZF2] 38278\n",
       "\\item[FAT1] 27295\n",
       "\\item[EXTL3] 27926\n",
       "\\item[ESR2] 50387\n",
       "\\item[EPB41] 46376\n",
       "\\item[CTNNA2] 318165\n",
       "\\item[PLXNC1] 28465\n",
       "\\item[INPP4B] 195281\n",
       "\\item[MYO18B] 45059\n",
       "\\item[PPP2R2C] 29199\n",
       "\\item[ESRRB] 26885\n",
       "\\item[RBM6] 29230\n",
       "\\item[CDH11] 37092\n",
       "\\item[ST7] 58983\n",
       "\\item[SMARCC1] 40138\n",
       "\\item[RBBP8] 51964\n",
       "\\item[ATR] 30019\n",
       "\\item[PAX5] 28158\n",
       "\\item[PAWR] 27665\n",
       "\\item[CNTNAP2] 525141\n",
       "\\item[MCM9] 26806\n",
       "\\item[POU6F2] 109798\n",
       "\\item[EGLN3] 105727\n",
       "\\item[DLEU1] 136042\n",
       "\\item[TRIM24] 28440\n",
       "\\item[RUNX2] 69758\n",
       "\\item[ZIC1] 26671\n",
       "\\item[RFWD2] 64200\n",
       "\\item[NRCAM] 67101\n",
       "\\item[GSK3B] 64521\n",
       "\\item[EXT2] 30803\n",
       "\\item[ETV6] 44961\n",
       "\\item[ARID2] 43836\n",
       "\\item[ADAMTS18] 38931\n",
       "\\item[BASP1] 39988\n",
       "\\item[DLEU2] 33028\n",
       "\\item[RUNX1] 236148\n",
       "\\item[NDST4] 71739\n",
       "\\item[MSH2] 28214\n",
       "\\end{description*}\n"
      ],
      "text/markdown": [
       "ALDH1A2\n",
       ":   108572FAT4\n",
       ":   44218TGFBR3\n",
       ":   43862SMARCA2\n",
       ":   44621BMPR1A\n",
       ":   37929MAPK10\n",
       ":   134985PCDH9\n",
       ":   233317LIFR\n",
       ":   28301APC\n",
       ":   32108RNF180\n",
       ":   49010EYA4\n",
       ":   67142SYNPO2\n",
       ":   46946PRDM5\n",
       ":   54168ZMYND11\n",
       ":   27497SLIT2\n",
       ":   87639L3MBTL4\n",
       ":   97260TSC22D1\n",
       ":   33700UNC5C\n",
       ":   87935PIAS1\n",
       ":   33966FAM172A\n",
       ":   117906ZBTB16\n",
       ":   28685SPTBN1\n",
       ":   40148BMPR2\n",
       ":   40287RARB\n",
       ":   87819RAP1A\n",
       ":   37957PTEN\n",
       ":   27016RTN4\n",
       ":   31536PRKCE\n",
       ":   91618PBRM1\n",
       ":   29399DDR2\n",
       ":   31106NTRK3\n",
       ":   63913RBMS3\n",
       ":   334027GPC3\n",
       ":   94584CADM2\n",
       ":   287101SASH1\n",
       ":   53119KANK1\n",
       ":   53967EPB41L3\n",
       ":   50344FOXO1\n",
       ":   37031UNC5D\n",
       ":   121750PACRG\n",
       ":   126130RASSF8\n",
       ":   27517ABCG2\n",
       ":   28429STARD13\n",
       ":   49071MCPH1\n",
       ":   47319THRB\n",
       ":   82149TCF4\n",
       ":   100827MAP2K4\n",
       ":   28608RPS6KA2\n",
       ":   80563HACE1\n",
       ":   30972MTUS1\n",
       ":   32130CACNA2D3\n",
       ":   180334PPP2R5C\n",
       ":   30112RNF111\n",
       ":   50793WWOX\n",
       ":   209945PLCE1\n",
       ":   59065LSAMP\n",
       ":   308093SETD2\n",
       ":   31387GRIN2A\n",
       ":   80130RASSF3\n",
       ":   35291RPS6KA6\n",
       ":   32325FOXP1\n",
       ":   128989SSBP2\n",
       ":   82700ARHGEF12\n",
       ":   35551PDS5B\n",
       ":   47049PLA2R1\n",
       ":   28064ERBB4\n",
       ":   290324EPHA3\n",
       ":   94650PPM1L\n",
       ":   71392YAP1\n",
       ":   27632DLC1\n",
       ":   115956NUMB\n",
       ":   39292KDM6A\n",
       ":   54433TCF7L2\n",
       ":   39621ST5\n",
       ":   37155CSMD1\n",
       ":   451218KMT2C\n",
       ":   68059PTPRD\n",
       ":   559459PTPN13\n",
       ":   53254PDSS2\n",
       ":   65543PRKCB\n",
       ":   68063PPARG\n",
       ":   32541LRP1B\n",
       ":   473487NOTCH2\n",
       ":   33067MME\n",
       ":   36630SMAD2\n",
       ":   28344CTNNA3\n",
       ":   427890CADM1\n",
       ":   73594TMEFF2\n",
       ":   59487GPC5\n",
       ":   353978ESR1\n",
       ":   100401DMD\n",
       ":   524219BRINP1\n",
       ":   42482DACH1\n",
       ":   110076PRICKLE1\n",
       ":   27264PTPRT\n",
       ":   205019IQGAP2\n",
       ":   62740UBE4B\n",
       ":   27136RASAL2\n",
       ":   91366IFT88\n",
       ":   27616UVRAG\n",
       ":   72442SP100\n",
       ":   28634ROBO1\n",
       ":   288759HIVEP3\n",
       ":   81550RB1\n",
       ":   43080PTPRC\n",
       ":   30778ADAMTS9\n",
       ":   35592TET2\n",
       ":   32189ROR2\n",
       ":   67899NRF1\n",
       ":   29939NEDD4\n",
       ":   37895ATM\n",
       ":   33704ZFHX3\n",
       ":   45561MAP3K4\n",
       ":   27804MCC\n",
       ":   90974HIVEP1\n",
       ":   34466PHLPP1\n",
       ":   57940KIF1B\n",
       ":   34636FBXL13\n",
       ":   55585ZBTB7C\n",
       ":   58423EFNA5\n",
       ":   64995DLG1\n",
       ":   62821DCC\n",
       ":   273918DAPK1\n",
       ":   35387CREBBP\n",
       ":   27876CFTR\n",
       ":   58574CDK6\n",
       ":   51537CDH4\n",
       ":   80230SRGAP3\n",
       ":   62915RB1CC1\n",
       ":   28686ARHGAP29\n",
       ":   28264PTPRK\n",
       ":   135341VPS53\n",
       ":   34784DCDC2\n",
       ":   41220OPCML\n",
       ":   213215HIPK2\n",
       ":   35585SGMS1\n",
       ":   68425SMCHD1\n",
       ":   36071CAMTA1\n",
       ":   145547ZHX2\n",
       ":   30625FHIT\n",
       ":   321909EXT1\n",
       ":   63179LMNTD1\n",
       ":   53585CUX1\n",
       ":   71211CDH13\n",
       ":   216409MTSS1\n",
       ":   29631TP63\n",
       ":   61903CDC73\n",
       ":   32572PTPRJ\n",
       ":   32602FBXW7\n",
       ":   53359PLD1\n",
       ":   46275NPAS2\n",
       ":   29012NF1\n",
       ":   67053MTAP\n",
       ":   28188FRK\n",
       ":   30322NEDD4L\n",
       ":   65779IKZF2\n",
       ":   38278FAT1\n",
       ":   27295EXTL3\n",
       ":   27926ESR2\n",
       ":   50387EPB41\n",
       ":   46376CTNNA2\n",
       ":   318165PLXNC1\n",
       ":   28465INPP4B\n",
       ":   195281MYO18B\n",
       ":   45059PPP2R2C\n",
       ":   29199ESRRB\n",
       ":   26885RBM6\n",
       ":   29230CDH11\n",
       ":   37092ST7\n",
       ":   58983SMARCC1\n",
       ":   40138RBBP8\n",
       ":   51964ATR\n",
       ":   30019PAX5\n",
       ":   28158PAWR\n",
       ":   27665CNTNAP2\n",
       ":   525141MCM9\n",
       ":   26806POU6F2\n",
       ":   109798EGLN3\n",
       ":   105727DLEU1\n",
       ":   136042TRIM24\n",
       ":   28440RUNX2\n",
       ":   69758ZIC1\n",
       ":   26671RFWD2\n",
       ":   64200NRCAM\n",
       ":   67101GSK3B\n",
       ":   64521EXT2\n",
       ":   30803ETV6\n",
       ":   44961ARID2\n",
       ":   43836ADAMTS18\n",
       ":   38931BASP1\n",
       ":   39988DLEU2\n",
       ":   33028RUNX1\n",
       ":   236148NDST4\n",
       ":   71739MSH2\n",
       ":   28214\n",
       "\n"
      ],
      "text/plain": [
       " ALDH1A2     FAT4   TGFBR3  SMARCA2   BMPR1A   MAPK10    PCDH9     LIFR \n",
       "  108572    44218    43862    44621    37929   134985   233317    28301 \n",
       "     APC   RNF180     EYA4   SYNPO2    PRDM5  ZMYND11    SLIT2  L3MBTL4 \n",
       "   32108    49010    67142    46946    54168    27497    87639    97260 \n",
       " TSC22D1    UNC5C    PIAS1  FAM172A   ZBTB16   SPTBN1    BMPR2     RARB \n",
       "   33700    87935    33966   117906    28685    40148    40287    87819 \n",
       "   RAP1A     PTEN     RTN4    PRKCE    PBRM1     DDR2    NTRK3    RBMS3 \n",
       "   37957    27016    31536    91618    29399    31106    63913   334027 \n",
       "    GPC3    CADM2    SASH1    KANK1  EPB41L3    FOXO1    UNC5D    PACRG \n",
       "   94584   287101    53119    53967    50344    37031   121750   126130 \n",
       "  RASSF8    ABCG2  STARD13    MCPH1     THRB     TCF4   MAP2K4  RPS6KA2 \n",
       "   27517    28429    49071    47319    82149   100827    28608    80563 \n",
       "   HACE1    MTUS1 CACNA2D3  PPP2R5C   RNF111     WWOX    PLCE1    LSAMP \n",
       "   30972    32130   180334    30112    50793   209945    59065   308093 \n",
       "   SETD2   GRIN2A   RASSF3  RPS6KA6    FOXP1    SSBP2 ARHGEF12    PDS5B \n",
       "   31387    80130    35291    32325   128989    82700    35551    47049 \n",
       "  PLA2R1    ERBB4    EPHA3    PPM1L     YAP1     DLC1     NUMB    KDM6A \n",
       "   28064   290324    94650    71392    27632   115956    39292    54433 \n",
       "  TCF7L2      ST5    CSMD1    KMT2C    PTPRD   PTPN13    PDSS2    PRKCB \n",
       "   39621    37155   451218    68059   559459    53254    65543    68063 \n",
       "   PPARG    LRP1B   NOTCH2      MME    SMAD2   CTNNA3    CADM1   TMEFF2 \n",
       "   32541   473487    33067    36630    28344   427890    73594    59487 \n",
       "    GPC5     ESR1      DMD   BRINP1    DACH1 PRICKLE1    PTPRT   IQGAP2 \n",
       "  353978   100401   524219    42482   110076    27264   205019    62740 \n",
       "   UBE4B   RASAL2    IFT88    UVRAG    SP100    ROBO1   HIVEP3      RB1 \n",
       "   27136    91366    27616    72442    28634   288759    81550    43080 \n",
       "   PTPRC  ADAMTS9     TET2     ROR2     NRF1    NEDD4      ATM    ZFHX3 \n",
       "   30778    35592    32189    67899    29939    37895    33704    45561 \n",
       "  MAP3K4      MCC   HIVEP1   PHLPP1    KIF1B   FBXL13   ZBTB7C    EFNA5 \n",
       "   27804    90974    34466    57940    34636    55585    58423    64995 \n",
       "    DLG1      DCC    DAPK1   CREBBP     CFTR     CDK6     CDH4   SRGAP3 \n",
       "   62821   273918    35387    27876    58574    51537    80230    62915 \n",
       "  RB1CC1 ARHGAP29    PTPRK    VPS53    DCDC2    OPCML    HIPK2    SGMS1 \n",
       "   28686    28264   135341    34784    41220   213215    35585    68425 \n",
       "  SMCHD1   CAMTA1     ZHX2     FHIT     EXT1   LMNTD1     CUX1    CDH13 \n",
       "   36071   145547    30625   321909    63179    53585    71211   216409 \n",
       "   MTSS1     TP63    CDC73    PTPRJ    FBXW7     PLD1    NPAS2      NF1 \n",
       "   29631    61903    32572    32602    53359    46275    29012    67053 \n",
       "    MTAP      FRK   NEDD4L    IKZF2     FAT1    EXTL3     ESR2    EPB41 \n",
       "   28188    30322    65779    38278    27295    27926    50387    46376 \n",
       "  CTNNA2   PLXNC1   INPP4B   MYO18B  PPP2R2C    ESRRB     RBM6    CDH11 \n",
       "  318165    28465   195281    45059    29199    26885    29230    37092 \n",
       "     ST7  SMARCC1    RBBP8      ATR     PAX5     PAWR  CNTNAP2     MCM9 \n",
       "   58983    40138    51964    30019    28158    27665   525141    26806 \n",
       "  POU6F2    EGLN3    DLEU1   TRIM24    RUNX2     ZIC1    RFWD2    NRCAM \n",
       "  109798   105727   136042    28440    69758    26671    64200    67101 \n",
       "   GSK3B     EXT2     ETV6    ARID2 ADAMTS18    BASP1    DLEU2    RUNX1 \n",
       "   64521    30803    44961    43836    38931    39988    33028   236148 \n",
       "   NDST4     MSH2 \n",
       "   71739    28214 "
      ]
     },
     "metadata": {},
     "output_type": "display_data"
    }
   ],
   "source": [
    "nsites[nsites>quantile(nsites,c(0.80))]"
   ]
  },
  {
   "cell_type": "code",
   "execution_count": 111,
   "metadata": {},
   "outputs": [
    {
     "data": {
      "text/html": [
       "194"
      ],
      "text/latex": [
       "194"
      ],
      "text/markdown": [
       "194"
      ],
      "text/plain": [
       "[1] 194"
      ]
     },
     "metadata": {},
     "output_type": "display_data"
    }
   ],
   "source": [
    "length(nsites[nsites>quantile(nsites,c(0.80))])"
   ]
  },
  {
   "cell_type": "markdown",
   "metadata": {},
   "source": [
    "194 TSGs lie above the 80th percentile of number of endonuclease sites."
   ]
  },
  {
   "cell_type": "code",
   "execution_count": null,
   "metadata": {},
   "outputs": [],
   "source": []
  }
 ],
 "metadata": {
  "kernelspec": {
   "display_name": "R",
   "language": "R",
   "name": "ir"
  },
  "language_info": {
   "codemirror_mode": "r",
   "file_extension": ".r",
   "mimetype": "text/x-r-source",
   "name": "R",
   "pygments_lexer": "r",
   "version": "3.3.2"
  }
 },
 "nbformat": 4,
 "nbformat_minor": 2
}
