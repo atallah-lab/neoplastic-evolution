{
 "cells": [
  {
   "cell_type": "code",
   "execution_count": 23,
   "metadata": {},
   "outputs": [],
   "source": [
    "library(TxDb.Hsapiens.UCSC.hg38.knownGene)\n",
    "library(GenomicRanges)\n",
    "library(naturalsort)\n"
   ]
  },
  {
   "cell_type": "code",
   "execution_count": 2,
   "metadata": {},
   "outputs": [],
   "source": [
    "genes <- genes(TxDb.Hsapiens.UCSC.hg38.knownGene)"
   ]
  },
  {
   "cell_type": "code",
   "execution_count": 3,
   "metadata": {},
   "outputs": [
    {
     "data": {
      "text/plain": [
       "GRanges object with 6 ranges and 1 metadata column:\n",
       "            seqnames               ranges strand |     gene_id\n",
       "               <Rle>            <IRanges>  <Rle> | <character>\n",
       "          1    chr19 [58346806, 58362848]      - |           1\n",
       "         10     chr8 [18391245, 18401213]      + |          10\n",
       "        100    chr20 [44619522, 44651735]      - |         100\n",
       "       1000    chr18 [27950966, 28177481]      - |        1000\n",
       "  100008589    chr21 [ 8213888,  8401980]      + |   100008589\n",
       "  100009613    chr11 [70072434, 70075348]      - |   100009613\n",
       "  -------\n",
       "  seqinfo: 455 sequences (1 circular) from hg38 genome"
      ]
     },
     "metadata": {},
     "output_type": "display_data"
    }
   ],
   "source": [
    "head(genes)"
   ]
  },
  {
   "cell_type": "code",
   "execution_count": 4,
   "metadata": {},
   "outputs": [],
   "source": [
    "tsgs <- read.table(\"../data/Human_TSGs.txt\")\n",
    "tsgs <- tsgs[2:nrow(tsgs),]\n",
    "names(tsgs) <- c(\"GeneID\",\"GeneSymbol\")"
   ]
  },
  {
   "cell_type": "code",
   "execution_count": 6,
   "metadata": {},
   "outputs": [],
   "source": [
    "tsg_ranges<-c()\n",
    "unfound <- 0\n",
    "k<-1\n",
    "for (i in 1:nrow(tsgs)){ # Loop over TSGs\n",
    "    tmp <- genes[genes$gene_id==tsgs$GeneID[i]] # Get the row of genes matching current TSG\n",
    "    if (length(tmp) > 0) {\n",
    "        tsg_ranges$chrom[k] <- runValue(seqnames(tmp))\n",
    "        tsg_ranges$start[k] <- start(tmp)\n",
    "        tsg_ranges$end[k]   <- end(tmp)\n",
    "        k<-k+1\n",
    "    } else {unfound <- unfound+1}\n",
    "}\n",
    "tsg_ranges <- data."
   ]
  },
  {
   "cell_type": "code",
   "execution_count": 7,
   "metadata": {},
   "outputs": [
    {
     "name": "stdout",
     "output_type": "stream",
     "text": [
      "1166 out of 1217 tsgs were found"
     ]
    },
    {
     "data": {
      "text/html": [
       "95.8093672966311"
      ],
      "text/latex": [
       "95.8093672966311"
      ],
      "text/markdown": [
       "95.8093672966311"
      ],
      "text/plain": [
       "[1] 95.80937"
      ]
     },
     "metadata": {},
     "output_type": "display_data"
    }
   ],
   "source": [
    "cat(paste(nrow(tsgs)-unfound,'out of',nrow(tsgs),'tsgs were found'))\n",
    "(nrow(tsgs)-unfound)/nrow(tsgs)*100"
   ]
  },
  {
   "cell_type": "code",
   "execution_count": null,
   "metadata": {},
   "outputs": [],
   "source": [
    "tail(exann[exann$chrom=='chrY',])"
   ]
  },
  {
   "cell_type": "code",
   "execution_count": null,
   "metadata": {},
   "outputs": [],
   "source": [
    "exann <- exann[1:293790,]"
   ]
  },
  {
   "cell_type": "code",
   "execution_count": null,
   "metadata": {},
   "outputs": [],
   "source": [
    "tmp <- reduce(GRanges(seqnames=exann$chrom,IRanges(exann$start,exann$end)))\n",
    "exann <- c()\n",
    "exann$chrom <- seqnames(tmp)\n",
    "exann$start <- start(tmp)\n",
    "exann$end <- end(tmp)\n",
    "exann <- data.frame(exann)"
   ]
  },
  {
   "cell_type": "code",
   "execution_count": null,
   "metadata": {},
   "outputs": [],
   "source": [
    "save(exann,file='~/jackgl/sim-develop/data/exann.rda')"
   ]
  },
  {
   "cell_type": "code",
   "execution_count": null,
   "metadata": {},
   "outputs": [],
   "source": [
    "sum(exann$end-exann$start)/3e9"
   ]
  }
 ],
 "metadata": {
  "kernelspec": {
   "display_name": "R",
   "language": "R",
   "name": "ir"
  },
  "language_info": {
   "codemirror_mode": "r",
   "file_extension": ".r",
   "mimetype": "text/x-r-source",
   "name": "R",
   "pygments_lexer": "r",
   "version": "3.3.2"
  }
 },
 "nbformat": 4,
 "nbformat_minor": 2
}
