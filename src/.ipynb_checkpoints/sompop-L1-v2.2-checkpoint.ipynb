{
 "cells": [
  {
   "cell_type": "code",
   "execution_count": 1,
   "metadata": {},
   "outputs": [],
   "source": [
    "library(data.table)\n",
    "# library(pracma) # only needed for moving-average plot\n",
    "load('../data/cancer_type_pd_th25.rda') # probabilities of each mutation type\n",
    "load('../data/gene_pdt.rda')\n",
    "dftmp <- read.csv('~/jackgl/analyses/tcga_gene_lists/frequently_mutated_genes_TCGA_brain.csv')\n",
    "geneList <- as.vector(dftmp$Symbol) # \" \" \" \" \" for brain cancer\n",
    "rm(dftmp)"
   ]
  },
  {
   "cell_type": "code",
   "execution_count": 2,
   "metadata": {},
   "outputs": [
    {
     "data": {
      "text/html": [
       "<table>\n",
       "<thead><tr><th scope=col>chrom</th><th scope=col>geneSym</th><th scope=col>p</th><th scope=col>type</th></tr></thead>\n",
       "<tbody>\n",
       "\t<tr><td>1           </td><td>DDX11L1     </td><td>5.752612e-06</td><td>0           </td></tr>\n",
       "\t<tr><td>1           </td><td>WASH7P      </td><td>1.752652e-06</td><td>0           </td></tr>\n",
       "\t<tr><td>1           </td><td>MIR6859-1   </td><td>2.248431e-08</td><td>0           </td></tr>\n",
       "\t<tr><td>1           </td><td>MIR1302-2   </td><td>5.635693e-06</td><td>0           </td></tr>\n",
       "\t<tr><td>1           </td><td>FAM138A     </td><td>5.075834e-06</td><td>0           </td></tr>\n",
       "\t<tr><td>1           </td><td>OR4G4P      </td><td>1.019439e-05</td><td>0           </td></tr>\n",
       "</tbody>\n",
       "</table>\n"
      ],
      "text/latex": [
       "\\begin{tabular}{r|llll}\n",
       " chrom & geneSym & p & type\\\\\n",
       "\\hline\n",
       "\t 1            & DDX11L1      & 5.752612e-06 & 0           \\\\\n",
       "\t 1            & WASH7P       & 1.752652e-06 & 0           \\\\\n",
       "\t 1            & MIR6859-1    & 2.248431e-08 & 0           \\\\\n",
       "\t 1            & MIR1302-2    & 5.635693e-06 & 0           \\\\\n",
       "\t 1            & FAM138A      & 5.075834e-06 & 0           \\\\\n",
       "\t 1            & OR4G4P       & 1.019439e-05 & 0           \\\\\n",
       "\\end{tabular}\n"
      ],
      "text/markdown": [
       "\n",
       "chrom | geneSym | p | type | \n",
       "|---|---|---|---|---|---|\n",
       "| 1            | DDX11L1      | 5.752612e-06 | 0            | \n",
       "| 1            | WASH7P       | 1.752652e-06 | 0            | \n",
       "| 1            | MIR6859-1    | 2.248431e-08 | 0            | \n",
       "| 1            | MIR1302-2    | 5.635693e-06 | 0            | \n",
       "| 1            | FAM138A      | 5.075834e-06 | 0            | \n",
       "| 1            | OR4G4P       | 1.019439e-05 | 0            | \n",
       "\n",
       "\n"
      ],
      "text/plain": [
       "  chrom geneSym   p            type\n",
       "1 1     DDX11L1   5.752612e-06 0   \n",
       "2 1     WASH7P    1.752652e-06 0   \n",
       "3 1     MIR6859-1 2.248431e-08 0   \n",
       "4 1     MIR1302-2 5.635693e-06 0   \n",
       "5 1     FAM138A   5.075834e-06 0   \n",
       "6 1     OR4G4P    1.019439e-05 0   "
      ]
     },
     "metadata": {},
     "output_type": "display_data"
    },
    {
     "data": {
      "text/html": [
       "<ol class=list-inline>\n",
       "\t<li>'IDH1'</li>\n",
       "\t<li>'TP53'</li>\n",
       "\t<li>'ATRX'</li>\n",
       "\t<li>'TTN'</li>\n",
       "\t<li>'PTEN'</li>\n",
       "\t<li>'EGFR'</li>\n",
       "\t<li>'CIC'</li>\n",
       "\t<li>'MUC16'</li>\n",
       "\t<li>'FLG'</li>\n",
       "\t<li>'PIK3CA'</li>\n",
       "</ol>\n"
      ],
      "text/latex": [
       "\\begin{enumerate*}\n",
       "\\item 'IDH1'\n",
       "\\item 'TP53'\n",
       "\\item 'ATRX'\n",
       "\\item 'TTN'\n",
       "\\item 'PTEN'\n",
       "\\item 'EGFR'\n",
       "\\item 'CIC'\n",
       "\\item 'MUC16'\n",
       "\\item 'FLG'\n",
       "\\item 'PIK3CA'\n",
       "\\end{enumerate*}\n"
      ],
      "text/markdown": [
       "1. 'IDH1'\n",
       "2. 'TP53'\n",
       "3. 'ATRX'\n",
       "4. 'TTN'\n",
       "5. 'PTEN'\n",
       "6. 'EGFR'\n",
       "7. 'CIC'\n",
       "8. 'MUC16'\n",
       "9. 'FLG'\n",
       "10. 'PIK3CA'\n",
       "\n",
       "\n"
      ],
      "text/plain": [
       " [1] \"IDH1\"   \"TP53\"   \"ATRX\"   \"TTN\"    \"PTEN\"   \"EGFR\"   \"CIC\"    \"MUC16\" \n",
       " [9] \"FLG\"    \"PIK3CA\""
      ]
     },
     "metadata": {},
     "output_type": "display_data"
    }
   ],
   "source": [
    "head(gene_pdt)\n",
    "geneList"
   ]
  },
  {
   "cell_type": "code",
   "execution_count": 3,
   "metadata": {},
   "outputs": [
    {
     "data": {
      "text/html": [
       "<table>\n",
       "<thead><tr><th scope=col>chrom</th><th scope=col>geneSym</th><th scope=col>p</th><th scope=col>type</th></tr></thead>\n",
       "<tbody>\n",
       "\t<tr><td>1           </td><td>FLG         </td><td>3.770620e-05</td><td>1           </td></tr>\n",
       "\t<tr><td>2           </td><td>TTN         </td><td>8.259759e-04</td><td>1           </td></tr>\n",
       "\t<tr><td>2           </td><td>IDH1        </td><td>4.563416e-05</td><td>1           </td></tr>\n",
       "\t<tr><td>3           </td><td>PIK3CA      </td><td>1.246800e-04</td><td>1           </td></tr>\n",
       "\t<tr><td>7           </td><td>EGFR        </td><td>8.076928e-05</td><td>1           </td></tr>\n",
       "\t<tr><td>10          </td><td>PTEN        </td><td>1.509484e-04</td><td>1           </td></tr>\n",
       "</tbody>\n",
       "</table>\n"
      ],
      "text/latex": [
       "\\begin{tabular}{r|llll}\n",
       " chrom & geneSym & p & type\\\\\n",
       "\\hline\n",
       "\t 1            & FLG          & 3.770620e-05 & 1           \\\\\n",
       "\t 2            & TTN          & 8.259759e-04 & 1           \\\\\n",
       "\t 2            & IDH1         & 4.563416e-05 & 1           \\\\\n",
       "\t 3            & PIK3CA       & 1.246800e-04 & 1           \\\\\n",
       "\t 7            & EGFR         & 8.076928e-05 & 1           \\\\\n",
       "\t 10           & PTEN         & 1.509484e-04 & 1           \\\\\n",
       "\\end{tabular}\n"
      ],
      "text/markdown": [
       "\n",
       "chrom | geneSym | p | type | \n",
       "|---|---|---|---|---|---|\n",
       "| 1            | FLG          | 3.770620e-05 | 1            | \n",
       "| 2            | TTN          | 8.259759e-04 | 1            | \n",
       "| 2            | IDH1         | 4.563416e-05 | 1            | \n",
       "| 3            | PIK3CA       | 1.246800e-04 | 1            | \n",
       "| 7            | EGFR         | 8.076928e-05 | 1            | \n",
       "| 10           | PTEN         | 1.509484e-04 | 1            | \n",
       "\n",
       "\n"
      ],
      "text/plain": [
       "  chrom geneSym p            type\n",
       "1 1     FLG     3.770620e-05 1   \n",
       "2 2     TTN     8.259759e-04 1   \n",
       "3 2     IDH1    4.563416e-05 1   \n",
       "4 3     PIK3CA  1.246800e-04 1   \n",
       "5 7     EGFR    8.076928e-05 1   \n",
       "6 10    PTEN    1.509484e-04 1   "
      ]
     },
     "metadata": {},
     "output_type": "display_data"
    }
   ],
   "source": [
    "gene_pdt[gene_pdt$geneSym %in% geneList,]$type <- 1\n",
    "head(gene_pdt[gene_pdt$geneSym %in% geneList,])"
   ]
  },
  {
   "cell_type": "code",
   "execution_count": 4,
   "metadata": {},
   "outputs": [],
   "source": [
    "birthrate <- function(nd_het, np_het, nd_hom, np_hom, sld, slp, spd, spp, tau) { # probability of birth per timestep   \n",
    "    return(((((1+sld)^nd_het)*((1+spd)^nd_hom))/(((1+slp)^np_het)*((1+spp)^np_hom)))*tau)\n",
    "}\n",
    "delta_ncells <- function(B, D, ncells) { # change in number of cells for a clone\n",
    "    return (max(ncells + rbinom(1,ncells,min(B,1))-rbinom(1,ncells,min(D,1)),0))\n",
    "}\n",
    "get_mu_i <- function(B, mu) {return(mu*B)} # mutation rate of clone i: proportional to birth rate\n",
    "get_nins <- function(ncells, mu_i) {return (rbinom(1,ncells,mu_i))} # number of insertions in current clone"
   ]
  },
  {
   "cell_type": "code",
   "execution_count": 5,
   "metadata": {},
   "outputs": [],
   "source": [
    "update_mcount <- function(nd_het,np_het,nd_hom,np_hom,typemut,typegene) {\n",
    "    \n",
    "    if (typemut==2 & typegene==0) {return(list(nd_het,np_het+1,nd_hom,np_hom))}\n",
    "    else if (typemut==1) {return(c(nd_het,np_het,nd_hom,np_hom))}\n",
    "    else if (typemut==2 & typegene==1) {return(list(nd_het+1,np_het,nd_hom,np_hom))}\n",
    "    else if (typemut==3 & typegene==0) {return(list(nd_het,np_het-1,nd_hom,np_hom+1))}\n",
    "    else if (typemut==3 & typegene==1) {return(list(nd_het-1,np_het,nd_hom+1,np_hom))}\n",
    "    \n",
    "}"
   ]
  },
  {
   "cell_type": "code",
   "execution_count": 6,
   "metadata": {},
   "outputs": [],
   "source": [
    "# This function will update the gene lists for a given clone\n",
    "\n",
    "# type 1 - no effect\n",
    "# type 2 - heterozygous effect\n",
    "# type 3 - homozygous effect\n",
    "\n",
    "update_genes <- function(genes_het,genes_hom) {\n",
    "    if (tail(genes_het,1) %in% genes_hom) { # If the last gene in list is in list of paired disrupted genes, discard it\n",
    "        genes_het <- head(genes_het,length(genes_het)-1)\n",
    "        type<-1\n",
    "    } else {\n",
    "        if (tail(genes_het,1) %in% head(genes_het,length(genes_het)-1)) { # If the last gene is in the list of lone disrupted genes\n",
    "            if (sample(c(0,1),1)) { # With 50% probability, assume it's the other copy, add the gene to the paired list, and discard it (all instances) from lone list\n",
    "                genes_hom <- append(genes_hom,tail(genes_het,1))\n",
    "                genes_het <- genes_het[genes_het!=tail(genes_het,1)]\n",
    "                type<-3\n",
    "            } else { # Else, assume it hit already disrupted copy, and discard from list\n",
    "                genes_het <- head(genes_het,length(genes_het)-1)\n",
    "                type<-1\n",
    "            }\n",
    "        } else {\n",
    "            type<-2\n",
    "        }\n",
    "    }\n",
    "      return(list(genes_het,genes_hom,type))\n",
    "    \n",
    "}"
   ]
  },
  {
   "cell_type": "code",
   "execution_count": 7,
   "metadata": {},
   "outputs": [],
   "source": [
    "run_sim <- function(N0, mu, tau, NT, sld, slp, spd, spp, gene_pdt, nclones, logpath) {\n",
    "\n",
    "    # Allocate population\n",
    "    Pop <- data.table(ncells=rep(0,nclones),\n",
    "                      B=rep(0,nclones),\n",
    "                      mu_i=rep(0,nclones),\n",
    "                      nd_het=rep(0,nclones),\n",
    "                      np_het=rep(0,nclones),\n",
    "                      nd_hom=rep(0,nclones),\n",
    "                      np_hom=rep(0,nclones),\n",
    "                      genes_het=rep(list(''),nclones),\n",
    "                      genes_hom=rep(list(''),nclones),\n",
    "                      lasttype=rep(0,nclones))\n",
    "    # Initialize population\n",
    "    Pop[1:2,c('ncells','nd_het','np_het','nd_hom','np_hom','genes_het','genes_hom','lasttype'):=list(c(N0-1,1),\n",
    "                                                                                 c(0,1),\n",
    "                                                                                 c(0,0),\n",
    "                                                                                 c(0,0),\n",
    "                                                                                 c(0,0),\n",
    "                                                                                 list(c(''),c('default driver')),\n",
    "                                                                                 list(c(''),c('')),\n",
    "                                                                                 c(0,1))]\n",
    "    \n",
    "    # Assign birth and insertion rates\n",
    "    Pop[1:2, B := mapply(birthrate, nd_het, np_het, nd_hom, np_hom, sld, slp, spd, spp, tau)]\n",
    "    Pop[1:2, mu_i := mapply(get_mu_i, B, mu)]\n",
    "    \n",
    "    # For if the population data table needs to be enlarged\n",
    "    bkup_Pop <- data.table(ncells=rep(0,nclones),\n",
    "                      B=rep(0,nclones),\n",
    "                      mu_i=rep(0,nclones),\n",
    "                      nd_het=rep(0,nclones),\n",
    "                      np_het=rep(0,nclones),\n",
    "                      nd_hom=rep(0,nclones),\n",
    "                      np_hom=rep(0,nclones),\n",
    "                      genes_het=rep(list(''),nclones),\n",
    "                      genes_hom=rep(list(''),nclones),\n",
    "                      lasttype=rep(0,nclones))\n",
    "    \n",
    "    N <- rep(0,NT) # Allocate array for population size time series\n",
    "    genes <- character(nrow(gene_pdt))\n",
    "    write('Initialized...',file=logpath,append=TRUE)\n",
    "\n",
    "    ptm <- proc.time()\n",
    "    for (ii in 1:NT) { # Loop over time steps\n",
    "        \n",
    "        if(ii %in% c(round(NT/4),round(NT/4*2),round(NT/4*3),NT)) { # Print progress at 25% completed intervals\n",
    "            write(paste0(toString(ii/NT*100),'% done | ',format((proc.time()-ptm)[1],nsmall=3),' (s)'),file=logpath,append=TRUE)            \n",
    "        }\n",
    "        clog <- Pop$ncells>0 # Get logical array for indices of active (# cells >0) clones\n",
    "        nins <- sum(unlist(mapply(get_nins,Pop$ncells[clog],Pop$mu_i[clog],SIMPLIFY=FALSE))) # Get number of exonic insertions\n",
    "        if (nins > 0) {\n",
    "            \n",
    "            rownew <- which(Pop$ncells==0)[1] # Find first row of the data table with ncells==0\n",
    "            \n",
    "            gene_ids <- sample(1:nrow(gene_pdt),nins,replace=TRUE,prob=gene_pdt$p)\n",
    "            gene_list <- gene_pdt$geneSym[gene_ids]\n",
    "            genes<-append(genes,gene_list)\n",
    "            genetypes <- gene_pdt$type[gene_ids]\n",
    "\n",
    "            clonesWIns <- sample(rep(1:nclones,Pop$ncells),nins,replace=FALSE) # List clone id (row number) of each cell; sample without replacement\n",
    "            ctab <- table(clonesWIns)\n",
    "            cids <- as.integer(names(ctab)) # Get row ids of sampled clones\n",
    "            set(Pop,cids,1L,Pop[cids,1L] - as.integer(ctab)) # Remove cells from sampled clones\n",
    "\n",
    "            # Populate the new rows representing new clones\n",
    "            if(rownew+nins-1>nrow(Pop)){ # Enlarge the population data object if needed\n",
    "                Pop<-rbind(Pop,bkup_Pop)\n",
    "                write('Increased size of pop. object',file=logpath,append=TRUE)\n",
    "            }\n",
    "            new_inds <- rownew:(rownew+nins-1) # Row indices of new rows            \n",
    "            Pop[new_inds, c(\"ncells\",\"nd_het\",\"np_het\",\"nd_hom\",\"np_hom\",\"genes_het\",\"genes_hom\",\"lasttype\"):=list(1, \n",
    "                                                                                                Pop$nd_het[clonesWIns], \n",
    "                                                                                                Pop$np_het[clonesWIns], \n",
    "                                                                                                Pop$nd_hom[clonesWIns], \n",
    "                                                                                                Pop$np_hom[clonesWIns], \n",
    "                                                                                                mapply(append,Pop$genes_het[clonesWIns],gene_list,SIMPLIFY=FALSE),\n",
    "                                                                                                Pop$genes_hom[clonesWIns],\n",
    "                                                                                                genetypes)]\n",
    "            # Update gene lists\n",
    "            tmp1 <- t(mapply(update_genes,Pop$genes_het[new_inds],Pop$genes_hom[new_inds],SIMPLIFY=TRUE))\n",
    "            Pop$genes_het[new_inds] <- tmp1[,1]\n",
    "            Pop$genes_hom[new_inds] <- tmp1[,2]\n",
    "            # Update insertion counts\n",
    "            tmp2<-t(mapply(update_mcount,Pop$nd_het[new_inds],Pop$np_het[new_inds],Pop$nd_hom[new_inds],Pop$np_hom[new_inds],tmp1[,3],Pop$lasttype[new_inds]))\n",
    "            Pop[new_inds,c(\"nd_het\",\"np_het\",\"nd_hom\",\"np_hom\"):=list(unlist(tmp2[,1]),unlist(tmp2[,2]),unlist(tmp2[,3]),unlist(tmp2[,4]))]\n",
    "            # Update birth and insertion rates\n",
    "            Pop[new_inds, B := mapply(birthrate, nd_het, np_het, nd_hom, np_hom, sld, slp, spd, spp, tau)]\n",
    "            Pop[new_inds, mu_i := mapply(get_mu_i, B, mu)]\n",
    "        }\n",
    "\n",
    "        N[ii] <- sum(Pop$ncells) # Get current number of cells\n",
    "        if (N[ii]>=3*N0 || N[ii]<1) {break} # Simulation stops if population has grown by 3X or died\n",
    "        D <- N[ii]*tau/N0        # Compute death rate\n",
    "        Pop[Pop$ncells>0, ncells:=mapply(delta_ncells, B, D, ncells)] # Update number of cells for all clones\n",
    "        Pop <- Pop[order(Pop$ncells,decreasing=TRUE),] # Order data.table by ncells\n",
    "\n",
    "    }\n",
    "#     print(proc.time() - ptm)\n",
    "    genes <- genes[!is.na(genes)]\n",
    "    Pop <- Pop[,1:9]\n",
    "    return(list(Pop,N,genes))\n",
    "\n",
    "}\n"
   ]
  },
  {
   "cell_type": "markdown",
   "metadata": {},
   "source": [
    "### Define parameters"
   ]
  },
  {
   "cell_type": "code",
   "execution_count": 9,
   "metadata": {},
   "outputs": [],
   "source": [
    "# Initial number of cells\n",
    "N0 <- 100\n",
    "# Probability of passenger or driver L1 insertion per cell cycle\n",
    "mu <- 1\n",
    "mu <- mu*(1-pd_lung[3]) # Scale by 1-probability of null insertion\n",
    "\n",
    "# Selective strengths of each mutation type\n",
    "spd <- .1 # Homologous driver\n",
    "spp <- .001 # Homologous passenger\n",
    "sld <- spd*0.2 # Heterozygous driver\n",
    "slp <- spp*0.2 # passenger\n",
    "\n",
    "\n",
    "# Number of time steps to simulate\n",
    "NT <- 20000\n",
    "# Time resolution: number of timesteps per cell cycle in the initial population (can also be interpreted as max possible fold change in cell cycle rate)\n",
    "tau <- 4\n",
    "tau <- 1/tau\n",
    "# Buffer size of population data object; represents the max possible number of clones in the population\n",
    "maxNClones <- max(2000,N0*5)\n",
    "# Log path\n",
    "logpath <- './test_v2.1.log'\n",
    "system(paste0('rm ',logpath))"
   ]
  },
  {
   "cell_type": "markdown",
   "metadata": {},
   "source": [
    "## Test run"
   ]
  },
  {
   "cell_type": "code",
   "execution_count": null,
   "metadata": {},
   "outputs": [],
   "source": [
    "out <- run_sim(N0, mu, tau, NT, sld, slp, spd, spp, gene_pdt, maxNClones, logpath)\n",
    "Pop <- out[[1]]\n",
    "N <- out[[2]]\n",
    "\n",
    "head(Pop)\n",
    "N[N==0]<- NA\n",
    "plot(1:NT,N,type='l',xlab='Timestep',ylab='Population Size')\n",
    "# plot((1:NT)*tau,movavg(N,200,'s'),type='l',xlab='Generation',ylab='Population Size')"
   ]
  },
  {
   "cell_type": "markdown",
   "metadata": {},
   "source": [
    "## Batch run"
   ]
  },
  {
   "cell_type": "code",
   "execution_count": null,
   "metadata": {},
   "outputs": [],
   "source": [
    "nrun <- 0\n",
    "muv <- c(0.05,0.10,0.50,1.00,5.00)\n",
    "muv_adj <- muv*(1-pd_lung[3])\n",
    "N0v <- c(1e2,5e2,1e3,2e3)\n",
    "sdv <- c(0.001,0.010,0.100,1.000)\n",
    "spv <- c(0.001,0.010,0.100,1.000)\n",
    "# For logging errors and warnings\n",
    "erlog <- file(logpath, open=\"wt\")\n",
    "sink(erlog, type=\"message\")\n",
    "\n",
    "outPath <- '../../brain_0904_v2_2/run'\n",
    "for (ii in 1:length(N0v)){\n",
    "    for (jj in 1:length(muv)) {\n",
    "        for (ll in 1:length(sdv)) {\n",
    "            for (mm in 1:length(spv)) {\n",
    "                nrun <- nrun+1\n",
    "                line <- paste0('Run: ',toString(nrun),'\\tN0: ',toString(N0v[ii]),'\\tmu: ',toString(muv[jj]),'\\tsd: ',toString(sdv[ll]),'\\tsp: ',toString(spv[mm]))\n",
    "                write(line,file=paste0(outPath,'.log'),append=TRUE)\n",
    "                out <- run_sim(N0v[ii], muv_adj[jj], tau, NT, sdv[ll]*0.2, spv[mm]*0.2, sdv[ll], spv[mm], gene_pdt, N0v[ii]*4, paste0(outPath,'.log'))\n",
    "                Pop <- out[[1]]\n",
    "                N <- out[[2]]\n",
    "                genes <- out[[3]]\n",
    "                save(Pop,N,genes,file=paste0(outPath,'_n0',N0v[ii],'_',nrun,\".rda\"))\n",
    "                rm(Pop,N,genes)\n",
    "            }\n",
    "        }\n",
    "    }\n",
    "}\n",
    "sink(type=\"message\")\n",
    "close(erlog)\n"
   ]
  },
  {
   "cell_type": "code",
   "execution_count": null,
   "metadata": {},
   "outputs": [],
   "source": []
  },
  {
   "cell_type": "code",
   "execution_count": null,
   "metadata": {},
   "outputs": [],
   "source": []
  },
  {
   "cell_type": "code",
   "execution_count": null,
   "metadata": {},
   "outputs": [],
   "source": []
  },
  {
   "cell_type": "code",
   "execution_count": null,
   "metadata": {},
   "outputs": [],
   "source": []
  },
  {
   "cell_type": "code",
   "execution_count": null,
   "metadata": {},
   "outputs": [],
   "source": []
  },
  {
   "cell_type": "code",
   "execution_count": null,
   "metadata": {},
   "outputs": [],
   "source": []
  },
  {
   "cell_type": "code",
   "execution_count": null,
   "metadata": {},
   "outputs": [],
   "source": []
  }
 ],
 "metadata": {
  "kernelspec": {
   "display_name": "R",
   "language": "R",
   "name": "ir"
  },
  "language_info": {
   "codemirror_mode": "r",
   "file_extension": ".r",
   "mimetype": "text/x-r-source",
   "name": "R",
   "pygments_lexer": "r",
   "version": "3.5.1"
  }
 },
 "nbformat": 4,
 "nbformat_minor": 2
}
