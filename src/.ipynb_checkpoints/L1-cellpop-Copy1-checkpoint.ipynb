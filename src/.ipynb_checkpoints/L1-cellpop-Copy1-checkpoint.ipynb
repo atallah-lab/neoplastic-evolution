{
 "cells": [
  {
   "cell_type": "markdown",
   "metadata": {},
   "source": [
    "## Load libraries and necessary data files, and define global variables"
   ]
  },
  {
   "cell_type": "code",
   "execution_count": 1,
   "metadata": {},
   "outputs": [
    {
     "name": "stderr",
     "output_type": "stream",
     "text": [
      "Loading required package: BiocGenerics\n",
      "Loading required package: parallel\n",
      "\n",
      "Attaching package: ‘BiocGenerics’\n",
      "\n",
      "The following objects are masked from ‘package:parallel’:\n",
      "\n",
      "    clusterApply, clusterApplyLB, clusterCall, clusterEvalQ,\n",
      "    clusterExport, clusterMap, parApply, parCapply, parLapply,\n",
      "    parLapplyLB, parRapply, parSapply, parSapplyLB\n",
      "\n",
      "The following objects are masked from ‘package:stats’:\n",
      "\n",
      "    IQR, mad, xtabs\n",
      "\n",
      "The following objects are masked from ‘package:base’:\n",
      "\n",
      "    anyDuplicated, append, as.data.frame, as.vector, cbind, colnames,\n",
      "    do.call, duplicated, eval, evalq, Filter, Find, get, grep, grepl,\n",
      "    intersect, is.unsorted, lapply, lengths, Map, mapply, match, mget,\n",
      "    order, paste, pmax, pmax.int, pmin, pmin.int, Position, rank,\n",
      "    rbind, Reduce, rownames, sapply, setdiff, sort, table, tapply,\n",
      "    union, unique, unlist, unsplit\n",
      "\n",
      "Loading required package: S4Vectors\n",
      "Loading required package: stats4\n",
      "Loading required package: IRanges\n",
      "\n",
      "Attaching package: ‘IRanges’\n",
      "\n",
      "The following object is masked from ‘package:data.table’:\n",
      "\n",
      "    shift\n",
      "\n",
      "Loading required package: XVector\n",
      "Loading required package: BSgenome\n",
      "Loading required package: GenomeInfoDb\n",
      "Loading required package: GenomicRanges\n",
      "Loading required package: rtracklayer\n"
     ]
    }
   ],
   "source": [
    "#--- Load libraries and necessary data files, and define global variables\n",
    "library(data.tree)\n",
    "library(data.table)\n",
    "library(Biostrings)\n",
    "library(BSgenome.Hsapiens.UCSC.hg38)\n",
    "library(GenomicRanges)\n",
    "genome <- Hsapiens\n",
    "source(\"process_L1s.r\")\n",
    "source(\"mapsequence.r\")\n",
    "load(\"../data/chrmpd.rda\") # load chromosome probability distribution\n",
    "load(\"../data/L1RankTable.rda\")\n",
    "load(\"../data/geneann.rda\")\n",
    "trpd <- read.table(\"../data/L1truncpd.csv\",sep=\",\")\n",
    "tdpd <- read.table(\"../data/L1transdpd.csv\",sep=\",\")\n",
    "for (i in names(Hsapiens)[1:24]){ # load all chromosome map files\n",
    "        load(paste0(\"../data/root_maps/\",i,\".rda\"))\n",
    "}\n",
    "strdict<-c(\"+\",\"-\")\n",
    "names(strdict)<-c(1,2)"
   ]
  },
  {
   "cell_type": "markdown",
   "metadata": {},
   "source": [
    "## Define Functions"
   ]
  },
  {
   "cell_type": "code",
   "execution_count": 2,
   "metadata": {},
   "outputs": [],
   "source": [
    "# PURPOSE: To update the insertion site annotation of a chromosome for a clone.\n",
    "# The L1 insertions which have occurred in the clone will be accounted for\n",
    "#\n",
    "# INPUT:\n",
    "#   chrnm         (string) chromosome name\n",
    "#   chrMap        (list) chromosome annotation\n",
    "#   sites_chrm    (numeric vector) chromosomes containing L1 insertions for the clone\n",
    "#   sites_loci    (character vector) insertion positions (in the respective chromosome)\n",
    "#   l1s           (DNAStringSet) l1 sequences and orientation \n",
    "#\n",
    "# OUTPUT: (list) updated chromosome annotation\n",
    "\n",
    "\n",
    "update_chrom_map <- function(chrnm,chrMap,sites_chrm,sites_loci,l1s) {  \n",
    "    \n",
    "    if (length(sites_chrm)==0){\n",
    "        return(chrMap)\n",
    "    }\n",
    "\n",
    "    ict<-chrMap$ict\n",
    "    icl<-chrMap$icl\n",
    "    iot<-chrMap$iot\n",
    "    iol<-chrMap$iol\n",
    "    insites<-chrMap$insites \n",
    "\n",
    "    chrloci = sites_loci[sites_chrm==chrnm] # Get the sites where insertions occurred in the chromosome\n",
    "    chrl1s = l1s[sites_chrm==chrnm] # Get the L1s elements which were inserted    \n",
    "\n",
    "    for (i in 1:length(chrloci)) { # Loop over the simulated insertion sites\n",
    "        insites[which(is.na(insites))]<- -1 # Replace NA with -1\n",
    "        indx <- insites>chrloci[i] # Get indices of target sites which lie downstream of the point\n",
    "        insites[indx] <- insites[indx] + width(chrl1s[i]) # Shift the target sites by the length of the L1\n",
    "        l1_map <- mapSeq_SV(chrl1s[i]) # Map target sites in the L1\n",
    "        l1_map$insites <- l1_map$insites + chrloci[i] # Convert L1 loci to chromosome loci\n",
    "        insites <- rbind(insites,l1_map$insites) # Add target sites within L1 to chrom map\n",
    "        ict <- rbind(ict,l1_map$ict)\n",
    "        icl <- rbind(icl,l1_map$icl)\n",
    "        iot <- rbind(iot,l1_map$iot)\n",
    "        iol <- rbind(iol,l1_map$iol)\n",
    "    }\n",
    "\n",
    "    return(list(insites,ict,icl,iot,iol))\n",
    "\n",
    "}"
   ]
  },
  {
   "cell_type": "code",
   "execution_count": 19,
   "metadata": {},
   "outputs": [],
   "source": [
    "# PURPOSE: To simulate the transposition of an L1 sequence in a given genome\n",
    "#\n",
    "# INPUT:\n",
    "#   genome        (BSgenome) reference genome\n",
    "#   node          (data.tree node) input node of tree\n",
    "#   copyNum       (integer) number of L1 insertions to simulate\n",
    "#\n",
    "# OUTPUT: (list) inserted sequences, sites, and strand\n",
    "\n",
    "gen_sim <- function(genome,node,copyNum) {\n",
    "\n",
    "        sites_loci<-c() # Initialize arrays for storing simulated ins. site data\n",
    "        sites_chrm<-c()\n",
    "        sites_strand<-c()\n",
    "        sites_classes<-c()\n",
    "\n",
    "        #--- Sample chromosomes based on probability ranking. The data file chrmpd.rda \n",
    "        #--- must either be provided or generated by running 'get_sv_dist.r'.\n",
    "        #--- Here the ranking is provided by the number of 'TTTT' patterns.\n",
    "        chrmlist<-sample(x=names(genome)[1:24],copyNum,replace=TRUE,prob=chrmcnt[,1])\n",
    "        chrmlist<-table(chrmlist)\n",
    "\n",
    "        for (chrnm in names(chrmlist)) {\n",
    "\n",
    "\n",
    "                #cat(\"\\nChromosome: \",chrnm)\n",
    "            \n",
    "                map<-get(paste0(chrnm,\"Map\"))\n",
    "                map<-update_chrom_map(chrnm,map,node$sites_chrm,node$sites_loci,node$l1s)\n",
    "                ict<-map$ict\n",
    "                icl<-map$icl\n",
    "                iot<-map$iot\n",
    "                iol<-map$iol\n",
    "                insites<-map$insites\n",
    "            \n",
    "\n",
    "                chrcopyNum<-chrmlist[[chrnm]]\n",
    "\n",
    "                pd <- c(11.55*length(which(!is.na(ict))),\n",
    "                        7.25*length(which(!is.na(icl))),\n",
    "                        1.95*length(which(!is.na(iot))),\n",
    "                        1*length(which(!is.na(iol))))\n",
    "                pd <- (pd/sum(pd))*(1-ENifrc)\n",
    "                pd <- append(pd,ENifrc)\n",
    "                #cat(\"\\nSite class distribution:\\n\",pd)\n",
    "\n",
    "                #--- Generates insertion sites\n",
    "                classes <- sample(x = c(1:5),chrcopyNum,replace=TRUE,prob=pd)\n",
    "                sites <- rep(0,chrcopyNum)\n",
    "                strand <-rep(0,chrcopyNum)\n",
    "            \n",
    "                for (i in 1:chrcopyNum) {\n",
    "                        if (classes[i]==1) {\n",
    "                                tmp<-sample(c(1,2),1)\n",
    "                                sites[i] <- insites[ict[sample(c(1:length(which(!is.na(ict[,tmp])))),1),tmp]]\n",
    "                                strand[i] <- strdict[[tmp]]\n",
    "                        } else if (classes[i]==2) {\n",
    "                                tmp<-sample(c(1,2),1)\n",
    "                                sites[i] <- insites[icl[sample(c(1:length(which(!is.na(icl[,tmp])))),1),tmp]]\n",
    "                                strand[i] <- strdict[[tmp]]\n",
    "                        } else if (classes[i]==3) {\n",
    "                                tmp<-sample(c(1,2),1)\n",
    "                                sites[i] <- insites[iot[sample(c(1:length(which(!is.na(iot[,tmp])))),1),tmp]]\n",
    "                                strand[i] <- strdict[[tmp]]\n",
    "                        } else if (classes[i]==4) {\n",
    "                                tmp<-sample(c(1,2),1)\n",
    "                                sites[i] <- insites[iol[sample(c(1:length(which(!is.na(iol[,tmp])))),1),tmp]]\n",
    "                                strand[i] <- strdict[[tmp]]\n",
    "                        } else if (classes[i]==5) {\n",
    "                                sites[i]<-runif(1,1,length(genome[[chrnm]]))\n",
    "                                strand[i] <- strdict[[sample(c(1,2),1)]]\n",
    "                        }\n",
    "                }\n",
    "\n",
    "                sites_loci<-append(sites_loci,sites)\n",
    "                sites_chrm<-append(sites_chrm,rep(chrnm,chrcopyNum))\n",
    "                sites_strand<-append(sites_strand,strand)\n",
    "                sites_classes<-append(sites_classes,classes)\n",
    "\n",
    "        }\n",
    "\n",
    "        #--- Creates sequences for insertion\n",
    "        tmp <- process_L1s(genome,L1RankTable,trpd,tdpd,copyNum)\n",
    "        l1s <- tmp[[1]]\n",
    "        l1indcs <- tmp[[2]]\n",
    "        tdlen <- tmp[[3]]\n",
    "        trlen <- tmp[[4]]\n",
    "\n",
    "        return(list(l1s,sites_chrm,sites_loci,sites_strand))\n",
    "}\n",
    "\n",
    "\n"
   ]
  },
  {
   "cell_type": "code",
   "execution_count": 4,
   "metadata": {},
   "outputs": [],
   "source": [
    "# PURPOSE: To check whether the division rate of a new clone should be changed from its parent\n",
    "#\n",
    "# INPUT:\n",
    "#   r             (float) division rate\n",
    "#   geneann       annotation of genes\n",
    "#   sites_chrm    (numeric vector) chromosomes containing L1 insertions for the clone\n",
    "#   sites_loci    (character vector) insertion positions (in the respective chromosome)\n",
    "#\n",
    "# OUTPUT: (float) possibly updated division rate\n",
    "\n",
    "rank_clone <- function(r, geneann, sites_chrm, sites_loci) {\n",
    "    \n",
    "    gene_hits=0; # set counter to zero\n",
    "    tsg_hits=0;\n",
    "    for (i in 1:length(sites_chrm)) { # loop over chromosomes inserted into\n",
    "        tmp=geneann[geneann$chrom==unique(sites_chrm)[i]] # reduce annotation table to entries for current chrom\n",
    "        chrmann_ntsg=tmp[tmp$istsg==0]\n",
    "        chrmann_tsg =tmp[tmp$istsg==1]\n",
    "        tmp = sites_loci[sites_chrm==unique(sites_chrm)[i]] # reduce insertion loci to entries for current chrom\n",
    "        tmp_hits = between(tmp,chrmann_ntsg$start,chrmann_ntsg$end) # create logical for insertions, whether into non-tsg-gene or not\n",
    "        gene_hits=gene_hits+length(which(tmp_hits==TRUE)) # count the number of non-tsg-gene insertions\n",
    "        tmp_hits  = between(tmp,chrmann_tsg$start,chrmann_tsg$end) \n",
    "        tsg_hits =tsg_hits+length(which(tmp_hits==TRUE))\n",
    "    }\n",
    "    \n",
    "    if (gene_hits > 0) {\n",
    "        r=0\n",
    "    } else if (tsg_hits > 0) {\n",
    "        r = r+tsg_hits*2; # TSG insertion doubles cell division rate\n",
    "    }\n",
    "    \n",
    "    return(r)\n",
    "}"
   ]
  },
  {
   "cell_type": "code",
   "execution_count": 22,
   "metadata": {},
   "outputs": [],
   "source": [
    "update_geneann <- function(geneann, simout) {\n",
    "    #names(sites_chrm)<-c()\n",
    "    for (i in 1:length(simout$sites_loci)) {\n",
    "        geneann[geneann$chrom==simout[[2]][i] & geneann$end>simout[[3]][i],]$end <- geneann[geneann$chrom==simout[[2]][i] & geneann$end>simout[[3]][i],]$end + width(simout[[1]][i])        \n",
    "    }\n",
    "   return(geneann) \n",
    "}"
   ]
  },
  {
   "cell_type": "code",
   "execution_count": 6,
   "metadata": {},
   "outputs": [],
   "source": [
    "# PURPOSE: To call gen_sim.r with some probability (probability it transposition, tp) for each clone at each time step\n",
    "#\n",
    "# INPUT:\n",
    "#   node          (data.tree node) current node of the data tree\n",
    "#   tnum          (integer) time step number\n",
    "#\n",
    "# OUTPUT: void\n",
    "\n",
    "maybeTranspose <- function(node,tnum) {\n",
    "    \n",
    "    if (sample(x=c(0,1),1,prob=c(1-node$tp, node$tp))) {\n",
    "        simout <- gen_sim(genome,node, 1)#round(runif(1,1,3)))\n",
    "        geneann <- update_geneann(geneann,simout)\n",
    "        r_tmp <- rank_clone(node$r, geneann, simout$sites_chrm, simout$sites_loci)\n",
    "        node$AddChild(tnum)\n",
    "        Set(node$children, r=r_tmp, tp=node$tp, l1s=node$l1s, sites=node$sites, ncells=1)\n",
    "        \n",
    "    }\n",
    "    \n",
    "    node$ncells <- node$ncells*(2^node$r)\n",
    " \n",
    "}\n",
    "\n"
   ]
  },
  {
   "cell_type": "markdown",
   "metadata": {},
   "source": [
    "### Define parameters"
   ]
  },
  {
   "cell_type": "code",
   "execution_count": 33,
   "metadata": {},
   "outputs": [],
   "source": [
    "#--- Set simulation parameters\n",
    "ENifrc<- .1       # Fraction of endonuclease-independent (random) insertions\n",
    "inPopSize <- 10   # Initial number of cells in root clone\n",
    "inDivRate <- 1    # Initial division rate\n",
    "intp <- 0.5       # Initial probability of transposition\n",
    "\n",
    "NT <- 5           # Number of time iterations\n"
   ]
  },
  {
   "cell_type": "markdown",
   "metadata": {},
   "source": [
    "### Clone tree creation"
   ]
  },
  {
   "cell_type": "code",
   "execution_count": 66,
   "metadata": {},
   "outputs": [
    {
     "ename": "ERROR",
     "evalue": "Error in NSBS(i, x, exact = exact, upperBoundIsStrict = !allow.append): subscript contains NAs or out-of-bounds indices\n",
     "output_type": "error",
     "traceback": [
      "Error in NSBS(i, x, exact = exact, upperBoundIsStrict = !allow.append): subscript contains NAs or out-of-bounds indices\nTraceback:\n",
      "1. CellPop$Do(maybeTranspose, i)   # at line 15 of file <text>",
      "2. Do(t, fun, ...)",
      "3. fun(node, ...)",
      "4. gen_sim(genome, node, 1)   # at line 12 of file <text>",
      "5. update_chrom_map(chrnm, map, node$sites_chrm, node$sites_loci, \n .     node$l1s)   # at line 29 of file <text>",
      "6. width(chrl1s[i])   # at line 32 of file <text>",
      "7. chrl1s[i]",
      "8. chrl1s[i]",
      "9. callNextMethod(x, i)",
      "10. eval(call, callEnv)",
      "11. eval(expr, envir, enclos)",
      "12. .nextMethod(x, i)",
      "13. extractROWS(x, i)",
      "14. extractROWS(x, i)",
      "15. extractROWS(setNames(seq_along(x), names(x)), i)",
      "16. extractROWS(setNames(seq_along(x), names(x)), i)",
      "17. normalizeSingleBracketSubscript(i, x)",
      "18. NSBS(i, x, exact = exact, upperBoundIsStrict = !allow.append)",
      "19. NSBS(i, x, exact = exact, upperBoundIsStrict = !allow.append)",
      "20. stop(\"subscript contains NAs or out-of-bounds indices\")"
     ]
    }
   ],
   "source": [
    "CellPop <- Node$new(1)\n",
    "CellPop$ncells <- inPopSize\n",
    "CellPop$r <- inDivRate\n",
    "CellPop$tp <- intp\n",
    "CellPop$l1s <- DNAStringSet(c(\"TTATTTA\"))\n",
    "CellPop$sites_chrm <- c(\"chr1\")\n",
    "CellPop$sites_loci <- c(1001139)\n",
    "# CellPop$l1s <- DNAStringSet()\n",
    "# CellPop$sites_chrm <- c()\n",
    "# CellPop$sites_loci <- c()\n",
    "\n",
    "ptm <- proc.time()\n",
    "for (i in 2:NT) {\n",
    "    \n",
    "    CellPop$Do(maybeTranspose,i)\n",
    "               \n",
    "}\n",
    "proc.time() - ptm\n",
    "    "
   ]
  },
  {
   "cell_type": "code",
   "execution_count": 65,
   "metadata": {
    "scrolled": false
   },
   "outputs": [
    {
     "name": "stdout",
     "output_type": "stream",
     "text": [
      "      levelName ncells r\n",
      "1 1                160 1\n",
      "2  ¦--2              2 1\n",
      "3  ¦   ¦--3          4 1\n",
      "4  ¦   ¦   ¦--4      2 1\n",
      "5  ¦   ¦   °--5      1 1\n",
      "6  ¦   °--4          2 1\n",
      "7  ¦--4              2 1\n",
      "8  °--5              1 1\n"
     ]
    }
   ],
   "source": [
    "print(CellPop,'ncells','r')"
   ]
  },
  {
   "cell_type": "code",
   "execution_count": 32,
   "metadata": {},
   "outputs": [
    {
     "data": {
      "text/html": [
       "Inf"
      ],
      "text/latex": [
       "Inf"
      ],
      "text/markdown": [
       "Inf"
      ],
      "text/plain": [
       "[1] Inf"
      ]
     },
     "metadata": {},
     "output_type": "display_data"
    }
   ],
   "source": []
  },
  {
   "cell_type": "code",
   "execution_count": 9,
   "metadata": {},
   "outputs": [],
   "source": [
    "save(CellPop,file=\"./data/CellPop_out.rda\")"
   ]
  },
  {
   "cell_type": "code",
   "execution_count": null,
   "metadata": {},
   "outputs": [],
   "source": []
  },
  {
   "cell_type": "code",
   "execution_count": null,
   "metadata": {},
   "outputs": [],
   "source": []
  }
 ],
 "metadata": {
  "kernelspec": {
   "display_name": "R",
   "language": "R",
   "name": "ir"
  },
  "language_info": {
   "codemirror_mode": "r",
   "file_extension": ".r",
   "mimetype": "text/x-r-source",
   "name": "R",
   "pygments_lexer": "r",
   "version": "3.3.2"
  }
 },
 "nbformat": 4,
 "nbformat_minor": 2
}
