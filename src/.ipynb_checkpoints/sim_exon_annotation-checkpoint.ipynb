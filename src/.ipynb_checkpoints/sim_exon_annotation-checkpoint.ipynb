{
 "cells": [
  {
   "cell_type": "code",
   "execution_count": 1,
   "metadata": {
    "collapsed": true
   },
   "outputs": [
    {
     "name": "stderr",
     "output_type": "stream",
     "text": [
      "Loading required package: GenomicFeatures\n",
      "Loading required package: BiocGenerics\n",
      "Loading required package: parallel\n",
      "\n",
      "Attaching package: ‘BiocGenerics’\n",
      "\n",
      "The following objects are masked from ‘package:parallel’:\n",
      "\n",
      "    clusterApply, clusterApplyLB, clusterCall, clusterEvalQ,\n",
      "    clusterExport, clusterMap, parApply, parCapply, parLapply,\n",
      "    parLapplyLB, parRapply, parSapply, parSapplyLB\n",
      "\n",
      "The following objects are masked from ‘package:stats’:\n",
      "\n",
      "    IQR, mad, xtabs\n",
      "\n",
      "The following objects are masked from ‘package:base’:\n",
      "\n",
      "    anyDuplicated, append, as.data.frame, as.vector, cbind, colnames,\n",
      "    do.call, duplicated, eval, evalq, Filter, Find, get, grep, grepl,\n",
      "    intersect, is.unsorted, lapply, lengths, Map, mapply, match, mget,\n",
      "    order, paste, pmax, pmax.int, pmin, pmin.int, Position, rank,\n",
      "    rbind, Reduce, rownames, sapply, setdiff, sort, table, tapply,\n",
      "    union, unique, unlist, unsplit\n",
      "\n",
      "Loading required package: S4Vectors\n",
      "Loading required package: stats4\n",
      "Loading required package: IRanges\n",
      "Loading required package: GenomeInfoDb\n",
      "Loading required package: GenomicRanges\n",
      "Loading required package: AnnotationDbi\n",
      "Loading required package: Biobase\n",
      "Welcome to Bioconductor\n",
      "\n",
      "    Vignettes contain introductory material; view with\n",
      "    'browseVignettes()'. To cite Bioconductor, see\n",
      "    'citation(\"Biobase\")', and for packages 'citation(\"pkgname\")'.\n",
      "\n",
      "\n",
      "Attaching package: ‘data.table’\n",
      "\n",
      "The following object is masked from ‘package:GenomicRanges’:\n",
      "\n",
      "    shift\n",
      "\n",
      "The following object is masked from ‘package:IRanges’:\n",
      "\n",
      "    shift\n",
      "\n",
      "\n"
     ]
    }
   ],
   "source": [
    "library(TxDb.Hsapiens.UCSC.hg38.knownGene)\n",
    "library(data.table)\n",
    "library(org.Hs.eg.db)"
   ]
  },
  {
   "cell_type": "code",
   "execution_count": 2,
   "metadata": {},
   "outputs": [
    {
     "data": {
      "text/plain": [
       "GRanges object with 6 ranges and 2 metadata columns:\n",
       "      seqnames         ranges strand |   exon_id         gene_id\n",
       "         <Rle>      <IRanges>  <Rle> | <integer> <CharacterList>\n",
       "  [1]     chr1 [11874, 12227]      + |         1       100287102\n",
       "  [2]     chr1 [12595, 12721]      + |         2       100287102\n",
       "  [3]     chr1 [12613, 12721]      + |         3       100287102\n",
       "  [4]     chr1 [12646, 12697]      + |         4       100287102\n",
       "  [5]     chr1 [13221, 14409]      + |         5       100287102\n",
       "  [6]     chr1 [13403, 14409]      + |         6       100287102\n",
       "  -------\n",
       "  seqinfo: 455 sequences (1 circular) from hg38 genome"
      ]
     },
     "metadata": {},
     "output_type": "display_data"
    }
   ],
   "source": [
    "exann <- exons(TxDb.Hsapiens.UCSC.hg38.knownGene, columns = c(\"exon_id\",\"gene_id\"))\n",
    "head(exann)"
   ]
  },
  {
   "cell_type": "code",
   "execution_count": 3,
   "metadata": {},
   "outputs": [
    {
     "data": {
      "text/plain": [
       "GRanges object with 6 ranges and 2 metadata columns:\n",
       "      seqnames               ranges strand |   exon_id         gene_id\n",
       "         <Rle>            <IRanges>  <Rle> | <integer> <CharacterList>\n",
       "  [1]     chrY [26578095, 26578328]      - |    293785                \n",
       "  [2]     chrY [57094007, 57094084]      - |    293786                \n",
       "  [3]     chrY [57094564, 57094605]      - |    293787                \n",
       "  [4]     chrY [57212178, 57213357]      - |    293788          727856\n",
       "  [5]     chrY [57213856, 57213964]      - |    293789          727856\n",
       "  [6]     chrY [57214350, 57214703]      - |    293790          727856\n",
       "  -------\n",
       "  seqinfo: 455 sequences (1 circular) from hg38 genome"
      ]
     },
     "metadata": {},
     "output_type": "display_data"
    }
   ],
   "source": [
    "tail(exann[seqnames(exann)==\"chrY\"])"
   ]
  },
  {
   "cell_type": "code",
   "execution_count": 4,
   "metadata": {},
   "outputs": [],
   "source": [
    "exann <- exann[1:293790]"
   ]
  },
  {
   "cell_type": "code",
   "execution_count": 5,
   "metadata": {},
   "outputs": [],
   "source": [
    "exann$gene_id[lapply(exann$gene_id,length)==0]<-0"
   ]
  },
  {
   "cell_type": "code",
   "execution_count": 6,
   "metadata": {},
   "outputs": [],
   "source": [
    "exann <- data.table(chrom=as.vector(seqnames(exann)),\n",
    "                 start=start(exann),\n",
    "                 end=end(exann),\n",
    "                 gene_id=as.vector(exann$gene_id))"
   ]
  },
  {
   "cell_type": "code",
   "execution_count": 7,
   "metadata": {},
   "outputs": [
    {
     "data": {
      "text/html": [
       "<table>\n",
       "<thead><tr><th scope=col>chrom</th><th scope=col>start</th><th scope=col>end</th><th scope=col>gene_id</th></tr></thead>\n",
       "<tbody>\n",
       "\t<tr><td>chr1     </td><td>11874    </td><td>12227    </td><td>100287102</td></tr>\n",
       "\t<tr><td>chr1     </td><td>12595    </td><td>12721    </td><td>100287102</td></tr>\n",
       "\t<tr><td>chr1     </td><td>12613    </td><td>12721    </td><td>100287102</td></tr>\n",
       "\t<tr><td>chr1     </td><td>12646    </td><td>12697    </td><td>100287102</td></tr>\n",
       "\t<tr><td>chr1     </td><td>13221    </td><td>14409    </td><td>100287102</td></tr>\n",
       "\t<tr><td>chr1     </td><td>13403    </td><td>14409    </td><td>100287102</td></tr>\n",
       "</tbody>\n",
       "</table>\n"
      ],
      "text/latex": [
       "\\begin{tabular}{r|llll}\n",
       " chrom & start & end & gene\\_id\\\\\n",
       "\\hline\n",
       "\t chr1      & 11874     & 12227     & 100287102\\\\\n",
       "\t chr1      & 12595     & 12721     & 100287102\\\\\n",
       "\t chr1      & 12613     & 12721     & 100287102\\\\\n",
       "\t chr1      & 12646     & 12697     & 100287102\\\\\n",
       "\t chr1      & 13221     & 14409     & 100287102\\\\\n",
       "\t chr1      & 13403     & 14409     & 100287102\\\\\n",
       "\\end{tabular}\n"
      ],
      "text/markdown": [
       "\n",
       "chrom | start | end | gene_id | \n",
       "|---|---|---|---|---|---|\n",
       "| chr1      | 11874     | 12227     | 100287102 | \n",
       "| chr1      | 12595     | 12721     | 100287102 | \n",
       "| chr1      | 12613     | 12721     | 100287102 | \n",
       "| chr1      | 12646     | 12697     | 100287102 | \n",
       "| chr1      | 13221     | 14409     | 100287102 | \n",
       "| chr1      | 13403     | 14409     | 100287102 | \n",
       "\n",
       "\n"
      ],
      "text/plain": [
       "  chrom start end   gene_id  \n",
       "1 chr1  11874 12227 100287102\n",
       "2 chr1  12595 12721 100287102\n",
       "3 chr1  12613 12721 100287102\n",
       "4 chr1  12646 12697 100287102\n",
       "5 chr1  13221 14409 100287102\n",
       "6 chr1  13403 14409 100287102"
      ]
     },
     "metadata": {},
     "output_type": "display_data"
    }
   ],
   "source": [
    "head(exann)"
   ]
  },
  {
   "cell_type": "code",
   "execution_count": 8,
   "metadata": {},
   "outputs": [
    {
     "data": {
      "text/html": [
       "0.032007875"
      ],
      "text/latex": [
       "0.032007875"
      ],
      "text/markdown": [
       "0.032007875"
      ],
      "text/plain": [
       "[1] 0.03200787"
      ]
     },
     "metadata": {},
     "output_type": "display_data"
    }
   ],
   "source": [
    "sum(exann$end-exann$start)/3e9"
   ]
  },
  {
   "cell_type": "code",
   "execution_count": 9,
   "metadata": {},
   "outputs": [
    {
     "data": {
      "text/html": [
       "<table>\n",
       "<thead><tr><th></th><th scope=col>GeneID</th><th scope=col>GeneSymbol</th></tr></thead>\n",
       "<tbody>\n",
       "\t<tr><th scope=row>2</th><td>43    </td><td>ACHE  </td></tr>\n",
       "\t<tr><th scope=row>3</th><td>95    </td><td>ACY1  </td></tr>\n",
       "\t<tr><th scope=row>4</th><td>104   </td><td>ADARB1</td></tr>\n",
       "\t<tr><th scope=row>5</th><td>141   </td><td>ADPRH </td></tr>\n",
       "\t<tr><th scope=row>6</th><td>142   </td><td>PARP1 </td></tr>\n",
       "\t<tr><th scope=row>7</th><td>185   </td><td>AGTR1 </td></tr>\n",
       "</tbody>\n",
       "</table>\n"
      ],
      "text/latex": [
       "\\begin{tabular}{r|ll}\n",
       "  & GeneID & GeneSymbol\\\\\n",
       "\\hline\n",
       "\t2 & 43     & ACHE  \\\\\n",
       "\t3 & 95     & ACY1  \\\\\n",
       "\t4 & 104    & ADARB1\\\\\n",
       "\t5 & 141    & ADPRH \\\\\n",
       "\t6 & 142    & PARP1 \\\\\n",
       "\t7 & 185    & AGTR1 \\\\\n",
       "\\end{tabular}\n"
      ],
      "text/markdown": [
       "\n",
       "| <!--/--> | GeneID | GeneSymbol | \n",
       "|---|---|---|---|---|---|\n",
       "| 2 | 43     | ACHE   | \n",
       "| 3 | 95     | ACY1   | \n",
       "| 4 | 104    | ADARB1 | \n",
       "| 5 | 141    | ADPRH  | \n",
       "| 6 | 142    | PARP1  | \n",
       "| 7 | 185    | AGTR1  | \n",
       "\n",
       "\n"
      ],
      "text/plain": [
       "  GeneID GeneSymbol\n",
       "2 43     ACHE      \n",
       "3 95     ACY1      \n",
       "4 104    ADARB1    \n",
       "5 141    ADPRH     \n",
       "6 142    PARP1     \n",
       "7 185    AGTR1     "
      ]
     },
     "metadata": {},
     "output_type": "display_data"
    }
   ],
   "source": [
    "tsgs <- read.table(\"../data/Human_TSGs.txt\")\n",
    "tsgs <- tsgs[2:nrow(tsgs),]\n",
    "names(tsgs) <- c(\"GeneID\",\"GeneSymbol\")\n",
    "head(tsgs)"
   ]
  },
  {
   "cell_type": "code",
   "execution_count": 10,
   "metadata": {},
   "outputs": [],
   "source": [
    "exann$istsg <- 0\n",
    "unfound <- 0\n",
    "k<-1\n",
    "\n",
    "for (i in 1:nrow(tsgs)){ # Loop over TSGs\n",
    "    tmp <- which(exann$gene_id==tsgs$GeneID[i]) # Find exons with gene_id matching the current TSG's id\n",
    "    if (length(tmp) > 0) { # If at least one is found\n",
    "        exann$istsg[tmp] <- 1\n",
    "    } else {unfound <- unfound+1}\n",
    "}"
   ]
  },
  {
   "cell_type": "code",
   "execution_count": 11,
   "metadata": {},
   "outputs": [
    {
     "data": {
      "text/html": [
       "'1196/1217 TSGs found (0.982744453574363 %)'"
      ],
      "text/latex": [
       "'1196/1217 TSGs found (0.982744453574363 \\%)'"
      ],
      "text/markdown": [
       "'1196/1217 TSGs found (0.982744453574363 %)'"
      ],
      "text/plain": [
       "[1] \"1196/1217 TSGs found (0.982744453574363 %)\""
      ]
     },
     "metadata": {},
     "output_type": "display_data"
    }
   ],
   "source": [
    "paste0(nrow(tsgs)-unfound,'/',nrow(tsgs), ' TSGs found (', (nrow(tsgs)-unfound)/nrow(tsgs),' %)')"
   ]
  },
  {
   "cell_type": "code",
   "execution_count": 12,
   "metadata": {},
   "outputs": [
    {
     "data": {
      "text/html": [
       "<table>\n",
       "<thead><tr><th scope=col>chrom</th><th scope=col>start</th><th scope=col>end</th><th scope=col>gene_id</th><th scope=col>istsg</th></tr></thead>\n",
       "<tbody>\n",
       "\t<tr><td>chr1     </td><td>11874    </td><td>12227    </td><td>100287102</td><td>0        </td></tr>\n",
       "\t<tr><td>chr1     </td><td>12595    </td><td>12721    </td><td>100287102</td><td>0        </td></tr>\n",
       "\t<tr><td>chr1     </td><td>12613    </td><td>12721    </td><td>100287102</td><td>0        </td></tr>\n",
       "\t<tr><td>chr1     </td><td>12646    </td><td>12697    </td><td>100287102</td><td>0        </td></tr>\n",
       "\t<tr><td>chr1     </td><td>13221    </td><td>14409    </td><td>100287102</td><td>0        </td></tr>\n",
       "\t<tr><td>chr1     </td><td>13403    </td><td>14409    </td><td>100287102</td><td>0        </td></tr>\n",
       "</tbody>\n",
       "</table>\n"
      ],
      "text/latex": [
       "\\begin{tabular}{r|lllll}\n",
       " chrom & start & end & gene\\_id & istsg\\\\\n",
       "\\hline\n",
       "\t chr1      & 11874     & 12227     & 100287102 & 0        \\\\\n",
       "\t chr1      & 12595     & 12721     & 100287102 & 0        \\\\\n",
       "\t chr1      & 12613     & 12721     & 100287102 & 0        \\\\\n",
       "\t chr1      & 12646     & 12697     & 100287102 & 0        \\\\\n",
       "\t chr1      & 13221     & 14409     & 100287102 & 0        \\\\\n",
       "\t chr1      & 13403     & 14409     & 100287102 & 0        \\\\\n",
       "\\end{tabular}\n"
      ],
      "text/markdown": [
       "\n",
       "chrom | start | end | gene_id | istsg | \n",
       "|---|---|---|---|---|---|\n",
       "| chr1      | 11874     | 12227     | 100287102 | 0         | \n",
       "| chr1      | 12595     | 12721     | 100287102 | 0         | \n",
       "| chr1      | 12613     | 12721     | 100287102 | 0         | \n",
       "| chr1      | 12646     | 12697     | 100287102 | 0         | \n",
       "| chr1      | 13221     | 14409     | 100287102 | 0         | \n",
       "| chr1      | 13403     | 14409     | 100287102 | 0         | \n",
       "\n",
       "\n"
      ],
      "text/plain": [
       "  chrom start end   gene_id   istsg\n",
       "1 chr1  11874 12227 100287102 0    \n",
       "2 chr1  12595 12721 100287102 0    \n",
       "3 chr1  12613 12721 100287102 0    \n",
       "4 chr1  12646 12697 100287102 0    \n",
       "5 chr1  13221 14409 100287102 0    \n",
       "6 chr1  13403 14409 100287102 0    "
      ]
     },
     "metadata": {},
     "output_type": "display_data"
    }
   ],
   "source": [
    "head(exann)"
   ]
  },
  {
   "cell_type": "code",
   "execution_count": 13,
   "metadata": {},
   "outputs": [],
   "source": [
    "# save(exann,file='../data/exann.rda')"
   ]
  },
  {
   "cell_type": "code",
   "execution_count": 14,
   "metadata": {},
   "outputs": [],
   "source": [
    "x <- org.Hs.egSYMBOL"
   ]
  },
  {
   "cell_type": "code",
   "execution_count": 15,
   "metadata": {},
   "outputs": [],
   "source": [
    "xf <- function(ids) {\n",
    "    # ids contains gene ids of a given exon\n",
    "    tmp<-c()\n",
    "    n0 <- length(which(ids==0)) # How many of the gene ids for current exon are 0 (missing from TxDB)\n",
    "    if (n0>0) {tmp<-append(tmp,rep(\"NA\",n0))} # If any, append an equal number of \"NA\"s to tmp\n",
    "    nMiss <- length(which(!is.element(ids,mappedkeys(x)))) # How many gene ids are not elements of org.Hs.eg.Db\n",
    "    if (nMiss>0) { # If any, append an equal number of \"NA\"s to tmp\n",
    "        tmp<-append(tmp,rep(\"NA\",nMiss))\n",
    "    }\n",
    "    return(c(as.list(x[ids[ids!=0 & is.element(ids,mappedkeys(x))]]),tmp))\n",
    "}\n",
    "test <- lapply(exann$gene_id,xf)"
   ]
  },
  {
   "cell_type": "code",
   "execution_count": 16,
   "metadata": {},
   "outputs": [],
   "source": [
    "exann$geneSym <- test"
   ]
  },
  {
   "cell_type": "code",
   "execution_count": 17,
   "metadata": {},
   "outputs": [
    {
     "data": {
      "text/html": [
       "<table>\n",
       "<thead><tr><th scope=col>chrom</th><th scope=col>start</th><th scope=col>end</th><th scope=col>gene_id</th><th scope=col>istsg</th><th scope=col>geneSym</th></tr></thead>\n",
       "<tbody>\n",
       "\t<tr><td>chr1     </td><td>11874    </td><td>12227    </td><td>100287102</td><td>0        </td><td>DDX11L1  </td></tr>\n",
       "\t<tr><td>chr1     </td><td>12595    </td><td>12721    </td><td>100287102</td><td>0        </td><td>DDX11L1  </td></tr>\n",
       "\t<tr><td>chr1     </td><td>12613    </td><td>12721    </td><td>100287102</td><td>0        </td><td>DDX11L1  </td></tr>\n",
       "\t<tr><td>chr1     </td><td>12646    </td><td>12697    </td><td>100287102</td><td>0        </td><td>DDX11L1  </td></tr>\n",
       "\t<tr><td>chr1     </td><td>13221    </td><td>14409    </td><td>100287102</td><td>0        </td><td>DDX11L1  </td></tr>\n",
       "\t<tr><td>chr1     </td><td>13403    </td><td>14409    </td><td>100287102</td><td>0        </td><td>DDX11L1  </td></tr>\n",
       "</tbody>\n",
       "</table>\n"
      ],
      "text/latex": [
       "\\begin{tabular}{r|llllll}\n",
       " chrom & start & end & gene\\_id & istsg & geneSym\\\\\n",
       "\\hline\n",
       "\t chr1      & 11874     & 12227     & 100287102 & 0         & DDX11L1  \\\\\n",
       "\t chr1      & 12595     & 12721     & 100287102 & 0         & DDX11L1  \\\\\n",
       "\t chr1      & 12613     & 12721     & 100287102 & 0         & DDX11L1  \\\\\n",
       "\t chr1      & 12646     & 12697     & 100287102 & 0         & DDX11L1  \\\\\n",
       "\t chr1      & 13221     & 14409     & 100287102 & 0         & DDX11L1  \\\\\n",
       "\t chr1      & 13403     & 14409     & 100287102 & 0         & DDX11L1  \\\\\n",
       "\\end{tabular}\n"
      ],
      "text/markdown": [
       "\n",
       "chrom | start | end | gene_id | istsg | geneSym | \n",
       "|---|---|---|---|---|---|\n",
       "| chr1      | 11874     | 12227     | 100287102 | 0         | DDX11L1   | \n",
       "| chr1      | 12595     | 12721     | 100287102 | 0         | DDX11L1   | \n",
       "| chr1      | 12613     | 12721     | 100287102 | 0         | DDX11L1   | \n",
       "| chr1      | 12646     | 12697     | 100287102 | 0         | DDX11L1   | \n",
       "| chr1      | 13221     | 14409     | 100287102 | 0         | DDX11L1   | \n",
       "| chr1      | 13403     | 14409     | 100287102 | 0         | DDX11L1   | \n",
       "\n",
       "\n"
      ],
      "text/plain": [
       "  chrom start end   gene_id   istsg geneSym\n",
       "1 chr1  11874 12227 100287102 0     DDX11L1\n",
       "2 chr1  12595 12721 100287102 0     DDX11L1\n",
       "3 chr1  12613 12721 100287102 0     DDX11L1\n",
       "4 chr1  12646 12697 100287102 0     DDX11L1\n",
       "5 chr1  13221 14409 100287102 0     DDX11L1\n",
       "6 chr1  13403 14409 100287102 0     DDX11L1"
      ]
     },
     "metadata": {},
     "output_type": "display_data"
    }
   ],
   "source": [
    "head(exann)"
   ]
  },
  {
   "cell_type": "code",
   "execution_count": 18,
   "metadata": {},
   "outputs": [],
   "source": [
    "save(exann,file='../data/exann.rda')"
   ]
  },
  {
   "cell_type": "code",
   "execution_count": null,
   "metadata": {},
   "outputs": [],
   "source": []
  }
 ],
 "metadata": {
  "kernelspec": {
   "display_name": "R",
   "language": "R",
   "name": "ir"
  },
  "language_info": {
   "codemirror_mode": "r",
   "file_extension": ".r",
   "mimetype": "text/x-r-source",
   "name": "R",
   "pygments_lexer": "r",
   "version": "3.3.2"
  }
 },
 "nbformat": 4,
 "nbformat_minor": 2
}
