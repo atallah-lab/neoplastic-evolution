{
 "cells": [
  {
   "cell_type": "code",
   "execution_count": 2,
   "metadata": {
    "collapsed": true
   },
   "outputs": [
    {
     "name": "stderr",
     "output_type": "stream",
     "text": [
      "Loading required package: ensembldb\n",
      "Loading required package: BiocGenerics\n",
      "Loading required package: parallel\n",
      "\n",
      "Attaching package: ‘BiocGenerics’\n",
      "\n",
      "The following objects are masked from ‘package:parallel’:\n",
      "\n",
      "    clusterApply, clusterApplyLB, clusterCall, clusterEvalQ,\n",
      "    clusterExport, clusterMap, parApply, parCapply, parLapply,\n",
      "    parLapplyLB, parRapply, parSapply, parSapplyLB\n",
      "\n",
      "The following objects are masked from ‘package:stats’:\n",
      "\n",
      "    IQR, mad, sd, var, xtabs\n",
      "\n",
      "The following objects are masked from ‘package:base’:\n",
      "\n",
      "    anyDuplicated, append, as.data.frame, basename, cbind, colMeans,\n",
      "    colnames, colSums, dirname, do.call, duplicated, eval, evalq,\n",
      "    Filter, Find, get, grep, grepl, intersect, is.unsorted, lapply,\n",
      "    lengths, Map, mapply, match, mget, order, paste, pmax, pmax.int,\n",
      "    pmin, pmin.int, Position, rank, rbind, Reduce, rowMeans, rownames,\n",
      "    rowSums, sapply, setdiff, sort, table, tapply, union, unique,\n",
      "    unsplit, which, which.max, which.min\n",
      "\n",
      "Loading required package: GenomicRanges\n",
      "Loading required package: stats4\n",
      "Loading required package: S4Vectors\n",
      "\n",
      "Attaching package: ‘S4Vectors’\n",
      "\n",
      "The following object is masked from ‘package:base’:\n",
      "\n",
      "    expand.grid\n",
      "\n",
      "Loading required package: IRanges\n",
      "Loading required package: GenomeInfoDb\n",
      "Loading required package: GenomicFeatures\n",
      "Loading required package: AnnotationDbi\n",
      "Loading required package: Biobase\n",
      "Welcome to Bioconductor\n",
      "\n",
      "    Vignettes contain introductory material; view with\n",
      "    'browseVignettes()'. To cite Bioconductor, see\n",
      "    'citation(\"Biobase\")', and for packages 'citation(\"pkgname\")'.\n",
      "\n",
      "Loading required package: AnnotationFilter\n",
      "\n",
      "Attaching package: 'ensembldb'\n",
      "\n",
      "The following object is masked from 'package:stats':\n",
      "\n",
      "    filter\n",
      "\n",
      "\n",
      "Attaching package: 'data.table'\n",
      "\n",
      "The following object is masked from 'package:GenomicRanges':\n",
      "\n",
      "    shift\n",
      "\n",
      "The following object is masked from 'package:IRanges':\n",
      "\n",
      "    shift\n",
      "\n",
      "The following objects are masked from 'package:S4Vectors':\n",
      "\n",
      "    first, second\n",
      "\n"
     ]
    }
   ],
   "source": [
    "library(EnsDb.Hsapiens.v86)\n",
    "library(data.table)"
   ]
  },
  {
   "cell_type": "code",
   "execution_count": 3,
   "metadata": {},
   "outputs": [],
   "source": [
    "# exann <- exons(EnsDb.Hsapiens.v86,columns=c('gene_name'),filter=GeneBiotypeFilter('protein_coding'))\n",
    "exann <- exons(EnsDb.Hsapiens.v86,columns=c('gene_name'))"
   ]
  },
  {
   "cell_type": "code",
   "execution_count": 4,
   "metadata": {},
   "outputs": [
    {
     "data": {
      "text/plain": [
       "GRanges object with 6 ranges and 2 metadata columns:\n",
       "                  seqnames      ranges strand |   gene_name         exon_id\n",
       "                     <Rle>   <IRanges>  <Rle> | <character>     <character>\n",
       "  ENSE00002234944        1 11869-12227      + |     DDX11L1 ENSE00002234944\n",
       "  ENSE00001948541        1 12010-12057      + |     DDX11L1 ENSE00001948541\n",
       "  ENSE00001671638        1 12179-12227      + |     DDX11L1 ENSE00001671638\n",
       "  ENSE00003582793        1 12613-12721      + |     DDX11L1 ENSE00003582793\n",
       "  ENSE00001758273        1 12613-12697      + |     DDX11L1 ENSE00001758273\n",
       "  ENSE00001799933        1 12975-13052      + |     DDX11L1 ENSE00001799933\n",
       "  -------\n",
       "  seqinfo: 357 sequences from GRCh38 genome"
      ]
     },
     "metadata": {},
     "output_type": "display_data"
    }
   ],
   "source": [
    "head(exann)"
   ]
  },
  {
   "cell_type": "code",
   "execution_count": 5,
   "metadata": {
    "scrolled": true
   },
   "outputs": [],
   "source": [
    "exann <- data.table(chrom=as.vector(seqnames(exann)),\n",
    "                    start=start(exann),\n",
    "                    end=end(exann),\n",
    "                    geneSym=exann$gene_name)"
   ]
  },
  {
   "cell_type": "code",
   "execution_count": 6,
   "metadata": {},
   "outputs": [
    {
     "data": {
      "text/html": [
       "<table>\n",
       "<thead><tr><th scope=col>chrom</th><th scope=col>start</th><th scope=col>end</th><th scope=col>geneSym</th></tr></thead>\n",
       "<tbody>\n",
       "\t<tr><td>1      </td><td>11869  </td><td>12227  </td><td>DDX11L1</td></tr>\n",
       "\t<tr><td>1      </td><td>12010  </td><td>12057  </td><td>DDX11L1</td></tr>\n",
       "\t<tr><td>1      </td><td>12179  </td><td>12227  </td><td>DDX11L1</td></tr>\n",
       "\t<tr><td>1      </td><td>12613  </td><td>12721  </td><td>DDX11L1</td></tr>\n",
       "\t<tr><td>1      </td><td>12613  </td><td>12697  </td><td>DDX11L1</td></tr>\n",
       "\t<tr><td>1      </td><td>12975  </td><td>13052  </td><td>DDX11L1</td></tr>\n",
       "</tbody>\n",
       "</table>\n"
      ],
      "text/latex": [
       "\\begin{tabular}{r|llll}\n",
       " chrom & start & end & geneSym\\\\\n",
       "\\hline\n",
       "\t 1       & 11869   & 12227   & DDX11L1\\\\\n",
       "\t 1       & 12010   & 12057   & DDX11L1\\\\\n",
       "\t 1       & 12179   & 12227   & DDX11L1\\\\\n",
       "\t 1       & 12613   & 12721   & DDX11L1\\\\\n",
       "\t 1       & 12613   & 12697   & DDX11L1\\\\\n",
       "\t 1       & 12975   & 13052   & DDX11L1\\\\\n",
       "\\end{tabular}\n"
      ],
      "text/markdown": [
       "\n",
       "chrom | start | end | geneSym | \n",
       "|---|---|---|---|---|---|\n",
       "| 1       | 11869   | 12227   | DDX11L1 | \n",
       "| 1       | 12010   | 12057   | DDX11L1 | \n",
       "| 1       | 12179   | 12227   | DDX11L1 | \n",
       "| 1       | 12613   | 12721   | DDX11L1 | \n",
       "| 1       | 12613   | 12697   | DDX11L1 | \n",
       "| 1       | 12975   | 13052   | DDX11L1 | \n",
       "\n",
       "\n"
      ],
      "text/plain": [
       "  chrom start end   geneSym\n",
       "1 1     11869 12227 DDX11L1\n",
       "2 1     12010 12057 DDX11L1\n",
       "3 1     12179 12227 DDX11L1\n",
       "4 1     12613 12721 DDX11L1\n",
       "5 1     12613 12697 DDX11L1\n",
       "6 1     12975 13052 DDX11L1"
      ]
     },
     "metadata": {},
     "output_type": "display_data"
    }
   ],
   "source": [
    "chrnames <- c('1','2','3','4','5','6','7','8','9','10','11','12','13','14','15','16','17','18','19','20','21','22','X','Y')\n",
    "exann <- exann[exann$chrom %in% chrnames,]\n",
    "head(exann)"
   ]
  },
  {
   "cell_type": "code",
   "execution_count": 7,
   "metadata": {},
   "outputs": [
    {
     "data": {
      "text/html": [
       "0.072420484"
      ],
      "text/latex": [
       "0.072420484"
      ],
      "text/markdown": [
       "0.072420484"
      ],
      "text/plain": [
       "[1] 0.07242048"
      ]
     },
     "metadata": {},
     "output_type": "display_data"
    }
   ],
   "source": [
    "sum(exann$end-exann$start)/3e9"
   ]
  },
  {
   "cell_type": "code",
   "execution_count": 8,
   "metadata": {},
   "outputs": [],
   "source": [
    "save(exann,file='../data/exann.rda')"
   ]
  },
  {
   "cell_type": "code",
   "execution_count": null,
   "metadata": {},
   "outputs": [],
   "source": []
  },
  {
   "cell_type": "code",
   "execution_count": null,
   "metadata": {},
   "outputs": [],
   "source": []
  },
  {
   "cell_type": "code",
   "execution_count": null,
   "metadata": {},
   "outputs": [],
   "source": []
  },
  {
   "cell_type": "code",
   "execution_count": null,
   "metadata": {},
   "outputs": [],
   "source": []
  },
  {
   "cell_type": "code",
   "execution_count": null,
   "metadata": {},
   "outputs": [],
   "source": []
  }
 ],
 "metadata": {
  "kernelspec": {
   "display_name": "R",
   "language": "R",
   "name": "ir"
  },
  "language_info": {
   "codemirror_mode": "r",
   "file_extension": ".r",
   "mimetype": "text/x-r-source",
   "name": "R",
   "pygments_lexer": "r",
   "version": "3.5.1"
  }
 },
 "nbformat": 4,
 "nbformat_minor": 2
}
