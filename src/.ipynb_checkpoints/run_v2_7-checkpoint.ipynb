{
 "cells": [
  {
   "cell_type": "markdown",
   "metadata": {},
   "source": [
    "### Load dependencies and data files"
   ]
  },
  {
   "cell_type": "code",
   "execution_count": 199,
   "metadata": {},
   "outputs": [],
   "source": [
    "library(data.table)\n",
    "library(parallel)\n",
    "load('../data/genomes/hg38/exonicvsnon_counts.rda') # Probabilities of each mutation type\n",
    "load('../data/genomes/hg38/gene_pd_exon.rda') # Load tables giving probability of insertion for each gene in a diploid genome for both genders\n",
    "source('./src_sompop_v0_2_7.r')\n",
    "xy_genes <- gene_pd_m$gene_id[gene_pd_m$chrom %in% c('X','Y')] # Getting list of genes on chroms. X and Y by symbol"
   ]
  },
  {
   "cell_type": "markdown",
   "metadata": {},
   "source": [
    "### Set the file containing a list of driver genes (by Ensembl ID)"
   ]
  },
  {
   "cell_type": "code",
   "execution_count": 200,
   "metadata": {},
   "outputs": [],
   "source": [
    "geneListFile <- '../data/gene_lists/drivers_lusc_filt.txt'"
   ]
  },
  {
   "cell_type": "code",
   "execution_count": 201,
   "metadata": {},
   "outputs": [],
   "source": [
    "### Check the list\n",
    "# geneList <- read.csv(geneListFile,header=F)\n",
    "# geneList <- geneList$V1\n",
    "# gene_pd_m[gene_pd_m$gene_id %in% geneList]"
   ]
  },
  {
   "cell_type": "markdown",
   "metadata": {},
   "source": [
    "### Define other parameters"
   ]
  },
  {
   "cell_type": "code",
   "execution_count": 204,
   "metadata": {},
   "outputs": [],
   "source": [
    "###################################################3\n",
    "# Gender of organism\n",
    "gender <- 'male'\n",
    "\n",
    "# Ensembl ID of driver gene disrupted at t=0\n",
    "driverGene <- ''\n",
    "driverGene <- 'ENSG00000141510' # TP53\n",
    "\n",
    "# Initial number of cells\n",
    "N0 <- 1000\n",
    "\n",
    "# Average # L1 insertions / cell cycle\n",
    "mu <- 50\n",
    "\n",
    "# Selective strengths of each mutation type\n",
    "spd <- 0.0 # Homozygous driver\n",
    "spp <- 0.00 # Homozygous passenger\n",
    "sld <- spd*0.1 # Heterozygous driver\n",
    "slp <- spp*0.1 # Hetero. passenger\n",
    "\n",
    "# Number of time steps to simulate\n",
    "NT <- 100\n",
    "\n",
    "####################################################\n",
    "# Parallel processing (mcmapply())\n",
    "parallel <- FALSE\n",
    "\n",
    "# Time resolution: number of generations simulated per timestep (can be < 1)\n",
    "tau <- 1\n",
    "\n",
    "# Buffer size of population data object; represents the max possible number of clones in the population\n",
    "maxNClones <- N0*20\n",
    "# Log path\n",
    "logpath <- './log.txt'"
   ]
  },
  {
   "cell_type": "markdown",
   "metadata": {},
   "source": [
    "## Test run"
   ]
  },
  {
   "cell_type": "code",
   "execution_count": 206,
   "metadata": {
    "scrolled": false
   },
   "outputs": [
    {
     "name": "stdout",
     "output_type": "stream",
     "text": [
      "   user  system elapsed \n",
      "  7.452   0.000   7.451 \n"
     ]
    },
    {
     "data": {
      "image/png": "[encoded data removed]",
      "text/plain": [
       "plot without title"
      ]
     },
     "metadata": {},
     "output_type": "display_data"
    }
   ],
   "source": [
    "out <- sompop(N0, mu, 1, NT, sld, slp, spd, spp, gender, driverGene, geneListFile, maxNClones, logpath, 'none', parallel)\n",
    "Pop <- out[[1]]\n",
    "N <- out[[2]]\n",
    "genTime <- out[[4]]\n",
    "\n",
    "# head(Pop)\n",
    "N[N==0] <- NA\n",
    "genTime[genTime==0] <- NA\n",
    "plot(1:NT*tau,N,type='l',xlab='Generation',ylab='Population Size')"
   ]
  },
  {
   "cell_type": "markdown",
   "metadata": {},
   "source": [
    "## Batch run - random sample conditions"
   ]
  },
  {
   "cell_type": "code",
   "execution_count": null,
   "metadata": {},
   "outputs": [],
   "source": [
    "# Static parameters\n",
    "sd <- .1\n",
    "sp <- .005\n",
    "hef <- 0.1 # Fraction of homozygous effect assigned to heterozygous mutations\n",
    "parallel <- FALSE # Whether to use parallel processing\n",
    "\n",
    "nrep <- 10 # Number of replicates for each sampled condition\n",
    "Ns <- 100 # Number of random conditions to sample and simulate\n",
    "outPath <- '../data/output/test' # Output file\n",
    "logPath <- paste0(outPath,'run.log') # Log file\n",
    "system(paste0('rm ',logPath))\n",
    "\n",
    "nrun <- 0\n",
    "tryCatch({\n",
    "\n",
    "    for (ii in 1:Ns) {\n",
    "        \n",
    "        # Sample random N0 (10 - 2500)\n",
    "        N0 <- sample(seq(10,25e2,10),1)\n",
    "        \n",
    "        # Sample random mu (0.01 - 6)\n",
    "        mu <- sample(seq(0.01,6,0.05),1)\n",
    "        \n",
    "        # Perform replicates\n",
    "        for (nn in 1:nrep) {\n",
    "            nrun <- nrun+1\n",
    "            line <- paste0('\\nRun: ',toString(nrun),'\\tN0: ',toString(N0),'\\tmu: ',toString(mu),'\\tsd: ',toString(sd),'\\tsp: ',toString(sp))\n",
    "            write(line,file=logPath,append=TRUE)\n",
    "            out <- sompop(N0, mu, tau, NT, sd*hef, sp*hef, sd, sp, gender, driverGene, geneListFile, N0*4, logPath, 'none', parallel)\n",
    "            Pop <- out[[1]]\n",
    "            N <- out[[2]]\n",
    "            mut_genes <- out[[3]]\n",
    "            gen_time <- out[[4]]\n",
    "            save(N0,mu,Pop,N,mut_genes,gen_time,file=paste0(outPath,'run_n0',N0,'_',nrun,\".rda\"))\n",
    "            rm(Pop,N,mut_genes,gen_time)\n",
    "        }\n",
    "    }\n",
    "\n",
    "    }, warning = function(warn.msg){\n",
    "        write(toString(warn.msg), logPath, append=TRUE)\n",
    "    }, error = function(err.msg){\n",
    "        write(toString(err.msg), logPath, append=TRUE)\n",
    "    }\n",
    ")"
   ]
  },
  {
   "cell_type": "code",
   "execution_count": null,
   "metadata": {},
   "outputs": [],
   "source": []
  },
  {
   "cell_type": "code",
   "execution_count": null,
   "metadata": {},
   "outputs": [],
   "source": []
  },
  {
   "cell_type": "code",
   "execution_count": null,
   "metadata": {},
   "outputs": [],
   "source": []
  },
  {
   "cell_type": "code",
   "execution_count": null,
   "metadata": {},
   "outputs": [],
   "source": []
  },
  {
   "cell_type": "code",
   "execution_count": null,
   "metadata": {},
   "outputs": [],
   "source": []
  },
  {
   "cell_type": "code",
   "execution_count": null,
   "metadata": {},
   "outputs": [],
   "source": []
  }
 ],
 "metadata": {
  "kernelspec": {
   "display_name": "R",
   "language": "R",
   "name": "ir"
  },
  "language_info": {
   "codemirror_mode": "r",
   "file_extension": ".r",
   "mimetype": "text/x-r-source",
   "name": "R",
   "pygments_lexer": "r",
   "version": "3.6.0"
  }
 },
 "nbformat": 4,
 "nbformat_minor": 2
}
