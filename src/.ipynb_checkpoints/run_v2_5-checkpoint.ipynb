{
 "cells": [
  {
   "cell_type": "code",
   "execution_count": 7,
   "metadata": {},
   "outputs": [],
   "source": [
    "library(data.table)\n",
    "load('../data/exonicvsnon_counts.rda') # Probabilities of each mutation type\n",
    "load('../data/gene_pd_exon.rda') # Load tables giving probability of insertion for each gene in a diploid genome for both genders\n",
    "source('./src_sompop_v0_2_4.r')\n",
    "xy_genes <- gene_pd_m$gene_id[gene_pd_m$chrom %in% c('X','Y')] # Getting list of genes on chroms. X and Y by symbol`"
   ]
  },
  {
   "cell_type": "code",
   "execution_count": 8,
   "metadata": {},
   "outputs": [],
   "source": [
    "geneList <- read.csv('../data/drivers_lusc.txt',header=F)\n",
    "geneList <- geneList$V1"
   ]
  },
  {
   "cell_type": "code",
   "execution_count": 9,
   "metadata": {},
   "outputs": [
    {
     "data": {
      "text/html": [
       "<table>\n",
       "<thead><tr><th scope=col>chrom</th><th scope=col>gene_id</th><th scope=col>counts</th><th scope=col>length</th><th scope=col>type</th><th scope=col>gene_sym</th><th scope=col>p</th></tr></thead>\n",
       "<tbody>\n",
       "\t<tr><td>2              </td><td>ENSG00000115414</td><td>323.59505      </td><td>17315          </td><td>0              </td><td>FN1            </td><td>1.744294e-04   </td></tr>\n",
       "\t<tr><td>1              </td><td>ENSG00000117713</td><td>253.21151      </td><td>15928          </td><td>0              </td><td>ARID1A         </td><td>1.388633e-04   </td></tr>\n",
       "\t<tr><td>13             </td><td>ENSG00000139687</td><td>190.07949      </td><td> 6452          </td><td>0              </td><td>RB1            </td><td>9.875020e-05   </td></tr>\n",
       "\t<tr><td>17             </td><td>ENSG00000141510</td><td>119.49962      </td><td> 5688          </td><td>0              </td><td>TP53           </td><td>6.371016e-05   </td></tr>\n",
       "\t<tr><td>9              </td><td>ENSG00000147889</td><td> 52.38117      </td><td> 4329          </td><td>0              </td><td>CDKN2A         </td><td>2.975770e-05   </td></tr>\n",
       "\t<tr><td>9              </td><td>ENSG00000148400</td><td> 76.60065      </td><td>10377          </td><td>0              </td><td>NOTCH1         </td><td>4.755304e-05   </td></tr>\n",
       "\t<tr><td>12             </td><td>ENSG00000167548</td><td>154.64003      </td><td>20485          </td><td>0              </td><td>KMT2D          </td><td>9.553649e-05   </td></tr>\n",
       "\t<tr><td>10             </td><td>ENSG00000171862</td><td>356.45673      </td><td>11581          </td><td>0              </td><td>PTEN           </td><td>1.846694e-04   </td></tr>\n",
       "\t<tr><td>17             </td><td>ENSG00000196712</td><td>806.26957      </td><td>27130          </td><td>0              </td><td>NF1            </td><td>4.186364e-04   </td></tr>\n",
       "</tbody>\n",
       "</table>\n"
      ],
      "text/latex": [
       "\\begin{tabular}{r|lllllll}\n",
       " chrom & gene\\_id & counts & length & type & gene\\_sym & p\\\\\n",
       "\\hline\n",
       "\t 2               & ENSG00000115414 & 323.59505       & 17315           & 0               & FN1             & 1.744294e-04   \\\\\n",
       "\t 1               & ENSG00000117713 & 253.21151       & 15928           & 0               & ARID1A          & 1.388633e-04   \\\\\n",
       "\t 13              & ENSG00000139687 & 190.07949       &  6452           & 0               & RB1             & 9.875020e-05   \\\\\n",
       "\t 17              & ENSG00000141510 & 119.49962       &  5688           & 0               & TP53            & 6.371016e-05   \\\\\n",
       "\t 9               & ENSG00000147889 &  52.38117       &  4329           & 0               & CDKN2A          & 2.975770e-05   \\\\\n",
       "\t 9               & ENSG00000148400 &  76.60065       & 10377           & 0               & NOTCH1          & 4.755304e-05   \\\\\n",
       "\t 12              & ENSG00000167548 & 154.64003       & 20485           & 0               & KMT2D           & 9.553649e-05   \\\\\n",
       "\t 10              & ENSG00000171862 & 356.45673       & 11581           & 0               & PTEN            & 1.846694e-04   \\\\\n",
       "\t 17              & ENSG00000196712 & 806.26957       & 27130           & 0               & NF1             & 4.186364e-04   \\\\\n",
       "\\end{tabular}\n"
      ],
      "text/markdown": [
       "\n",
       "chrom | gene_id | counts | length | type | gene_sym | p | \n",
       "|---|---|---|---|---|---|---|---|---|\n",
       "| 2               | ENSG00000115414 | 323.59505       | 17315           | 0               | FN1             | 1.744294e-04    | \n",
       "| 1               | ENSG00000117713 | 253.21151       | 15928           | 0               | ARID1A          | 1.388633e-04    | \n",
       "| 13              | ENSG00000139687 | 190.07949       |  6452           | 0               | RB1             | 9.875020e-05    | \n",
       "| 17              | ENSG00000141510 | 119.49962       |  5688           | 0               | TP53            | 6.371016e-05    | \n",
       "| 9               | ENSG00000147889 |  52.38117       |  4329           | 0               | CDKN2A          | 2.975770e-05    | \n",
       "| 9               | ENSG00000148400 |  76.60065       | 10377           | 0               | NOTCH1          | 4.755304e-05    | \n",
       "| 12              | ENSG00000167548 | 154.64003       | 20485           | 0               | KMT2D           | 9.553649e-05    | \n",
       "| 10              | ENSG00000171862 | 356.45673       | 11581           | 0               | PTEN            | 1.846694e-04    | \n",
       "| 17              | ENSG00000196712 | 806.26957       | 27130           | 0               | NF1             | 4.186364e-04    | \n",
       "\n",
       "\n"
      ],
      "text/plain": [
       "  chrom gene_id         counts    length type gene_sym p           \n",
       "1 2     ENSG00000115414 323.59505 17315  0    FN1      1.744294e-04\n",
       "2 1     ENSG00000117713 253.21151 15928  0    ARID1A   1.388633e-04\n",
       "3 13    ENSG00000139687 190.07949  6452  0    RB1      9.875020e-05\n",
       "4 17    ENSG00000141510 119.49962  5688  0    TP53     6.371016e-05\n",
       "5 9     ENSG00000147889  52.38117  4329  0    CDKN2A   2.975770e-05\n",
       "6 9     ENSG00000148400  76.60065 10377  0    NOTCH1   4.755304e-05\n",
       "7 12    ENSG00000167548 154.64003 20485  0    KMT2D    9.553649e-05\n",
       "8 10    ENSG00000171862 356.45673 11581  0    PTEN     1.846694e-04\n",
       "9 17    ENSG00000196712 806.26957 27130  0    NF1      4.186364e-04"
      ]
     },
     "metadata": {},
     "output_type": "display_data"
    }
   ],
   "source": [
    "gene_pd_m[gene_pd_m$gene_id %in% geneList]\n",
    "geneList <- gene_pd_m[gene_pd_m$gene_id %in% geneList]$gene_sym"
   ]
  },
  {
   "cell_type": "markdown",
   "metadata": {},
   "source": [
    "### Define parameters"
   ]
  },
  {
   "cell_type": "code",
   "execution_count": 36,
   "metadata": {},
   "outputs": [],
   "source": [
    "###################################################3\n",
    "# Gender of organism\n",
    "gender <- 'male'\n",
    "\n",
    "# Symbol of driver gene disrupted at t=0\n",
    "driverGene <- ''\n",
    "\n",
    "# List of driver genes\n",
    "geneList <- geneList\n",
    "\n",
    "# Initial number of cells\n",
    "N0 <- 5e2\n",
    "\n",
    "# Average # L1 insertions / cell cycle\n",
    "mu <- 5\n",
    "if (gender=='male') {\n",
    "    mu <- mu*(1-pd_exvsnon_m[2])# Scale by 1-probability of null (intron) insertion, to convert to probability of exonic insertion\n",
    "} else if (gender=='female') {\n",
    "    mu <- mu*(1-pd_exvsnon_f[2])\n",
    "}\n",
    "\n",
    "# Selective strengths of each mutation type\n",
    "spd <- 0.2 # Homozygous driver\n",
    "spp <- 0.001 # Homozygous passenger\n",
    "sld <- spd*0.1 # Heterozygous driver\n",
    "slp <- spp*0.1 # Hetero. passenger\n",
    "\n",
    "# Number of time steps to simulate\n",
    "NT <- 5e3\n",
    "\n",
    "###################################################3\n",
    "# Time resolution: number of timesteps per generation\n",
    "tau <- 1\n",
    "tau <- 1/tau\n",
    "# Buffer size of population data object; represents the max possible number of clones in the population\n",
    "maxNClones <- N0*5\n",
    "# Log path\n",
    "logpath <- './test_v2.4.log'"
   ]
  },
  {
   "cell_type": "markdown",
   "metadata": {},
   "source": [
    "## Test run"
   ]
  },
  {
   "cell_type": "code",
   "execution_count": 37,
   "metadata": {},
   "outputs": [
    {
     "name": "stdout",
     "output_type": "stream",
     "text": [
      "   user  system elapsed \n",
      "100.968   0.004 100.972 \n"
     ]
    },
    {
     "data": {
      "image/png": "[encoded data removed]",
      "text/plain": [
       "plot without title"
      ]
     },
     "metadata": {},
     "output_type": "display_data"
    }
   ],
   "source": [
    "out <- sompop(N0, mu, tau, NT, sld, slp, spd, spp, gender, driverGene, geneList, maxNClones, logpath)\n",
    "Pop <- out[[1]]\n",
    "N <- out[[2]]\n",
    "genTime <- out[[4]]\n",
    "\n",
    "# head(Pop)\n",
    "N[N==0] <- NA\n",
    "genTime[genTime==0] <- NA\n",
    "plot(1:NT*tau,N,type='l',xlab='Generation',ylab='Population Size')"
   ]
  },
  {
   "cell_type": "markdown",
   "metadata": {},
   "source": [
    "## Batch run"
   ]
  },
  {
   "cell_type": "code",
   "execution_count": null,
   "metadata": {},
   "outputs": [],
   "source": [
    "nrun <- 0\n",
    "\n",
    "N0v <- c(1e2,5e2,1e3)\n",
    "muv <- c(0.05,0.1,0.5,1,5)\n",
    "if (gender=='male') {\n",
    "    muv_adj <- muv*(1-pd_exvsnon_m[2])\n",
    "} else if (gender=='female') {\n",
    "    muv_adj <- muv*(1-pd_exvsnon_f[2])\n",
    "}\n",
    "sdv <- c(0.001,.005,0.01,0.05,0.1,0.5,1)\n",
    "spv <- c(0.001,.005,0.01,0.05,0.1,0.5,1)\n",
    "hef <- 0.1 # Fraction of homozygous effect assigned to heterozygous mutations\n",
    "\n",
    "outPath <- '~/jackgl/lusc_1115_3/'\n",
    "logPath <- paste0(outPath,'run_1.log')\n",
    "system(paste0('rm ',logPath))\n",
    "\n",
    "tryCatch({\n",
    "    for (ii in 1:length(N0v)){\n",
    "        for (jj in 1:length(muv)) {\n",
    "            for (ll in 1:length(sdv)) {\n",
    "                for (mm in 1:length(spv)) {\n",
    "                    for (nn in 1:5) {\n",
    "                        nrun <- nrun+1\n",
    "                        N0 <- N0v[ii]\n",
    "                        mu <- muv_adj[jj]\n",
    "                        sd <- sdv[ll]\n",
    "                        sp <- spv[mm]\n",
    "                        line <- paste0('Run: ',toString(nrun),'\\tN0: ',toString(N0v[ii]),'\\tmu: ',toString(muv[jj]),'\\tsd: ',toString(sdv[ll]),'\\tsp: ',toString(spv[mm]))\n",
    "                        write(line,file=logPath,append=TRUE)\n",
    "                        out <- sompop(N0, mu, tau, NT, sd*hef, sp*hef, sd, sp, gender, driverGene, geneList, N0v[ii]*4, logPath)\n",
    "                        Pop <- out[[1]]\n",
    "                        N <- out[[2]]\n",
    "                        mut_genes <- out[[3]]\n",
    "                        gen_time <- out[[4]]\n",
    "                        save(Pop,N,mut_genes,gen_time,N0,mu,sd,sp,file=paste0(outPath,'run_n0',N0v[ii],'_',nrun,\".rda\"))\n",
    "                        rm(Pop,N)\n",
    "                    }\n",
    "                }\n",
    "            }\n",
    "        }\n",
    "    }\n",
    "    }, warning = function(warn.msg){\n",
    "        write(toString(warn.msg), logPath, append=TRUE)\n",
    "    }, error = function(err.msg){\n",
    "        write(toString(err.msg), logPath, append=TRUE)\n",
    "    }\n",
    ")"
   ]
  },
  {
   "cell_type": "code",
   "execution_count": null,
   "metadata": {},
   "outputs": [],
   "source": []
  },
  {
   "cell_type": "code",
   "execution_count": null,
   "metadata": {},
   "outputs": [],
   "source": []
  },
  {
   "cell_type": "code",
   "execution_count": null,
   "metadata": {},
   "outputs": [],
   "source": []
  },
  {
   "cell_type": "code",
   "execution_count": null,
   "metadata": {},
   "outputs": [],
   "source": []
  },
  {
   "cell_type": "code",
   "execution_count": null,
   "metadata": {},
   "outputs": [],
   "source": []
  },
  {
   "cell_type": "code",
   "execution_count": null,
   "metadata": {},
   "outputs": [],
   "source": []
  }
 ],
 "metadata": {
  "kernelspec": {
   "display_name": "R",
   "language": "R",
   "name": "ir"
  },
  "language_info": {
   "codemirror_mode": "r",
   "file_extension": ".r",
   "mimetype": "text/x-r-source",
   "name": "R",
   "pygments_lexer": "r",
   "version": "3.5.1"
  }
 },
 "nbformat": 4,
 "nbformat_minor": 2
}
