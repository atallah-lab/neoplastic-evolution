{
 "cells": [
  {
   "cell_type": "markdown",
   "metadata": {},
   "source": [
    "## Load libraries and necessary data files"
   ]
  },
  {
   "cell_type": "code",
   "execution_count": 1,
   "metadata": {},
   "outputs": [],
   "source": [
    "library(data.tree)\n",
    "library(data.table)\n",
    "load('../data/mutation_type_pd.rda')"
   ]
  },
  {
   "cell_type": "code",
   "execution_count": 2,
   "metadata": {},
   "outputs": [
    {
     "data": {
      "text/html": [
       "<dl class=dl-horizontal>\n",
       "\t<dt>P_driver</dt>\n",
       "\t\t<dd>0.00109464658581436</dd>\n",
       "\t<dt>P_passenger</dt>\n",
       "\t\t<dd>0.0189841238612942</dd>\n",
       "\t<dt>P_null</dt>\n",
       "\t\t<dd>0.979921229552891</dd>\n",
       "</dl>\n"
      ],
      "text/latex": [
       "\\begin{description*}\n",
       "\\item[P\\textbackslash{}\\_driver] 0.00109464658581436\n",
       "\\item[P\\textbackslash{}\\_passenger] 0.0189841238612942\n",
       "\\item[P\\textbackslash{}\\_null] 0.979921229552891\n",
       "\\end{description*}\n"
      ],
      "text/markdown": [
       "P_driver\n",
       ":   0.00109464658581436P_passenger\n",
       ":   0.0189841238612942P_null\n",
       ":   0.979921229552891\n",
       "\n"
      ],
      "text/plain": [
       "   P_driver P_passenger      P_null \n",
       "0.001094647 0.018984124 0.979921230 "
      ]
     },
     "metadata": {},
     "output_type": "display_data"
    }
   ],
   "source": [
    "names(pdfinal) <- c('P_driver','P_passenger','P_null')\n",
    "pdfinal"
   ]
  },
  {
   "cell_type": "code",
   "execution_count": 3,
   "metadata": {},
   "outputs": [],
   "source": [
    "birthrate <- function(node, type, sd, sp) {\n",
    "        nd <- 0; np <- 0\n",
    "        switch(type,\n",
    "            { b <- ((1+sd)^(node$nd+1))/((1+sp)^(node$np  )); nd <- 1 },\n",
    "            { b <- ((1+sd)^(node$nd  ))/((1+sp)^(node$np+1)); np <- 1 },\n",
    "            { b <- node$B }\n",
    "        )\n",
    "            \n",
    "        return(list(b,nd,np))\n",
    "            \n",
    "}"
   ]
  },
  {
   "cell_type": "code",
   "execution_count": 231,
   "metadata": {},
   "outputs": [],
   "source": [
    "maybeTranspose <- function(node, tstep, sd, sp) {\n",
    "\n",
    "    if (node$B==0){ # if the birth rate of the clone is zero, skip the node\n",
    "        return()\n",
    "    }\n",
    "    \n",
    "    # increase the number of cells by the existing number * the birth rate\n",
    "    # decrease by the existing number * the death rate\n",
    "    nc <- max(tail(node$ncells,n=1) + round(tail(node$ncells,n=1)*node$B) - round(tail(node$ncells,n=1)*(N[tstep-1]/N0)), 0)\n",
    "    \n",
    "    # sample from binomial distribution for number of transpositions\n",
    "    if (nc < 4.2e9) {ntrans <- rbinom(1,nc,mu)} # rbinom() fails for large n\n",
    "    else {ntrans <- nc*mu} # If n is too large, use the expected number of events (mean of distribution)\n",
    "    if (ntrans > 0) {\n",
    "        \n",
    "        nc <- nc-ntrans\n",
    "        types <- sample(1:3,ntrans,replace=TRUE,prob=pdfinal) # sample mutation types from pdfinal\n",
    "\n",
    "        for (i in 1:ntrans) {\n",
    "            l<<-l+1\n",
    "            tmp <- birthrate(node,types[i],sd,sp)\n",
    "            node$AddChild(l, ncells=1, B=tmp[[1]], nd=node$nd+tmp[[2]], np=node$np+tmp[[3]])\n",
    "        }\n",
    "        \n",
    "    }   \n",
    "    node$ncells <- append(node$ncells,nc)\n",
    "    N[tstep] <<- N[tstep] + nc + ntrans\n",
    "}"
   ]
  },
  {
   "cell_type": "markdown",
   "metadata": {},
   "source": [
    "### Define parameters"
   ]
  },
  {
   "cell_type": "code",
   "execution_count": 262,
   "metadata": {},
   "outputs": [],
   "source": [
    "#--- Set simulation parameters\n",
    "N0 <- 100           # Initial number of cells in root clone\n",
    "mu <- 0.2           # Probability of transposition / timestep of a single cell\n",
    "\n",
    "NT <- 100            # Number of time steps"
   ]
  },
  {
   "cell_type": "code",
   "execution_count": 274,
   "metadata": {
    "scrolled": false
   },
   "outputs": [
    {
     "data": {
      "text/html": [
       "<strong>elapsed:</strong> 2.46599999999989"
      ],
      "text/latex": [
       "\\textbf{elapsed:} 2.46599999999989"
      ],
      "text/markdown": [
       "**elapsed:** 2.46599999999989"
      ],
      "text/plain": [
       "elapsed \n",
       "  2.466 "
      ]
     },
     "metadata": {},
     "output_type": "display_data"
    },
    {
     "data": {
      "image/png": "[encoded data removed]",
      "text/plain": [
       "plot without title"
      ]
     },
     "metadata": {},
     "output_type": "display_data"
    }
   ],
   "source": [
    "l<-1 # Clone counter\n",
    "\n",
    "N <- rep(0,NT)\n",
    "N[1] <- N0 # total population size\n",
    "\n",
    "CellPop <- Node$new(1) # Initialize data.tree as single node\n",
    "\n",
    "CellPop$ncells <- c(N0) # Set initial number of cells of clone\n",
    "CellPop$B <-  1         # Set initial birth rate of clone\n",
    "CellPop$np <- 0         # Set initial number of drivier mutations\n",
    "CellPop$nd <- 0         # Set initial number of passenger mutations\n",
    "\n",
    "ptm <- proc.time()\n",
    "for (i in 2:NT) {\n",
    "\n",
    "    t <- Traverse(CellPop,traversal='pre-order',filterFun=function(x) tail(x$ncells,n=1) > 0)    \n",
    "    lapply(t,maybeTranspose,i,1,1)\n",
    "    \n",
    "}\n",
    "(proc.time() - ptm)[3]\n",
    "\n",
    "# print(CellPop,'ncells','B','nd','np')\n",
    "# N\n",
    "options(repr.plot.width=9, repr.plot.height=4)\n",
    "plot(N,type='l',xlab='Generation',ylab='Population Size'); grid()"
   ]
  },
  {
   "cell_type": "code",
   "execution_count": 270,
   "metadata": {},
   "outputs": [
    {
     "data": {
      "text/html": [
       "1"
      ],
      "text/latex": [
       "1"
      ],
      "text/markdown": [
       "1"
      ],
      "text/plain": [
       "[1] 1"
      ]
     },
     "metadata": {},
     "output_type": "display_data"
    }
   ],
   "source": [
    "# See what proportion of the nodes are empty\n",
    "test <- vapply(CellPop$Get('ncells'),tail,n=1L,FUN.VALUE = numeric(1))\n",
    "length(which(test==0))/CellPop$totalCount"
   ]
  },
  {
   "cell_type": "code",
   "execution_count": null,
   "metadata": {},
   "outputs": [],
   "source": []
  },
  {
   "cell_type": "code",
   "execution_count": null,
   "metadata": {},
   "outputs": [],
   "source": []
  },
  {
   "cell_type": "code",
   "execution_count": null,
   "metadata": {},
   "outputs": [],
   "source": []
  },
  {
   "cell_type": "code",
   "execution_count": null,
   "metadata": {},
   "outputs": [],
   "source": []
  },
  {
   "cell_type": "code",
   "execution_count": null,
   "metadata": {},
   "outputs": [],
   "source": []
  },
  {
   "cell_type": "code",
   "execution_count": null,
   "metadata": {},
   "outputs": [],
   "source": []
  }
 ],
 "metadata": {
  "kernelspec": {
   "display_name": "R",
   "language": "R",
   "name": "ir"
  },
  "language_info": {
   "codemirror_mode": "r",
   "file_extension": ".r",
   "mimetype": "text/x-r-source",
   "name": "R",
   "pygments_lexer": "r",
   "version": "3.4.4"
  }
 },
 "nbformat": 4,
 "nbformat_minor": 2
}
