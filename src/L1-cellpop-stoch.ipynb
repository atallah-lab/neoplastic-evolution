{
 "cells": [
  {
   "cell_type": "code",
   "execution_count": 1,
   "metadata": {},
   "outputs": [],
   "source": [
    "library(data.table)\n",
    "# library(pracma) # only needed for moving-average plot\n",
    "load('../data/cancer_type_pd_th25.rda') # probabilities of each mutation type"
   ]
  },
  {
   "cell_type": "code",
   "execution_count": 2,
   "metadata": {},
   "outputs": [],
   "source": [
    "birthrate <- function(nd, np, sd, sp, tau) { # probability of birth per timestep\n",
    "    return((((1+sd)^nd)/((1+sp)^np))*tau)\n",
    "}\n",
    "delta_ncells <- function(B, D, ncells) { # change in number of cells for a clone\n",
    "    return (max(ncells + rbinom(1,ncells,min(B,1))-rbinom(1,ncells,min(D,1)),0))\n",
    "}\n",
    "get_mu_i <- function(B, mu) {return(mu*B)} # mutation rate of clone i: proportional to birth rate\n",
    "get_ntrans <- function(ncells, mu_i) {return (rbinom(1,ncells,mu_i))} # number of transpositions in current clone"
   ]
  },
  {
   "cell_type": "code",
   "execution_count": 3,
   "metadata": {},
   "outputs": [],
   "source": [
    "# This function simulates the evolution of a cell population subject to L1 insertions over time.\n",
    "# By default, a single cell is initialized with a driver mutation.\n",
    "#\n",
    "# Inputs:\n",
    "#     N0 - initial population size (# cells)\n",
    "#     mu - mutation rate (# L1 transpositions / birth)\n",
    "#     tau - time resolution (# number of timesteps / birth of normal cell)\n",
    "#     NT - number of timesteps to simulate\n",
    "#     sd - driver selection strength (positive change in birth rate for each accumulated driver)\n",
    "#     sp - passenger selection strength (negative change in birth rate for each accumulated passenger)\n",
    "#     maxNClones - Buffer size of population data object; represents the max possible number of clones in the population\n",
    "#     pd_mut - Discrete probability distribution of mutation types assumed to be in the order: driver, passenger, null, and sum to 1\n",
    "#\n",
    "# Outputs:\n",
    "#     Pop - data.table object containing a row for each clone in the final population, along\n",
    "#           with columns for number of drivers and passengers, birth rate, mutation rate, number of cells\n",
    "#     N - Array containing the population size over time\n",
    "\n",
    "run_sim <- function(N0, mu, tau, NT, sd, sp, maxNClones, pd_mut) {\n",
    "\n",
    "    Pop <- data.table(ncells=rep(0,maxNClones),nd=rep(0,maxNClones),np=rep(0,maxNClones),B=rep(0,maxNClones),mu_i=rep(0,maxNClones))\n",
    "    Pop[1:2,c('ncells','nd','np'):=list(c(N0-1,1),c(0,1),c(0,0))] # populations are initialized with a driver mutation in a single cell\n",
    "    Pop[1:2,B := mapply(birthrate,nd,np,sd,sp,tau)]\n",
    "    Pop[1:2,mu_i := mapply(get_mu_i, B, mu)]\n",
    "\n",
    "    N <- rep(0,NT)\n",
    "    pd_mut <- pd_mut[1:2]/sum(pd_mut[1:2])\n",
    "\n",
    "#     ptm <- proc.time()\n",
    "    for (ii in 1:NT) {\n",
    "\n",
    "        clog <- Pop$ncells>0 # get logical array for indices of active (# cells >0) clones\n",
    "        \n",
    "        ntrans <- sum(mapply(get_ntrans,Pop$ncells[clog],Pop$mu_i[clog])) # get number of pass/driver mutations\n",
    "        if (ntrans > 0) {\n",
    "            \n",
    "            rownew <- which(Pop$ncells==0)[1] # find first row of the data table with ncells==0\n",
    "\n",
    "            types <- sample(1:2,ntrans,replace=TRUE,prob=pd_mut) # sample mutation types\n",
    "            nmu <- length(types) # total number of passenger and drivers\n",
    "\n",
    "            sampctr <- sample(rep(1:maxNClones,Pop$ncells),nmu,replace=FALSE) # list clone id of each cell; sample without replacement\n",
    "            ctab <- table(sampctr)\n",
    "            cids <- as.integer(names(ctab)) # get row ids of sampled clones\n",
    "            set(Pop,cids,1L,Pop[cids,1L] - as.integer(ctab)) # remove cells from sampled clones\n",
    "\n",
    "            # Populate the new rows representing new clones\n",
    "            Pop[rownew:(rownew+nmu-1), c(\"ncells\",\"nd\",\"np\"):=list(1, Pop[sampctr]$nd+((types==1)*1), Pop[sampctr]$np+((types==2)*1))]\n",
    "            Pop[rownew:(rownew+nmu-1), B := mapply(birthrate, nd, np, sd, sp, tau)]\n",
    "            Pop[rownew:(rownew+nmu-1), mu_i := mapply(get_mu_i, B, mu)]\n",
    "        }\n",
    "\n",
    "        N[ii] <- sum(Pop$ncells) # get current number of cells\n",
    "        if (N[ii]>=3*N0) {break} # simulation stops if population has grown by 5X\n",
    "        D <- N[ii]*tau/N0        # compute death rate\n",
    "        Pop[Pop$ncells>0, ncells:=mapply(delta_ncells, B, D, ncells)] # update number of cells for all clones\n",
    "        Pop <- Pop[order(Pop$ncells,decreasing=TRUE),] # order data.table by ncells\n",
    "\n",
    "    }\n",
    "#     print(proc.time() - ptm)\n",
    "\n",
    "    return(list(Pop,N))\n",
    "\n",
    "}\n"
   ]
  },
  {
   "cell_type": "markdown",
   "metadata": {},
   "source": [
    "### Define parameters"
   ]
  },
  {
   "cell_type": "code",
   "execution_count": 4,
   "metadata": {},
   "outputs": [],
   "source": [
    "# Initial number of cells\n",
    "N0 <- 5e3\n",
    "# Probability of passenger or driver L1 insertion per generation per cell\n",
    "mu <- 10\n",
    "mu <- mu*(1-pd_lung[3]) # Scale by 1-probability of null mutation\n",
    "# Driver and passenger mutation selection strengths\n",
    "sd <- .1\n",
    "sp <- .001\n",
    "\n",
    "\n",
    "# Time resolution: number of timesteps per cell cycle in the initial population\n",
    "tau <- 4\n",
    "tau <- 1/tau\n",
    "# Number of time steps to simulate\n",
    "NT <- 5e3\n",
    "# Buffer size of population data object; represents the max possible number of clones in the population\n",
    "maxNClones <- max(2000,N0*4)"
   ]
  },
  {
   "cell_type": "markdown",
   "metadata": {},
   "source": [
    "Test run"
   ]
  },
  {
   "cell_type": "code",
   "execution_count": 14,
   "metadata": {
    "collapsed": true
   },
   "outputs": [
    {
     "data": {
      "text/html": [
       "<table>\n",
       "<thead><tr><th scope=col>ncells</th><th scope=col>nd</th><th scope=col>np</th><th scope=col>B</th><th scope=col>mu_i</th></tr></thead>\n",
       "<tbody>\n",
       "\t<tr><td>3        </td><td>25       </td><td>1205     </td><td>1.0830101</td><td>0.3412591</td></tr>\n",
       "\t<tr><td>3        </td><td>24       </td><td>1197     </td><td>0.9924587</td><td>0.3127261</td></tr>\n",
       "\t<tr><td>3        </td><td>24       </td><td>1203     </td><td>0.9865247</td><td>0.3108563</td></tr>\n",
       "\t<tr><td>3        </td><td>24       </td><td>1188     </td><td>1.0014266</td><td>0.3155520</td></tr>\n",
       "\t<tr><td>2        </td><td>24       </td><td>1199     </td><td>0.9904768</td><td>0.3121016</td></tr>\n",
       "\t<tr><td>2        </td><td>24       </td><td>1211     </td><td>0.9786679</td><td>0.3083806</td></tr>\n",
       "</tbody>\n",
       "</table>\n"
      ],
      "text/latex": [
       "\\begin{tabular}{r|lllll}\n",
       " ncells & nd & np & B & mu\\_i\\\\\n",
       "\\hline\n",
       "\t 3         & 25        & 1205      & 1.0830101 & 0.3412591\\\\\n",
       "\t 3         & 24        & 1197      & 0.9924587 & 0.3127261\\\\\n",
       "\t 3         & 24        & 1203      & 0.9865247 & 0.3108563\\\\\n",
       "\t 3         & 24        & 1188      & 1.0014266 & 0.3155520\\\\\n",
       "\t 2         & 24        & 1199      & 0.9904768 & 0.3121016\\\\\n",
       "\t 2         & 24        & 1211      & 0.9786679 & 0.3083806\\\\\n",
       "\\end{tabular}\n"
      ],
      "text/markdown": [
       "\n",
       "ncells | nd | np | B | mu_i | \n",
       "|---|---|---|---|---|---|\n",
       "| 3         | 25        | 1205      | 1.0830101 | 0.3412591 | \n",
       "| 3         | 24        | 1197      | 0.9924587 | 0.3127261 | \n",
       "| 3         | 24        | 1203      | 0.9865247 | 0.3108563 | \n",
       "| 3         | 24        | 1188      | 1.0014266 | 0.3155520 | \n",
       "| 2         | 24        | 1199      | 0.9904768 | 0.3121016 | \n",
       "| 2         | 24        | 1211      | 0.9786679 | 0.3083806 | \n",
       "\n",
       "\n"
      ],
      "text/plain": [
       "  ncells nd np   B         mu_i     \n",
       "1 3      25 1205 1.0830101 0.3412591\n",
       "2 3      24 1197 0.9924587 0.3127261\n",
       "3 3      24 1203 0.9865247 0.3108563\n",
       "4 3      24 1188 1.0014266 0.3155520\n",
       "5 2      24 1199 0.9904768 0.3121016\n",
       "6 2      24 1211 0.9786679 0.3083806"
      ]
     },
     "metadata": {},
     "output_type": "display_data"
    },
    {
     "data": {
      "image/png": "[encoded data removed]",
      "text/plain": [
       "plot without title"
      ]
     },
     "metadata": {},
     "output_type": "display_data"
    }
   ],
   "source": [
    "out <- run_sim(N0, mu, tau, NT, sd, sp, maxNClones, c(1400,1e7))\n",
    "Pop <- out[[1]]\n",
    "N <- out[[2]]\n",
    "\n",
    "head(Pop)\n",
    "plot(1:NT,N,type='l',xlab='Timestep',ylab='Population Size')\n",
    "# plot((1:NT)*tau,movavg(N,200,'s'),type='l',xlab='Generation',ylab='Population Size')"
   ]
  },
  {
   "cell_type": "markdown",
   "metadata": {},
   "source": [
    "Batch run"
   ]
  },
  {
   "cell_type": "code",
   "execution_count": null,
   "metadata": {},
   "outputs": [],
   "source": [
    "load('../data/cancer_type_pd_th25.rda') # probabilities of each mutation type\n",
    "nrun <- 0\n",
    "muv <- c(1e-4,1e-3,1e-2,1e-1,1e-0)\n",
    "muv_adj <- muv*(1-pd_lung[3])\n",
    "N0v <- c(1e2,5e2,1e3,2e3,5e3)\n",
    "outPath <- '../../jupytest_sim/run'\n",
    "for (ii in 1:length(N0v)){\n",
    "    for (jj in 1:length(muv)) {\n",
    "        nrun <- nrun+1\n",
    "        line <- paste0('Run: ',toString(nrun),'\\tN0: ',toString(N0v[ii]),'\\tmu: ',toString(muv[jj]))\n",
    "        write(line,file=paste0(outPath,'.log'),append=TRUE)\n",
    "        out <- run_sim(N0v[ii], muv_adj[jj], tau, NT, sd, sp, N0v[ii]*4, c(1400,1e7))\n",
    "        Pop <- out[[1]]\n",
    "        N <- out[[2]]\n",
    "        save(Pop,N,file=paste0(outPath,'_n0',N0v[ii],'_',nrun,\".rda\"))\n",
    "        rm(Pop,N)\n",
    "    }\n",
    "}"
   ]
  },
  {
   "cell_type": "code",
   "execution_count": null,
   "metadata": {},
   "outputs": [],
   "source": []
  },
  {
   "cell_type": "code",
   "execution_count": null,
   "metadata": {},
   "outputs": [],
   "source": []
  },
  {
   "cell_type": "code",
   "execution_count": null,
   "metadata": {},
   "outputs": [],
   "source": []
  },
  {
   "cell_type": "code",
   "execution_count": null,
   "metadata": {},
   "outputs": [],
   "source": []
  },
  {
   "cell_type": "code",
   "execution_count": null,
   "metadata": {},
   "outputs": [],
   "source": []
  },
  {
   "cell_type": "code",
   "execution_count": null,
   "metadata": {},
   "outputs": [],
   "source": []
  },
  {
   "cell_type": "code",
   "execution_count": null,
   "metadata": {},
   "outputs": [],
   "source": []
  },
  {
   "cell_type": "code",
   "execution_count": null,
   "metadata": {},
   "outputs": [],
   "source": []
  },
  {
   "cell_type": "code",
   "execution_count": null,
   "metadata": {},
   "outputs": [],
   "source": []
  },
  {
   "cell_type": "code",
   "execution_count": null,
   "metadata": {},
   "outputs": [],
   "source": []
  },
  {
   "cell_type": "code",
   "execution_count": null,
   "metadata": {},
   "outputs": [],
   "source": []
  },
  {
   "cell_type": "code",
   "execution_count": null,
   "metadata": {},
   "outputs": [],
   "source": []
  },
  {
   "cell_type": "code",
   "execution_count": null,
   "metadata": {},
   "outputs": [],
   "source": []
  },
  {
   "cell_type": "code",
   "execution_count": null,
   "metadata": {},
   "outputs": [],
   "source": []
  },
  {
   "cell_type": "code",
   "execution_count": null,
   "metadata": {},
   "outputs": [],
   "source": []
  },
  {
   "cell_type": "code",
   "execution_count": null,
   "metadata": {},
   "outputs": [],
   "source": []
  }
 ],
 "metadata": {
  "kernelspec": {
   "display_name": "R",
   "language": "R",
   "name": "ir"
  },
  "language_info": {
   "codemirror_mode": "r",
   "file_extension": ".r",
   "mimetype": "text/x-r-source",
   "name": "R",
   "pygments_lexer": "r",
   "version": "3.5.1"
  }
 },
 "nbformat": 4,
 "nbformat_minor": 2
}
