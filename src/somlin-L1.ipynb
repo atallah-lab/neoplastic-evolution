{
 "cells": [
  {
   "cell_type": "markdown",
   "metadata": {},
   "source": [
    "## Load libraries and data files"
   ]
  },
  {
   "cell_type": "code",
   "execution_count": 45,
   "metadata": {},
   "outputs": [],
   "source": [
    "library(data.tree)\n",
    "library(data.table)\n",
    "library(BSgenome.Hsapiens.UCSC.hg38)\n",
    "genome <- Hsapiens\n",
    "load(\"../data/exann.rda\")\n",
    "load(\"../data/chrmpd.rda\") # load chromosome probability distribution\n",
    "load(\"../data/L1RankTable.rda\")\n",
    "load('../data/chromSitePd.rda')\n",
    "trpd <- read.table(\"../data/L1truncpd.csv\",sep=\",\")\n",
    "tdpd <- read.table(\"../data/L1transdpd.csv\",sep=\",\")\n",
    "# for (i in names(Hsapiens)[1:24]){ # load all chromosome map files\n",
    "#         load(paste0(\"../data/root_maps/\",i,\".rda\"))\n",
    "# }\n",
    "chrnames <- c(1:22,'X','Y')\n",
    "strdict<-c(\"+\",\"-\")\n",
    "names(strdict)<-c(1,2)"
   ]
  },
  {
   "cell_type": "code",
   "execution_count": 46,
   "metadata": {},
   "outputs": [
    {
     "data": {
      "text/html": [
       "<ol class=list-inline>\n",
       "\t<li>'IDH1'</li>\n",
       "\t<li>'TP53'</li>\n",
       "\t<li>'ATRX'</li>\n",
       "\t<li>'TTN'</li>\n",
       "\t<li>'PTEN'</li>\n",
       "\t<li>'EGFR'</li>\n",
       "\t<li>'CIC'</li>\n",
       "\t<li>'MUC16'</li>\n",
       "\t<li>'FLG'</li>\n",
       "\t<li>'PIK3CA'</li>\n",
       "</ol>\n"
      ],
      "text/latex": [
       "\\begin{enumerate*}\n",
       "\\item 'IDH1'\n",
       "\\item 'TP53'\n",
       "\\item 'ATRX'\n",
       "\\item 'TTN'\n",
       "\\item 'PTEN'\n",
       "\\item 'EGFR'\n",
       "\\item 'CIC'\n",
       "\\item 'MUC16'\n",
       "\\item 'FLG'\n",
       "\\item 'PIK3CA'\n",
       "\\end{enumerate*}\n"
      ],
      "text/markdown": [
       "1. 'IDH1'\n",
       "2. 'TP53'\n",
       "3. 'ATRX'\n",
       "4. 'TTN'\n",
       "5. 'PTEN'\n",
       "6. 'EGFR'\n",
       "7. 'CIC'\n",
       "8. 'MUC16'\n",
       "9. 'FLG'\n",
       "10. 'PIK3CA'\n",
       "\n",
       "\n"
      ],
      "text/plain": [
       " [1] \"IDH1\"   \"TP53\"   \"ATRX\"   \"TTN\"    \"PTEN\"   \"EGFR\"   \"CIC\"    \"MUC16\" \n",
       " [9] \"FLG\"    \"PIK3CA\""
      ]
     },
     "metadata": {},
     "output_type": "display_data"
    }
   ],
   "source": [
    "dftmp <- read.csv('~/jackgl/analyses/tcga_gene_lists/frequently_mutated_genes_TCGA_brain.csv')\n",
    "geneList_brain <- as.vector(dftmp$Symbol) # \" \" \" \" \" for brain cancer\n",
    "rm(dftmp)\n",
    "geneList_brain"
   ]
  },
  {
   "cell_type": "code",
   "execution_count": 47,
   "metadata": {},
   "outputs": [
    {
     "data": {
      "text/html": [
       "<table>\n",
       "<thead><tr><th scope=col>chrom</th><th scope=col>start</th><th scope=col>end</th><th scope=col>geneSym</th></tr></thead>\n",
       "<tbody>\n",
       "\t<tr><td>1      </td><td>11869  </td><td>12227  </td><td>DDX11L1</td></tr>\n",
       "\t<tr><td>1      </td><td>12010  </td><td>12057  </td><td>DDX11L1</td></tr>\n",
       "\t<tr><td>1      </td><td>12179  </td><td>12227  </td><td>DDX11L1</td></tr>\n",
       "\t<tr><td>1      </td><td>12613  </td><td>12721  </td><td>DDX11L1</td></tr>\n",
       "\t<tr><td>1      </td><td>12613  </td><td>12697  </td><td>DDX11L1</td></tr>\n",
       "\t<tr><td>1      </td><td>12975  </td><td>13052  </td><td>DDX11L1</td></tr>\n",
       "</tbody>\n",
       "</table>\n"
      ],
      "text/latex": [
       "\\begin{tabular}{r|llll}\n",
       " chrom & start & end & geneSym\\\\\n",
       "\\hline\n",
       "\t 1       & 11869   & 12227   & DDX11L1\\\\\n",
       "\t 1       & 12010   & 12057   & DDX11L1\\\\\n",
       "\t 1       & 12179   & 12227   & DDX11L1\\\\\n",
       "\t 1       & 12613   & 12721   & DDX11L1\\\\\n",
       "\t 1       & 12613   & 12697   & DDX11L1\\\\\n",
       "\t 1       & 12975   & 13052   & DDX11L1\\\\\n",
       "\\end{tabular}\n"
      ],
      "text/markdown": [
       "\n",
       "chrom | start | end | geneSym | \n",
       "|---|---|---|---|---|---|\n",
       "| 1       | 11869   | 12227   | DDX11L1 | \n",
       "| 1       | 12010   | 12057   | DDX11L1 | \n",
       "| 1       | 12179   | 12227   | DDX11L1 | \n",
       "| 1       | 12613   | 12721   | DDX11L1 | \n",
       "| 1       | 12613   | 12697   | DDX11L1 | \n",
       "| 1       | 12975   | 13052   | DDX11L1 | \n",
       "\n",
       "\n"
      ],
      "text/plain": [
       "  chrom start end   geneSym\n",
       "1 1     11869 12227 DDX11L1\n",
       "2 1     12010 12057 DDX11L1\n",
       "3 1     12179 12227 DDX11L1\n",
       "4 1     12613 12721 DDX11L1\n",
       "5 1     12613 12697 DDX11L1\n",
       "6 1     12975 13052 DDX11L1"
      ]
     },
     "metadata": {},
     "output_type": "display_data"
    },
    {
     "data": {
      "text/html": [
       "<table>\n",
       "<thead><tr><th scope=col>chrom</th><th scope=col>start</th><th scope=col>end</th><th scope=col>geneSym</th><th scope=col>type</th></tr></thead>\n",
       "<tbody>\n",
       "\t<tr><td>1        </td><td>152302175</td><td>152314747</td><td>FLG      </td><td>1        </td></tr>\n",
       "\t<tr><td>1        </td><td>152302175</td><td>152314747</td><td>FLG      </td><td>1        </td></tr>\n",
       "\t<tr><td>1        </td><td>152315319</td><td>152315477</td><td>FLG      </td><td>1        </td></tr>\n",
       "\t<tr><td>1        </td><td>152315319</td><td>152315477</td><td>FLG      </td><td>1        </td></tr>\n",
       "\t<tr><td>1        </td><td>152325189</td><td>152325203</td><td>FLG      </td><td>1        </td></tr>\n",
       "\t<tr><td>1        </td><td>152325189</td><td>152325203</td><td>FLG      </td><td>1        </td></tr>\n",
       "</tbody>\n",
       "</table>\n"
      ],
      "text/latex": [
       "\\begin{tabular}{r|lllll}\n",
       " chrom & start & end & geneSym & type\\\\\n",
       "\\hline\n",
       "\t 1         & 152302175 & 152314747 & FLG       & 1        \\\\\n",
       "\t 1         & 152302175 & 152314747 & FLG       & 1        \\\\\n",
       "\t 1         & 152315319 & 152315477 & FLG       & 1        \\\\\n",
       "\t 1         & 152315319 & 152315477 & FLG       & 1        \\\\\n",
       "\t 1         & 152325189 & 152325203 & FLG       & 1        \\\\\n",
       "\t 1         & 152325189 & 152325203 & FLG       & 1        \\\\\n",
       "\\end{tabular}\n"
      ],
      "text/markdown": [
       "\n",
       "chrom | start | end | geneSym | type | \n",
       "|---|---|---|---|---|---|\n",
       "| 1         | 152302175 | 152314747 | FLG       | 1         | \n",
       "| 1         | 152302175 | 152314747 | FLG       | 1         | \n",
       "| 1         | 152315319 | 152315477 | FLG       | 1         | \n",
       "| 1         | 152315319 | 152315477 | FLG       | 1         | \n",
       "| 1         | 152325189 | 152325203 | FLG       | 1         | \n",
       "| 1         | 152325189 | 152325203 | FLG       | 1         | \n",
       "\n",
       "\n"
      ],
      "text/plain": [
       "  chrom start     end       geneSym type\n",
       "1 1     152302175 152314747 FLG     1   \n",
       "2 1     152302175 152314747 FLG     1   \n",
       "3 1     152315319 152315477 FLG     1   \n",
       "4 1     152315319 152315477 FLG     1   \n",
       "5 1     152325189 152325203 FLG     1   \n",
       "6 1     152325189 152325203 FLG     1   "
      ]
     },
     "metadata": {},
     "output_type": "display_data"
    }
   ],
   "source": [
    "head(exann)\n",
    "exann$type <- 0\n",
    "exann$type[exann$geneSym %in% geneList_brain] <- 1\n",
    "head(exann[exann$geneSym %in% geneList_brain,])"
   ]
  },
  {
   "cell_type": "markdown",
   "metadata": {},
   "source": [
    "## Define Functions"
   ]
  },
  {
   "cell_type": "code",
   "execution_count": 59,
   "metadata": {},
   "outputs": [],
   "source": [
    "# PURPOSE: To simulate L1 insertions in hg38\n",
    "#\n",
    "# INPUT:\n",
    "#   copyNum       (integer) number of L1 insertions to simulate\n",
    "#\n",
    "# OUTPUT:         (list) loci of insertions, indices of inserted L1s from L1RankTable\n",
    "# \n",
    "# Note: See gen-sim-notebook.ipynb for a more highly commented version\n",
    "gen_sim <- function(copyNum) {\n",
    "\n",
    "        sites_loci<-c() # Initialize arrays for storing simulated ins. site data\n",
    "        sites_chrm<-c()\n",
    "        sites_strand<-c()\n",
    "        sites_classes<-c()\n",
    "\n",
    "        #--- Sample chromosomes based on probability ranking. The data file chrmpd.rda \n",
    "        #--- must either be provided or generated by running 'get_sv_dist.r'.\n",
    "        #--- Here the ranking is provided by the number of 'TTTT' (closed-tight) sites.\n",
    "        chrmlist<-sample(x=chrnames,copyNum,replace=TRUE,prob=chrmpd[,1])\n",
    "        chrmlist<-table(chrmlist)\n",
    "\n",
    "        for (chrnm in names(chrmlist)) {\n",
    "\n",
    "                map<-get(paste0('chr',chrnm,\"Map\"))\n",
    "                ict<-map[[2]]\n",
    "                icl<-map[[3]]\n",
    "                iot<-map[[4]]\n",
    "                iol<-map[[5]]\n",
    "                insites<-map[[1]]\n",
    "\n",
    "                chrcopyNum<-chrmlist[names(chrmlist)==chrnm]\n",
    "\n",
    "                #--- Generates insertion sites\n",
    "                classes <- sample(x = c(1:5),chrcopyNum,replace=TRUE,prob=pds[[chrnm]])\n",
    "                sites <- rep(0,chrcopyNum)\n",
    "                strand <-rep(0,chrcopyNum)\n",
    "\n",
    "            \n",
    "                for (i in 1:chrcopyNum) {\n",
    "                        if (classes[i]==1) {\n",
    "                            tmp<-sample(c(1,2),1)\n",
    "                            sites[i] <- insites[ict[sample(c(1:length(which(!is.na(ict[,tmp])))),1),tmp]]\n",
    "                            strand[i] <- strdict[[tmp]]\n",
    "                        } else if (classes[i]==2) {\n",
    "                            tmp<-sample(c(1,2),1)\n",
    "                            sites[i] <- insites[icl[sample(c(1:length(which(!is.na(icl[,tmp])))),1),tmp]]\n",
    "                            strand[i] <- strdict[[tmp]]\n",
    "                        } else if (classes[i]==3) {\n",
    "                            tmp<-sample(c(1,2),1)\n",
    "                            sites[i] <- insites[iot[sample(c(1:length(which(!is.na(iot[,tmp])))),1),tmp]]\n",
    "                            strand[i] <- strdict[[tmp]]\n",
    "                        } else if (classes[i]==4) {\n",
    "                            tmp<-sample(c(1,2),1)\n",
    "                            sites[i] <- insites[iol[sample(c(1:length(which(!is.na(iol[,tmp])))),1),tmp]]\n",
    "                            strand[i] <- strdict[[tmp]]\n",
    "                        } else if (classes[i]==5) {\n",
    "                            sites[i]<-runif(1,1,length(genome[[paste0('chr',chrnm)]]))\n",
    "                            strand[i] <- strdict[[sample(c(1,2),1)]]\n",
    "                        }\n",
    "                }\n",
    "\n",
    "                sites_loci<-append(sites_loci,sites)\n",
    "                sites_chrm<-append(sites_chrm,rep(chrnm,chrcopyNum))\n",
    "                sites_strand<-append(sites_strand,strand)\n",
    "                sites_classes<-append(sites_classes,classes)\n",
    "\n",
    "        }\n",
    "\n",
    "        # Sample copyNum L1s from the list (with replacement), based on activity ranking\n",
    "        l1indcs <- sample(x=c(1:40), copyNum, replace=TRUE, prob=L1RankTable$score[1:40])\n",
    "\n",
    "        # Sample copyNum truncation fractions and transduction lengths from their respective \n",
    "        # probability densities trpd, and tdpd\n",
    "#         trfrc <- sample(x=trpd[[1]], copyNum, replace=TRUE, prob=trpd[[2]])\n",
    "#         tdlen <- sample(x=tdpd[[1]], copyNum, replace=TRUE, prob=tdpd[[2]])\n",
    "\n",
    "    return(list(sites_chrm,sites_loci,sites_strand,l1indcs))\n",
    "}"
   ]
  },
  {
   "cell_type": "code",
   "execution_count": 49,
   "metadata": {},
   "outputs": [],
   "source": [
    "# PURPOSE: To count the number of driver and passenger mutations in a new clone and determine \n",
    "#          the birth rate and the genes affected\n",
    "#\n",
    "# INPUT:\n",
    "#   node          (data.tree node) current node of genotype tree\n",
    "#   anno          (data frame) Annotation of genes (i.e. chromosome   start   end)\n",
    "#   sites_chrm    (character vector) chromosomes containing L1 insertions for the clone\n",
    "#   sites_loci    (numeric vector) insertion positions (in the respective chromosome)\n",
    "#   sd            (float) driver mutation selection\n",
    "#   sp            (float) passenger mutation selection\n",
    "#\n",
    "# OUTPUT:\n",
    "#   B             (float) birth rate\n",
    "#   np            (int) number of passenger mutations\n",
    "#   nd            (int) number of driver mutations\n",
    "#   genes         (list of strings) list of symbols of affected genes\n",
    "count_hits <- function(node, anno, sites_chrm, sites_loci, sd, sp) {\n",
    "\n",
    "    np<-0; # set counters to zero\n",
    "    nd<-0;\n",
    "    genes <- c()\n",
    "    \n",
    "    for (i in 1:length(unique(sites_chrm))) { # loop over chromosomes inserted into\n",
    "        \n",
    "        tmp=anno[anno$chrom==unique(sites_chrm)[i],] # reduce annotation table to entries for current chrom\n",
    "\n",
    "        tmp2 = sites_loci[sites_chrm==unique(sites_chrm)[i]] # reduce insertion loci to entries for current chrom\n",
    "        \n",
    "        ins <- lapply(tmp2,between,tmp$start,tmp$end) # find indices of affected genes\n",
    "        ins <- unlist(lapply(ins,which))\n",
    "        \n",
    "        if (length(ins)>0) {\n",
    "            genes <- rbind(genes,data.table(sym=tmp$geneSym[ins],tsg=tmp$type[ins]))\n",
    "            np <- np+length(which(tmp$type[ins]==0)) # count the number of passenger insertions\n",
    "            nd <- nd+length(which(tmp$type[ins]==1)) # count the number of driver insertions\n",
    "        } else {\n",
    "            np <- 0\n",
    "            nd <- 0\n",
    "        }\n",
    "\n",
    "    }\n",
    "    if (np > 0 || nd > 0) {\n",
    "        b <- ((1+sd)^(node$nd+nd))/((1+sp)^(node$np+np)) # Calculate birth rate of clone\n",
    "    } else {\n",
    "        b <- node$B\n",
    "    }\n",
    "\n",
    "    return(list(b, np, nd, genes))\n",
    "}\n",
    "\n"
   ]
  },
  {
   "cell_type": "code",
   "execution_count": 50,
   "metadata": {},
   "outputs": [],
   "source": [
    "# PURPOSE: To call gen_sim.r with some probability (probability of transposition, mu) for a clone at a time step\n",
    "#\n",
    "# INPUT:\n",
    "#   node        (data.tree node) current node of the data tree\n",
    "#   sp          passenger mutation selection coefficient\n",
    "#   sd          driver mutation selection coefficient\n",
    "#\n",
    "# OUTPUT: void\n",
    "maybeTranspose <- function(node, sd, sp) {\n",
    "\n",
    "    if (node$B==0){ # if the birth rate of the clone is zero, skip the node\n",
    "        return()\n",
    "    }\n",
    "    \n",
    "    # increase the number of cells by the existing number * the birth rate factor\n",
    "    nc <- tail(node$ncells,n=1) + round(tail(node$ncells,n=1)*node$B)\n",
    "    \n",
    "    # sample from binomial distribution for number of transpositions\n",
    "    if (nc < 4.2e9) {ntrans <- rbinom(1,nc,mu)} # rbinom() fails for large n\n",
    "    else {ntrans <- nc*mu} # If n is too large, use the expected number of events (mean of distribution)\n",
    "    if (ntrans > 0) {\n",
    "        simout <- gen_sim(ntrans)\n",
    "        nc <- nc-ntrans\n",
    "        for (i in 1:ntrans) { #### possible bottleneck\n",
    "            l<<-l+1\n",
    "            # determine birth rate, number of driver/passenger mutations, and affected genes of new clone\n",
    "            tmp1 <- count_hits(node, exann, lapply(simout,'[',i)[[1]], lapply(simout,'[',i)[[2]], sd, sp)\n",
    "            # determine the loci/L1s of insertions in the new clone\n",
    "            tmp2 <- mapply(append, lapply(simout,'[',i), node$tes, SIMPLIFY = FALSE)\n",
    "            node$AddChild(l, ncells=1, B=tmp1[[1]], nd=node$nd+tmp1[[3]], np=node$np+tmp1[[2]], genes=rbind(node$genes,tmp1[[4]]), tes=tmp2)\n",
    "            gn <<- rbind(gn,tmp1[[4]]) # append hit genes to list\n",
    "        }\n",
    "    }   \n",
    "    node$ncells <- append(node$ncells,nc)\n",
    "}"
   ]
  },
  {
   "cell_type": "markdown",
   "metadata": {},
   "source": [
    "### Define parameters"
   ]
  },
  {
   "cell_type": "code",
   "execution_count": 70,
   "metadata": {},
   "outputs": [],
   "source": [
    "#--- Set simulation parameters\n",
    "ENifrc<- .1       # Fraction of endonuclease-independent (random) insertions\n",
    "N0 <- 1           # Initial number of cells in root clone\n",
    "B0 <- 1           # Initial birth rate\n",
    "mu <- 0.2         # Probability of transposition / timestep of a single cell\n",
    "\n",
    "NT <- 7           # Number of time steps\n",
    "\n",
    "logpath <- './L1-cellpop_test.log'\n"
   ]
  },
  {
   "cell_type": "markdown",
   "metadata": {},
   "source": [
    "### Clone tree creation"
   ]
  },
  {
   "cell_type": "code",
   "execution_count": 77,
   "metadata": {},
   "outputs": [
    {
     "name": "stdout",
     "output_type": "stream",
     "text": [
      "Root clone info \n",
      "\n",
      "Birth rate: 0.998002996004994\n",
      "\n",
      "Genes disrupted: "
     ]
    },
    {
     "data": {
      "text/html": [
       "<table>\n",
       "<thead><tr><th scope=col>sym</th><th scope=col>tsg</th></tr></thead>\n",
       "<tbody>\n",
       "\t<tr><td>DDX11L1 </td><td>0       </td></tr>\n",
       "\t<tr><td>MTOR-AS1</td><td>0       </td></tr>\n",
       "</tbody>\n",
       "</table>\n"
      ],
      "text/latex": [
       "\\begin{tabular}{r|ll}\n",
       " sym & tsg\\\\\n",
       "\\hline\n",
       "\t DDX11L1  & 0       \\\\\n",
       "\t MTOR-AS1 & 0       \\\\\n",
       "\\end{tabular}\n"
      ],
      "text/markdown": [
       "\n",
       "sym | tsg | \n",
       "|---|---|\n",
       "| DDX11L1  | 0        | \n",
       "| MTOR-AS1 | 0        | \n",
       "\n",
       "\n"
      ],
      "text/plain": [
       "  sym      tsg\n",
       "1 DDX11L1  0  \n",
       "2 MTOR-AS1 0  "
      ]
     },
     "metadata": {},
     "output_type": "display_data"
    },
    {
     "data": {
      "text/html": [
       "<strong>elapsed:</strong> 3.52799999999979"
      ],
      "text/latex": [
       "\\textbf{elapsed:} 3.52799999999979"
      ],
      "text/markdown": [
       "**elapsed:** 3.52799999999979"
      ],
      "text/plain": [
       "elapsed \n",
       "  3.528 "
      ]
     },
     "metadata": {},
     "output_type": "display_data"
    },
    {
     "name": "stdout",
     "output_type": "stream",
     "text": [
      "            levelName             ncells         B\n",
      "1  1                                1, 0 0.9980030\n",
      "2   ¦--2              1, 2, 4, 6, 11, 21 0.9980030\n",
      "3   ¦   ¦--7                     1, 2, 4 0.9980030\n",
      "4   ¦   ¦--8                        1, 0 0.9980030\n",
      "5   ¦   ¦   ¦--14                   1, 2 0.9980030\n",
      "6   ¦   ¦   °--15                   1, 2 0.9980030\n",
      "7   ¦   ¦--13                       1, 1 0.9980030\n",
      "8   ¦   ¦   °--23                      1 0.9980030\n",
      "9   ¦   °--22                          1 0.9980030\n",
      "10  °--3                1, 2, 1, 1, 1, 0 0.9980030\n",
      "11      ¦--4                     1, 1, 0 0.9980030\n",
      "12      ¦   ¦--10                   1, 0 0.9980030\n",
      "13      ¦   ¦   ¦--19               1, 2 0.9980030\n",
      "14      ¦   ¦   °--20               1, 2 0.9980030\n",
      "15      ¦   ¦--17                   1, 2 0.9980030\n",
      "16      ¦   °--18                   1, 2 0.9980030\n",
      "17      ¦--5                  1, 1, 2, 3 0.9980030\n",
      "18      ¦   ¦--11                1, 2, 3 0.9940209\n",
      "19      ¦   ¦   °--27                  1 0.9930279\n",
      "20      ¦   °--26                      1 0.9980030\n",
      "21      ¦--6                  1, 1, 2, 3 0.9980030\n",
      "22      ¦   ¦--12                1, 1, 2 0.9980030\n",
      "23      ¦   ¦   °--21               1, 2 0.9980030\n",
      "24      ¦   °--28                      1 0.9980030\n",
      "25      ¦--9                     1, 2, 3 0.9980030\n",
      "26      ¦   °--29                      1 0.9980030\n",
      "27      ¦--16                       1, 2 0.9980030\n",
      "28      ¦--24                          1 0.9980030\n",
      "29      °--25                          1 0.9980030\n"
     ]
    },
    {
     "data": {
      "text/html": [
       "<ol class=list-inline>\n",
       "\t<li>1</li>\n",
       "\t<li>2</li>\n",
       "\t<li>7</li>\n",
       "\t<li>8</li>\n",
       "\t<li>16</li>\n",
       "\t<li>32</li>\n",
       "\t<li>64</li>\n",
       "</ol>\n"
      ],
      "text/latex": [
       "\\begin{enumerate*}\n",
       "\\item 1\n",
       "\\item 2\n",
       "\\item 7\n",
       "\\item 8\n",
       "\\item 16\n",
       "\\item 32\n",
       "\\item 64\n",
       "\\end{enumerate*}\n"
      ],
      "text/markdown": [
       "1. 1\n",
       "2. 2\n",
       "3. 7\n",
       "4. 8\n",
       "5. 16\n",
       "6. 32\n",
       "7. 64\n",
       "\n",
       "\n"
      ],
      "text/plain": [
       "[1]  1  2  7  8 16 32 64"
      ]
     },
     "metadata": {},
     "output_type": "display_data"
    },
    {
     "data": {
      "text/html": [
       "<table>\n",
       "<thead><tr><th scope=col>sym</th><th scope=col>tsg</th></tr></thead>\n",
       "<tbody>\n",
       "\t<tr><td>DDX11L1 </td><td>0       </td></tr>\n",
       "\t<tr><td>MTOR-AS1</td><td>0       </td></tr>\n",
       "\t<tr><td>PDCD5   </td><td>0       </td></tr>\n",
       "\t<tr><td>PDCD5   </td><td>0       </td></tr>\n",
       "\t<tr><td>PDCD5   </td><td>0       </td></tr>\n",
       "\t<tr><td>PDCD5   </td><td>0       </td></tr>\n",
       "\t<tr><td>ARHGAP24</td><td>0       </td></tr>\n",
       "</tbody>\n",
       "</table>\n"
      ],
      "text/latex": [
       "\\begin{tabular}{r|ll}\n",
       " sym & tsg\\\\\n",
       "\\hline\n",
       "\t DDX11L1  & 0       \\\\\n",
       "\t MTOR-AS1 & 0       \\\\\n",
       "\t PDCD5    & 0       \\\\\n",
       "\t PDCD5    & 0       \\\\\n",
       "\t PDCD5    & 0       \\\\\n",
       "\t PDCD5    & 0       \\\\\n",
       "\t ARHGAP24 & 0       \\\\\n",
       "\\end{tabular}\n"
      ],
      "text/markdown": [
       "\n",
       "sym | tsg | \n",
       "|---|---|---|---|---|---|---|\n",
       "| DDX11L1  | 0        | \n",
       "| MTOR-AS1 | 0        | \n",
       "| PDCD5    | 0        | \n",
       "| PDCD5    | 0        | \n",
       "| PDCD5    | 0        | \n",
       "| PDCD5    | 0        | \n",
       "| ARHGAP24 | 0        | \n",
       "\n",
       "\n"
      ],
      "text/plain": [
       "  sym      tsg\n",
       "1 DDX11L1  0  \n",
       "2 MTOR-AS1 0  \n",
       "3 PDCD5    0  \n",
       "4 PDCD5    0  \n",
       "5 PDCD5    0  \n",
       "6 PDCD5    0  \n",
       "7 ARHGAP24 0  "
      ]
     },
     "metadata": {},
     "output_type": "display_data"
    }
   ],
   "source": [
    "l<-1 # Clone counter\n",
    "N <- N0 # total population size\n",
    "gn <- c() # list of genes hit\n",
    "system(paste('rm ',logpath))\n",
    "\n",
    "CellPop <- Node$new(1) # Initialize data.tree as single node\n",
    "\n",
    "CellPop$ncells <- c(N0) # Set initial number of cells of clone\n",
    "CellPop$B <- B0 # Set initial birth rate of clone\n",
    "CellPop$np <- 0 # Set initial number of drivier mutations\n",
    "CellPop$nd <- 0 # Set initial number of passenger mutations\n",
    "CellPop$genes <- c()\n",
    "# Set the L1 insertions existing in root node\n",
    "CellPop$tes <- list(c(),c(),c(),c())\n",
    "CellPop$tes <- list(c(\"1\",\"1\"),c(11874,11149270),c(\"+\",\"+\"),c(0,0))\n",
    "\n",
    "# update attributes based on initialized insertions\n",
    "tmp <- count_hits(CellPop, exann, CellPop$tes[[1]], CellPop$tes[[2]], 0.1, 0.001)\n",
    "CellPop$B <- tmp[[1]]\n",
    "CellPop$np <- tmp[[2]]\n",
    "CellPop$nd <- tmp[[3]]\n",
    "CellPop$genes <- tmp[[4]]\n",
    "gn <- tmp[[4]] # list of genes hit\n",
    "\n",
    "# print root clone info\n",
    "cat('Root clone info \\n\\n')\n",
    "cat(paste0('Birth rate: ',CellPop$B,'\\n\\n'))\n",
    "cat('Genes disrupted: ')\n",
    "gn\n",
    "\n",
    "ptm <- proc.time()\n",
    "for (i in 2:NT) {\n",
    "    \n",
    "    if(i %in% c(round(NT/4),round(NT/4*2),round(NT/4*3),NT)) { # Print progress at 25% completed intervals\n",
    "        write(paste0(toString(i),'generations | ',format((proc.time()-ptm)[1],nsmall=3),' (s)'),file=logpath,append=TRUE)            \n",
    "    }\n",
    "\n",
    "    t <- Traverse(CellPop,traversal='pre-order',filterFun=function(x) tail(x$ncells,n=1) > 0)    \n",
    "    lapply(t,maybeTranspose,0.1,0.001)\n",
    "\n",
    "    N <- append(N,sum(vapply(CellPop$Get('ncells'),tail,n=1L,FUN.VALUE = numeric(1))))\n",
    "\n",
    "    \n",
    "}\n",
    "(proc.time() - ptm)[3]\n",
    "\n",
    "print(CellPop,'ncells','B')\n",
    "# sum(vapply(CellPop$Get('ncells'),tail,n=1L,FUN.VALUE = numeric(1)))\n",
    "# CellPop$Get('ncells')\n",
    "N\n",
    "gn"
   ]
  },
  {
   "cell_type": "code",
   "execution_count": null,
   "metadata": {},
   "outputs": [],
   "source": []
  },
  {
   "cell_type": "code",
   "execution_count": null,
   "metadata": {},
   "outputs": [],
   "source": []
  },
  {
   "cell_type": "code",
   "execution_count": null,
   "metadata": {},
   "outputs": [],
   "source": []
  },
  {
   "cell_type": "code",
   "execution_count": null,
   "metadata": {},
   "outputs": [],
   "source": []
  },
  {
   "cell_type": "code",
   "execution_count": null,
   "metadata": {},
   "outputs": [],
   "source": []
  }
 ],
 "metadata": {
  "kernelspec": {
   "display_name": "R",
   "language": "R",
   "name": "ir"
  },
  "language_info": {
   "codemirror_mode": "r",
   "file_extension": ".r",
   "mimetype": "text/x-r-source",
   "name": "R",
   "pygments_lexer": "r",
   "version": "3.5.1"
  }
 },
 "nbformat": 4,
 "nbformat_minor": 2
}
