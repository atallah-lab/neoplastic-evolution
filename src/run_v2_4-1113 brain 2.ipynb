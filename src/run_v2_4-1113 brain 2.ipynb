{
 "cells": [
  {
   "cell_type": "code",
   "execution_count": 1,
   "metadata": {},
   "outputs": [],
   "source": [
    "library(data.table)\n",
    "load('../data/exonicvsnon_counts.rda') # Probabilities of each mutation type\n",
    "load('../data/gene_pd_exon.rda') # Load tables giving probability of insertion for each gene in a diploid genome for both genders\n",
    "source('./src_sompop_v0_2_4.r')\n",
    "xy_genes <- gene_pd_m$gene_id[gene_pd_m$chrom %in% c('X','Y')] # Getting list of genes on chroms. X and Y by symbol"
   ]
  },
  {
   "cell_type": "code",
   "execution_count": 2,
   "metadata": {},
   "outputs": [],
   "source": [
    "geneList <- read.csv('../data/drivers_gbm.txt',header=F)\n",
    "geneList <- geneList$V1"
   ]
  },
  {
   "cell_type": "code",
   "execution_count": 3,
   "metadata": {},
   "outputs": [
    {
     "data": {
      "text/html": [
       "<table>\n",
       "<thead><tr><th scope=col>chrom</th><th scope=col>gene_id</th><th scope=col>counts</th><th scope=col>length</th><th scope=col>type</th><th scope=col>gene_sym</th><th scope=col>p</th></tr></thead>\n",
       "<tbody>\n",
       "\t<tr><td>13             </td><td>ENSG00000139687</td><td>190.0795       </td><td> 6452          </td><td>0              </td><td>RB1            </td><td>9.875020e-05   </td></tr>\n",
       "\t<tr><td>17             </td><td>ENSG00000141510</td><td>119.4996       </td><td> 5688          </td><td>0              </td><td>TP53           </td><td>6.371016e-05   </td></tr>\n",
       "\t<tr><td>5              </td><td>ENSG00000145675</td><td>306.5577       </td><td>10767          </td><td>0              </td><td>PIK3R1         </td><td>1.596234e-04   </td></tr>\n",
       "\t<tr><td>10             </td><td>ENSG00000171862</td><td>356.4567       </td><td>11581          </td><td>0              </td><td>PTEN           </td><td>1.846694e-04   </td></tr>\n",
       "\t<tr><td>17             </td><td>ENSG00000196712</td><td>806.2696       </td><td>27130          </td><td>0              </td><td>NF1            </td><td>4.186364e-04   </td></tr>\n",
       "</tbody>\n",
       "</table>\n"
      ],
      "text/latex": [
       "\\begin{tabular}{r|lllllll}\n",
       " chrom & gene\\_id & counts & length & type & gene\\_sym & p\\\\\n",
       "\\hline\n",
       "\t 13              & ENSG00000139687 & 190.0795        &  6452           & 0               & RB1             & 9.875020e-05   \\\\\n",
       "\t 17              & ENSG00000141510 & 119.4996        &  5688           & 0               & TP53            & 6.371016e-05   \\\\\n",
       "\t 5               & ENSG00000145675 & 306.5577        & 10767           & 0               & PIK3R1          & 1.596234e-04   \\\\\n",
       "\t 10              & ENSG00000171862 & 356.4567        & 11581           & 0               & PTEN            & 1.846694e-04   \\\\\n",
       "\t 17              & ENSG00000196712 & 806.2696        & 27130           & 0               & NF1             & 4.186364e-04   \\\\\n",
       "\\end{tabular}\n"
      ],
      "text/markdown": [
       "\n",
       "chrom | gene_id | counts | length | type | gene_sym | p | \n",
       "|---|---|---|---|---|\n",
       "| 13              | ENSG00000139687 | 190.0795        |  6452           | 0               | RB1             | 9.875020e-05    | \n",
       "| 17              | ENSG00000141510 | 119.4996        |  5688           | 0               | TP53            | 6.371016e-05    | \n",
       "| 5               | ENSG00000145675 | 306.5577        | 10767           | 0               | PIK3R1          | 1.596234e-04    | \n",
       "| 10              | ENSG00000171862 | 356.4567        | 11581           | 0               | PTEN            | 1.846694e-04    | \n",
       "| 17              | ENSG00000196712 | 806.2696        | 27130           | 0               | NF1             | 4.186364e-04    | \n",
       "\n",
       "\n"
      ],
      "text/plain": [
       "  chrom gene_id         counts   length type gene_sym p           \n",
       "1 13    ENSG00000139687 190.0795  6452  0    RB1      9.875020e-05\n",
       "2 17    ENSG00000141510 119.4996  5688  0    TP53     6.371016e-05\n",
       "3 5     ENSG00000145675 306.5577 10767  0    PIK3R1   1.596234e-04\n",
       "4 10    ENSG00000171862 356.4567 11581  0    PTEN     1.846694e-04\n",
       "5 17    ENSG00000196712 806.2696 27130  0    NF1      4.186364e-04"
      ]
     },
     "metadata": {},
     "output_type": "display_data"
    }
   ],
   "source": [
    "gene_pd_m[gene_pd_m$gene_id %in% geneList]\n",
    "geneList <- gene_pd_m[gene_pd_m$gene_id %in% geneList]$gene_sym"
   ]
  },
  {
   "cell_type": "markdown",
   "metadata": {},
   "source": [
    "### Define parameters"
   ]
  },
  {
   "cell_type": "code",
   "execution_count": 4,
   "metadata": {},
   "outputs": [],
   "source": [
    "###################################################3\n",
    "# Gender of organism\n",
    "gender <- 'male'\n",
    "\n",
    "# Symbol of driver gene disrupted at t=0\n",
    "driverGene <- ''\n",
    "\n",
    "# List of driver genes\n",
    "geneList <- geneList\n",
    "\n",
    "# Initial number of cells\n",
    "N0 <- 1e3\n",
    "\n",
    "# Average # L1 insertions / cell cycle\n",
    "mu <- 1\n",
    "if (gender=='male') {\n",
    "    mu <- mu*(1-pd_exvsnon_m[2])# Scale by 1-probability of null (intron) insertion, to convert to probability of exonic insertion\n",
    "} else if (gender=='female') {\n",
    "    mu <- mu*(1-pd_exvsnon_f[2])\n",
    "}\n",
    "\n",
    "# Selective strengths of each mutation type\n",
    "spd <- 0.1 # Homozygous driver\n",
    "spp <- 0.005 # Homozygous passenger\n",
    "sld <- spd*0.1 # Heterozygous driver\n",
    "slp <- spp*0.1 # Hetero. passenger\n",
    "\n",
    "# Number of time steps to simulate\n",
    "NT <- 5e3\n",
    "\n",
    "###################################################3\n",
    "# Time resolution: number of timesteps per generation\n",
    "tau <- 1\n",
    "tau <- 1/tau\n",
    "# Buffer size of population data object; represents the max possible number of clones in the population\n",
    "maxNClones <- N0*100\n",
    "# Log path\n",
    "logpath <- './test_v2.4.log'"
   ]
  },
  {
   "cell_type": "markdown",
   "metadata": {},
   "source": [
    "## Test run"
   ]
  },
  {
   "cell_type": "code",
   "execution_count": 10,
   "metadata": {},
   "outputs": [],
   "source": [
    "N0 <- 100\n",
    "mu <- 5\n",
    "sd <- 0.1\n",
    "sp <- 0.005\n",
    "out <- sompop(N0, mu, tau, NT, sld, slp, spd, spp, gender, driverGene, geneList, maxNClones, logpath)\n",
    "Pop <- out[[1]]\n",
    "N <- out[[2]]\n",
    "genTime <- out[[4]]\n",
    "\n",
    "# head(Pop)\n",
    "N[N==0] <- NA\n",
    "genTime[genTime==0] <- NA\n",
    "plot(1:NT*tau,N,type='l',xlab='Generation',ylab='Population Size')"
   ]
  },
  {
   "cell_type": "markdown",
   "metadata": {},
   "source": [
    "## Batch run"
   ]
  },
  {
   "cell_type": "code",
   "execution_count": null,
   "metadata": {},
   "outputs": [],
   "source": [
    "nrun <- 0\n",
    "\n",
    "N0 <- 1e3\n",
    "sd <- .1\n",
    "hef <- 0.1 # Fraction of homozygous effect assigned to heterozygous mutations\n",
    "\n",
    "outPath <- '~/jackgl/brain_1113_2/'\n",
    "logPath <- paste0(outPath,'run.log')\n",
    "\n",
    "tryCatch({\n",
    "\n",
    "    for (ii in 1:100) {\n",
    "        mu <- sample(seq(0.01,6,0.05),1) # Sample random mu\n",
    "        sp <- sample(exp(seq(log(0.0001),log(1),0.1)),1) # Sample random sp (from log scale)\n",
    "        # Convert mu to expected number of exonic insertions per cell cycle\n",
    "        if (gender=='male') {\n",
    "            mu_adj <- mu*(1-pd_exvsnon_m[2])\n",
    "        } else if (gender=='female') {\n",
    "            mu_adj <- mu*(1-pd_exvsnon_f[2])\n",
    "        }\n",
    "        \n",
    "        for (nn in 1:10) {\n",
    "            nrun <- nrun+1\n",
    "            line <- paste0('Run: ',toString(nrun),'\\tN0: ',toString(N0),'\\tmu: ',toString(mu),'\\tsd: ',toString(sd),'\\tsp: ',toString(sp))\n",
    "            write(line,file=logPath,append=TRUE)\n",
    "            out <- sompop(N0, mu_adj, tau, NT, sd*hef, sp*hef, sd, sp, gender, driverGene, geneList, N0*4, logPath)\n",
    "            Pop <- out[[1]]\n",
    "            N <- out[[2]]\n",
    "            mut_genes <- out[[3]]\n",
    "            gen_time <- out[[4]]\n",
    "            save(N0,mu,sd,sp,Pop,N,mut_genes,gen_time,file=paste0(outPath,'run_n0',N0,'_',nrun,\".rda\"))\n",
    "            rm(Pop,N,mut_genes,gen_time)\n",
    "        }\n",
    "    }\n",
    "\n",
    "    }, warning = function(warn.msg){\n",
    "        write(toString(warn.msg), logPath, append=TRUE)\n",
    "    }, error = function(err.msg){\n",
    "        write(toString(err.msg), logPath, append=TRUE)\n",
    "    }\n",
    ")"
   ]
  },
  {
   "cell_type": "code",
   "execution_count": null,
   "metadata": {},
   "outputs": [],
   "source": []
  },
  {
   "cell_type": "code",
   "execution_count": null,
   "metadata": {},
   "outputs": [],
   "source": []
  },
  {
   "cell_type": "code",
   "execution_count": null,
   "metadata": {},
   "outputs": [],
   "source": []
  },
  {
   "cell_type": "code",
   "execution_count": null,
   "metadata": {},
   "outputs": [],
   "source": []
  },
  {
   "cell_type": "code",
   "execution_count": null,
   "metadata": {},
   "outputs": [],
   "source": []
  }
 ],
 "metadata": {
  "kernelspec": {
   "display_name": "R",
   "language": "R",
   "name": "ir"
  },
  "language_info": {
   "codemirror_mode": "r",
   "file_extension": ".r",
   "mimetype": "text/x-r-source",
   "name": "R",
   "pygments_lexer": "r",
   "version": "3.5.1"
  }
 },
 "nbformat": 4,
 "nbformat_minor": 2
}
