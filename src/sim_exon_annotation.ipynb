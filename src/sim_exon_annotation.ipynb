{
 "cells": [
  {
   "cell_type": "code",
   "execution_count": 58,
   "metadata": {},
   "outputs": [],
   "source": [
    "library(TxDb.Hsapiens.UCSC.hg38.knownGene)\n",
    "library(data.table)\n",
    "library(org.Hs.eg.db)"
   ]
  },
  {
   "cell_type": "code",
   "execution_count": 59,
   "metadata": {
    "scrolled": true
   },
   "outputs": [
    {
     "data": {
      "text/plain": [
       "GRanges object with 6 ranges and 1 metadata column:\n",
       "      seqnames         ranges strand |   exon_id\n",
       "         <Rle>      <IRanges>  <Rle> | <integer>\n",
       "  [1]     chr1 [11874, 12227]      + |         1\n",
       "  [2]     chr1 [12595, 12721]      + |         2\n",
       "  [3]     chr1 [12613, 12721]      + |         3\n",
       "  [4]     chr1 [12646, 12697]      + |         4\n",
       "  [5]     chr1 [13221, 14409]      + |         5\n",
       "  [6]     chr1 [13403, 14409]      + |         6\n",
       "  -------\n",
       "  seqinfo: 455 sequences (1 circular) from hg38 genome"
      ]
     },
     "metadata": {},
     "output_type": "display_data"
    }
   ],
   "source": [
    "exann <- exons(TxDb.Hsapiens.UCSC.hg38.knownGene)\n",
    "head(exann)"
   ]
  },
  {
   "cell_type": "code",
   "execution_count": 60,
   "metadata": {},
   "outputs": [
    {
     "data": {
      "text/plain": [
       "GRanges object with 6 ranges and 1 metadata column:\n",
       "      seqnames               ranges strand |   exon_id\n",
       "         <Rle>            <IRanges>  <Rle> | <integer>\n",
       "  [1]     chrY [26578095, 26578328]      - |    293785\n",
       "  [2]     chrY [57094007, 57094084]      - |    293786\n",
       "  [3]     chrY [57094564, 57094605]      - |    293787\n",
       "  [4]     chrY [57212178, 57213357]      - |    293788\n",
       "  [5]     chrY [57213856, 57213964]      - |    293789\n",
       "  [6]     chrY [57214350, 57214703]      - |    293790\n",
       "  -------\n",
       "  seqinfo: 455 sequences (1 circular) from hg38 genome"
      ]
     },
     "metadata": {},
     "output_type": "display_data"
    }
   ],
   "source": [
    "tail(exann[seqnames(exann)==\"chrY\"])"
   ]
  },
  {
   "cell_type": "code",
   "execution_count": 61,
   "metadata": {},
   "outputs": [],
   "source": [
    "exann <- exann[1:293790]"
   ]
  },
  {
   "cell_type": "code",
   "execution_count": 62,
   "metadata": {},
   "outputs": [],
   "source": [
    "exann <- data.table(chrom=as.vector(seqnames(exann)),\n",
    "                 start=start(exann),\n",
    "                 end=end(exann))"
   ]
  },
  {
   "cell_type": "code",
   "execution_count": 63,
   "metadata": {},
   "outputs": [
    {
     "data": {
      "text/html": [
       "<table>\n",
       "<thead><tr><th scope=col>chrom</th><th scope=col>start</th><th scope=col>end</th></tr></thead>\n",
       "<tbody>\n",
       "\t<tr><td>chr1 </td><td>11874</td><td>12227</td></tr>\n",
       "\t<tr><td>chr1 </td><td>12595</td><td>12721</td></tr>\n",
       "\t<tr><td>chr1 </td><td>12613</td><td>12721</td></tr>\n",
       "\t<tr><td>chr1 </td><td>12646</td><td>12697</td></tr>\n",
       "\t<tr><td>chr1 </td><td>13221</td><td>14409</td></tr>\n",
       "\t<tr><td>chr1 </td><td>13403</td><td>14409</td></tr>\n",
       "</tbody>\n",
       "</table>\n"
      ],
      "text/latex": [
       "\\begin{tabular}{r|lll}\n",
       " chrom & start & end\\\\\n",
       "\\hline\n",
       "\t chr1  & 11874 & 12227\\\\\n",
       "\t chr1  & 12595 & 12721\\\\\n",
       "\t chr1  & 12613 & 12721\\\\\n",
       "\t chr1  & 12646 & 12697\\\\\n",
       "\t chr1  & 13221 & 14409\\\\\n",
       "\t chr1  & 13403 & 14409\\\\\n",
       "\\end{tabular}\n"
      ],
      "text/markdown": [
       "\n",
       "chrom | start | end | \n",
       "|---|---|---|---|---|---|\n",
       "| chr1  | 11874 | 12227 | \n",
       "| chr1  | 12595 | 12721 | \n",
       "| chr1  | 12613 | 12721 | \n",
       "| chr1  | 12646 | 12697 | \n",
       "| chr1  | 13221 | 14409 | \n",
       "| chr1  | 13403 | 14409 | \n",
       "\n",
       "\n"
      ],
      "text/plain": [
       "  chrom start end  \n",
       "1 chr1  11874 12227\n",
       "2 chr1  12595 12721\n",
       "3 chr1  12613 12721\n",
       "4 chr1  12646 12697\n",
       "5 chr1  13221 14409\n",
       "6 chr1  13403 14409"
      ]
     },
     "metadata": {},
     "output_type": "display_data"
    }
   ],
   "source": [
    "head(exann)"
   ]
  },
  {
   "cell_type": "code",
   "execution_count": 64,
   "metadata": {},
   "outputs": [
    {
     "data": {
      "text/html": [
       "0.032007875"
      ],
      "text/latex": [
       "0.032007875"
      ],
      "text/markdown": [
       "0.032007875"
      ],
      "text/plain": [
       "[1] 0.03200787"
      ]
     },
     "metadata": {},
     "output_type": "display_data"
    }
   ],
   "source": [
    "sum(exann$end-exann$start)/3e9"
   ]
  },
  {
   "cell_type": "code",
   "execution_count": 65,
   "metadata": {},
   "outputs": [],
   "source": [
    "exann <- reduce(GRanges(exann$chrom,IRanges(exann$start,exann$end)))"
   ]
  },
  {
   "cell_type": "code",
   "execution_count": 66,
   "metadata": {},
   "outputs": [],
   "source": [
    "exann <- data.table(chrom=as.vector(seqnames(exann)),\n",
    "                   start=start(exann),\n",
    "                   end=end(exann))"
   ]
  },
  {
   "cell_type": "code",
   "execution_count": 67,
   "metadata": {},
   "outputs": [
    {
     "data": {
      "text/html": [
       "0.02897042"
      ],
      "text/latex": [
       "0.02897042"
      ],
      "text/markdown": [
       "0.02897042"
      ],
      "text/plain": [
       "[1] 0.02897042"
      ]
     },
     "metadata": {},
     "output_type": "display_data"
    }
   ],
   "source": [
    "sum(exann$end-exann$start)/3e9"
   ]
  },
  {
   "cell_type": "code",
   "execution_count": 68,
   "metadata": {},
   "outputs": [],
   "source": [
    "gann <- genes(TxDb.Hsapiens.UCSC.hg38.knownGene)"
   ]
  },
  {
   "cell_type": "code",
   "execution_count": 69,
   "metadata": {},
   "outputs": [
    {
     "data": {
      "text/plain": [
       "GRanges object with 6 ranges and 1 metadata column:\n",
       "            seqnames               ranges strand |     gene_id\n",
       "               <Rle>            <IRanges>  <Rle> | <character>\n",
       "          1    chr19 [58346806, 58362848]      - |           1\n",
       "         10     chr8 [18391245, 18401213]      + |          10\n",
       "        100    chr20 [44619522, 44651735]      - |         100\n",
       "       1000    chr18 [27950966, 28177481]      - |        1000\n",
       "  100008589    chr21 [ 8213888,  8401980]      + |   100008589\n",
       "  100009613    chr11 [70072434, 70075348]      - |   100009613\n",
       "  -------\n",
       "  seqinfo: 455 sequences (1 circular) from hg38 genome"
      ]
     },
     "metadata": {},
     "output_type": "display_data"
    }
   ],
   "source": [
    "head(gann)"
   ]
  },
  {
   "cell_type": "code",
   "execution_count": 92,
   "metadata": {},
   "outputs": [],
   "source": [
    "exann$gene_id <- vector('list',nrow(exann))\n",
    "\n",
    "for (i in unique(exann$chrom)) {\n",
    "# for (i in \"chr1\") {\n",
    "    \n",
    "    tmpE <- exann[exann$chrom==i] # get exon annotation for current chromosome\n",
    "    tmpG <- gann[seqnames(gann)==i] # get gene annotation for current chromosome\n",
    "    geneInd <- lapply(tmpE$start,between,start(tmpG),end(tmpG)) # get logical indices for each exon start loci being within any genes\n",
    "    \n",
    "    geneInd <- lapply(geneInd,which) # turn logical indices into direct indices\n",
    "    geneIDs <- lapply(geneInd,function(x) tmpG$gene_id[x]) # get the gene IDs of the genes with those indices\n",
    "                \n",
    "    geneIDs[lapply(geneIDs,length)==0]<-list(0)\n",
    "                      \n",
    "    exann[exann$chrom==i]$gene_id <- geneIDs # assign the retrieved gene IDs to the gene_id column for the current chromosome\n",
    "\n",
    "}\n"
   ]
  },
  {
   "cell_type": "code",
   "execution_count": 93,
   "metadata": {},
   "outputs": [
    {
     "data": {
      "text/html": [
       "<table>\n",
       "<thead><tr><th scope=col>chrom</th><th scope=col>start</th><th scope=col>end</th><th scope=col>gene_id</th></tr></thead>\n",
       "<tbody>\n",
       "\t<tr><td>chr1     </td><td>11874    </td><td>12227    </td><td>100287102</td></tr>\n",
       "\t<tr><td>chr1     </td><td>12595    </td><td>12721    </td><td>100287102</td></tr>\n",
       "\t<tr><td>chr1     </td><td>13221    </td><td>16765    </td><td>100287102</td></tr>\n",
       "\t<tr><td>chr1  </td><td>16854 </td><td>17055 </td><td>653635</td></tr>\n",
       "\t<tr><td>chr1  </td><td>17233 </td><td>18061 </td><td>653635</td></tr>\n",
       "\t<tr><td>chr1  </td><td>18268 </td><td>18379 </td><td>653635</td></tr>\n",
       "</tbody>\n",
       "</table>\n"
      ],
      "text/latex": [
       "\\begin{tabular}{r|llll}\n",
       " chrom & start & end & gene\\_id\\\\\n",
       "\\hline\n",
       "\t chr1      & 11874     & 12227     & 100287102\\\\\n",
       "\t chr1      & 12595     & 12721     & 100287102\\\\\n",
       "\t chr1      & 13221     & 16765     & 100287102\\\\\n",
       "\t chr1   & 16854  & 17055  & 653635\\\\\n",
       "\t chr1   & 17233  & 18061  & 653635\\\\\n",
       "\t chr1   & 18268  & 18379  & 653635\\\\\n",
       "\\end{tabular}\n"
      ],
      "text/markdown": [
       "\n",
       "chrom | start | end | gene_id | \n",
       "|---|---|---|---|---|---|\n",
       "| chr1      | 11874     | 12227     | 100287102 | \n",
       "| chr1      | 12595     | 12721     | 100287102 | \n",
       "| chr1      | 13221     | 16765     | 100287102 | \n",
       "| chr1   | 16854  | 17055  | 653635 | \n",
       "| chr1   | 17233  | 18061  | 653635 | \n",
       "| chr1   | 18268  | 18379  | 653635 | \n",
       "\n",
       "\n"
      ],
      "text/plain": [
       "  chrom start end   gene_id  \n",
       "1 chr1  11874 12227 100287102\n",
       "2 chr1  12595 12721 100287102\n",
       "3 chr1  13221 16765 100287102\n",
       "4 chr1  16854 17055 653635   \n",
       "5 chr1  17233 18061 653635   \n",
       "6 chr1  18268 18379 653635   "
      ]
     },
     "metadata": {},
     "output_type": "display_data"
    }
   ],
   "source": [
    "head(exann)"
   ]
  },
  {
   "cell_type": "code",
   "execution_count": 94,
   "metadata": {},
   "outputs": [
    {
     "data": {
      "text/html": [
       "<table>\n",
       "<thead><tr><th></th><th scope=col>GeneID</th><th scope=col>GeneSymbol</th></tr></thead>\n",
       "<tbody>\n",
       "\t<tr><th scope=row>2</th><td>43    </td><td>ACHE  </td></tr>\n",
       "\t<tr><th scope=row>3</th><td>95    </td><td>ACY1  </td></tr>\n",
       "\t<tr><th scope=row>4</th><td>104   </td><td>ADARB1</td></tr>\n",
       "\t<tr><th scope=row>5</th><td>141   </td><td>ADPRH </td></tr>\n",
       "\t<tr><th scope=row>6</th><td>142   </td><td>PARP1 </td></tr>\n",
       "\t<tr><th scope=row>7</th><td>185   </td><td>AGTR1 </td></tr>\n",
       "</tbody>\n",
       "</table>\n"
      ],
      "text/latex": [
       "\\begin{tabular}{r|ll}\n",
       "  & GeneID & GeneSymbol\\\\\n",
       "\\hline\n",
       "\t2 & 43     & ACHE  \\\\\n",
       "\t3 & 95     & ACY1  \\\\\n",
       "\t4 & 104    & ADARB1\\\\\n",
       "\t5 & 141    & ADPRH \\\\\n",
       "\t6 & 142    & PARP1 \\\\\n",
       "\t7 & 185    & AGTR1 \\\\\n",
       "\\end{tabular}\n"
      ],
      "text/markdown": [
       "\n",
       "| <!--/--> | GeneID | GeneSymbol | \n",
       "|---|---|---|---|---|---|\n",
       "| 2 | 43     | ACHE   | \n",
       "| 3 | 95     | ACY1   | \n",
       "| 4 | 104    | ADARB1 | \n",
       "| 5 | 141    | ADPRH  | \n",
       "| 6 | 142    | PARP1  | \n",
       "| 7 | 185    | AGTR1  | \n",
       "\n",
       "\n"
      ],
      "text/plain": [
       "  GeneID GeneSymbol\n",
       "2 43     ACHE      \n",
       "3 95     ACY1      \n",
       "4 104    ADARB1    \n",
       "5 141    ADPRH     \n",
       "6 142    PARP1     \n",
       "7 185    AGTR1     "
      ]
     },
     "metadata": {},
     "output_type": "display_data"
    }
   ],
   "source": [
    "tsgs <- read.table(\"../data/Human_TSGs.txt\")\n",
    "tsgs <- tsgs[2:nrow(tsgs),]\n",
    "names(tsgs) <- c(\"GeneID\",\"GeneSymbol\")\n",
    "head(tsgs)"
   ]
  },
  {
   "cell_type": "code",
   "execution_count": 95,
   "metadata": {},
   "outputs": [],
   "source": [
    "exann$istsg <- 0\n",
    "unfound <- 0\n",
    "k<-1\n",
    "\n",
    "for (i in 1:nrow(tsgs)){ # Loop over TSGs\n",
    "    tmp <- which(exann$gene_id==tsgs$GeneID[i]) # Find exons with gene_id matching the current TSG's id\n",
    "    if (length(tmp) > 0) { # If at least one is found\n",
    "        exann$istsg[tmp] <- 1\n",
    "    } else {unfound <- unfound+1}\n",
    "}"
   ]
  },
  {
   "cell_type": "code",
   "execution_count": 96,
   "metadata": {},
   "outputs": [
    {
     "data": {
      "text/html": [
       "'1003/1217 TSGs found (0.824157764995892 %)'"
      ],
      "text/latex": [
       "'1003/1217 TSGs found (0.824157764995892 \\%)'"
      ],
      "text/markdown": [
       "'1003/1217 TSGs found (0.824157764995892 %)'"
      ],
      "text/plain": [
       "[1] \"1003/1217 TSGs found (0.824157764995892 %)\""
      ]
     },
     "metadata": {},
     "output_type": "display_data"
    }
   ],
   "source": [
    "paste0(nrow(tsgs)-unfound,'/',nrow(tsgs), ' TSGs found (', (nrow(tsgs)-unfound)/nrow(tsgs),' %)')"
   ]
  },
  {
   "cell_type": "code",
   "execution_count": 99,
   "metadata": {},
   "outputs": [
    {
     "data": {
      "text/html": [
       "<table>\n",
       "<thead><tr><th scope=col>chrom</th><th scope=col>start</th><th scope=col>end</th><th scope=col>gene_id</th><th scope=col>istsg</th></tr></thead>\n",
       "<tbody>\n",
       "\t<tr><td>chr1   </td><td>1013467</td><td>1013576</td><td>9636   </td><td>1      </td></tr>\n",
       "\t<tr><td>chr1   </td><td>1013984</td><td>1014539</td><td>9636   </td><td>1      </td></tr>\n",
       "\t<tr><td>chr1   </td><td>1167104</td><td>1167198</td><td>406984 </td><td>1      </td></tr>\n",
       "\t<tr><td>chr1   </td><td>1167863</td><td>1167952</td><td>406983 </td><td>1      </td></tr>\n",
       "\t<tr><td>chr1   </td><td>1203508</td><td>1203968</td><td>8784   </td><td>1      </td></tr>\n",
       "\t<tr><td>chr1   </td><td>1204034</td><td>1204236</td><td>8784   </td><td>1      </td></tr>\n",
       "</tbody>\n",
       "</table>\n"
      ],
      "text/latex": [
       "\\begin{tabular}{r|lllll}\n",
       " chrom & start & end & gene\\_id & istsg\\\\\n",
       "\\hline\n",
       "\t chr1    & 1013467 & 1013576 & 9636    & 1      \\\\\n",
       "\t chr1    & 1013984 & 1014539 & 9636    & 1      \\\\\n",
       "\t chr1    & 1167104 & 1167198 & 406984  & 1      \\\\\n",
       "\t chr1    & 1167863 & 1167952 & 406983  & 1      \\\\\n",
       "\t chr1    & 1203508 & 1203968 & 8784    & 1      \\\\\n",
       "\t chr1    & 1204034 & 1204236 & 8784    & 1      \\\\\n",
       "\\end{tabular}\n"
      ],
      "text/markdown": [
       "\n",
       "chrom | start | end | gene_id | istsg | \n",
       "|---|---|---|---|---|---|\n",
       "| chr1    | 1013467 | 1013576 | 9636    | 1       | \n",
       "| chr1    | 1013984 | 1014539 | 9636    | 1       | \n",
       "| chr1    | 1167104 | 1167198 | 406984  | 1       | \n",
       "| chr1    | 1167863 | 1167952 | 406983  | 1       | \n",
       "| chr1    | 1203508 | 1203968 | 8784    | 1       | \n",
       "| chr1    | 1204034 | 1204236 | 8784    | 1       | \n",
       "\n",
       "\n"
      ],
      "text/plain": [
       "  chrom start   end     gene_id istsg\n",
       "1 chr1  1013467 1013576 9636    1    \n",
       "2 chr1  1013984 1014539 9636    1    \n",
       "3 chr1  1167104 1167198 406984  1    \n",
       "4 chr1  1167863 1167952 406983  1    \n",
       "5 chr1  1203508 1203968 8784    1    \n",
       "6 chr1  1204034 1204236 8784    1    "
      ]
     },
     "metadata": {},
     "output_type": "display_data"
    }
   ],
   "source": [
    "head(exann[exann$istsg==1])"
   ]
  },
  {
   "cell_type": "code",
   "execution_count": 100,
   "metadata": {},
   "outputs": [],
   "source": [
    "x <- org.Hs.egSYMBOL"
   ]
  },
  {
   "cell_type": "code",
   "execution_count": 101,
   "metadata": {},
   "outputs": [],
   "source": [
    "xf <- function(ids) {\n",
    "    # ids contains gene ids of a given exon\n",
    "    tmp<-c()\n",
    "    n0 <- length(which(ids==0)) # How many of the gene ids for current exon are 0 (missing from TxDB)\n",
    "    if (n0>0) {tmp<-append(tmp,rep(\"NA\",n0))} # If any, append an equal number of \"NA\"s to tmp\n",
    "    nMiss <- length(which(!is.element(ids,mappedkeys(x)))) # How many gene ids are not elements of org.Hs.eg.Db\n",
    "    if (nMiss>0) { # If any, append an equal number of \"NA\"s to tmp\n",
    "        tmp<-append(tmp,rep(\"NA\",nMiss))\n",
    "    }\n",
    "    return(c(as.list(x[ids[ids!=0 & is.element(ids,mappedkeys(x))]]),tmp))\n",
    "}\n",
    "test <- lapply(exann$gene_id,xf)"
   ]
  },
  {
   "cell_type": "code",
   "execution_count": 102,
   "metadata": {},
   "outputs": [],
   "source": [
    "exann$geneSym <- test"
   ]
  },
  {
   "cell_type": "code",
   "execution_count": 103,
   "metadata": {},
   "outputs": [
    {
     "data": {
      "text/html": [
       "<table>\n",
       "<thead><tr><th scope=col>chrom</th><th scope=col>start</th><th scope=col>end</th><th scope=col>gene_id</th><th scope=col>istsg</th><th scope=col>geneSym</th></tr></thead>\n",
       "<tbody>\n",
       "\t<tr><td>chr1     </td><td>11874    </td><td>12227    </td><td>100287102</td><td>0        </td><td>DDX11L1  </td></tr>\n",
       "\t<tr><td>chr1     </td><td>12595    </td><td>12721    </td><td>100287102</td><td>0        </td><td>DDX11L1  </td></tr>\n",
       "\t<tr><td>chr1     </td><td>13221    </td><td>16765    </td><td>100287102</td><td>0        </td><td>DDX11L1  </td></tr>\n",
       "\t<tr><td>chr1  </td><td>16854 </td><td>17055 </td><td>653635</td><td>0     </td><td>WASH7P</td></tr>\n",
       "\t<tr><td>chr1  </td><td>17233 </td><td>18061 </td><td>653635</td><td>0     </td><td>WASH7P</td></tr>\n",
       "\t<tr><td>chr1  </td><td>18268 </td><td>18379 </td><td>653635</td><td>0     </td><td>WASH7P</td></tr>\n",
       "</tbody>\n",
       "</table>\n"
      ],
      "text/latex": [
       "\\begin{tabular}{r|llllll}\n",
       " chrom & start & end & gene\\_id & istsg & geneSym\\\\\n",
       "\\hline\n",
       "\t chr1      & 11874     & 12227     & 100287102 & 0         & DDX11L1  \\\\\n",
       "\t chr1      & 12595     & 12721     & 100287102 & 0         & DDX11L1  \\\\\n",
       "\t chr1      & 13221     & 16765     & 100287102 & 0         & DDX11L1  \\\\\n",
       "\t chr1   & 16854  & 17055  & 653635 & 0      & WASH7P\\\\\n",
       "\t chr1   & 17233  & 18061  & 653635 & 0      & WASH7P\\\\\n",
       "\t chr1   & 18268  & 18379  & 653635 & 0      & WASH7P\\\\\n",
       "\\end{tabular}\n"
      ],
      "text/markdown": [
       "\n",
       "chrom | start | end | gene_id | istsg | geneSym | \n",
       "|---|---|---|---|---|---|\n",
       "| chr1      | 11874     | 12227     | 100287102 | 0         | DDX11L1   | \n",
       "| chr1      | 12595     | 12721     | 100287102 | 0         | DDX11L1   | \n",
       "| chr1      | 13221     | 16765     | 100287102 | 0         | DDX11L1   | \n",
       "| chr1   | 16854  | 17055  | 653635 | 0      | WASH7P | \n",
       "| chr1   | 17233  | 18061  | 653635 | 0      | WASH7P | \n",
       "| chr1   | 18268  | 18379  | 653635 | 0      | WASH7P | \n",
       "\n",
       "\n"
      ],
      "text/plain": [
       "  chrom start end   gene_id   istsg geneSym\n",
       "1 chr1  11874 12227 100287102 0     DDX11L1\n",
       "2 chr1  12595 12721 100287102 0     DDX11L1\n",
       "3 chr1  13221 16765 100287102 0     DDX11L1\n",
       "4 chr1  16854 17055 653635    0     WASH7P \n",
       "5 chr1  17233 18061 653635    0     WASH7P \n",
       "6 chr1  18268 18379 653635    0     WASH7P "
      ]
     },
     "metadata": {},
     "output_type": "display_data"
    }
   ],
   "source": [
    "head(exann)"
   ]
  },
  {
   "cell_type": "code",
   "execution_count": 104,
   "metadata": {},
   "outputs": [],
   "source": [
    "save(exann,file='../data/exann.rda')"
   ]
  },
  {
   "cell_type": "code",
   "execution_count": null,
   "metadata": {},
   "outputs": [],
   "source": []
  }
 ],
 "metadata": {
  "kernelspec": {
   "display_name": "R",
   "language": "R",
   "name": "ir"
  },
  "language_info": {
   "codemirror_mode": "r",
   "file_extension": ".r",
   "mimetype": "text/x-r-source",
   "name": "R",
   "pygments_lexer": "r",
   "version": "3.4.4"
  }
 },
 "nbformat": 4,
 "nbformat_minor": 2
}
