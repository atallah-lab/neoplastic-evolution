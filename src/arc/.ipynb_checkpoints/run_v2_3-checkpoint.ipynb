{
 "cells": [
  {
   "cell_type": "code",
   "execution_count": 13,
   "metadata": {},
   "outputs": [],
   "source": [
    "library(data.table)\n",
    "load('../data/exonicvsnon_counts.rda') # Probabilities of each mutation type\n",
    "load('../data/gene_pd_exon.rda') # Load tables giving probability of insertion for each gene in a diploid genome for both genders\n",
    "load('../data/tumor_type_driver_lists_cgc.rda')\n",
    "source('./src_sompop_v0_2_3.r')\n",
    "xy_genes <- gene_pd_m$gene_id[gene_pd_m$chrom %in% c('X','Y')] # Getting list of genes on chroms. X and Y by symbol"
   ]
  },
  {
   "cell_type": "markdown",
   "metadata": {},
   "source": [
    "### Define parameters"
   ]
  },
  {
   "cell_type": "code",
   "execution_count": 14,
   "metadata": {},
   "outputs": [],
   "source": [
    "###################################################3\n",
    "# Gender of organism\n",
    "gender <- 'male'\n",
    "\n",
    "# Symbol of driver gene disrupted at t=0\n",
    "driverGene <- 'Tss'\n",
    "\n",
    "# List of driver genes\n",
    "geneList <- as.vector(geneList_lung$Gene.Symbol)\n",
    "\n",
    "# Initial number of cells\n",
    "N0 <- 1000\n",
    "\n",
    "# Average # L1 insertions / cell cycle\n",
    "mu <- 1\n",
    "if (gender=='male') {\n",
    "    mu <- mu*(1-pd_exvsnon_m[2])# Scale by 1-probability of null (intron) insertion, to convert to probability of exonic insertion\n",
    "} else if (gender=='female') {\n",
    "    mu <- mu*(1-pd_exvsnon_f[2])\n",
    "}\n",
    "\n",
    "# Selective strengths of each mutation type\n",
    "spd <- .1 # Homozygous driver\n",
    "spp <- .005 # Homozygous passenger\n",
    "sld <- spd*0.1 # Heterozygous driver\n",
    "slp <- spp*0.1 # Hetero. passenger\n",
    "\n",
    "# Number of time steps to simulate\n",
    "NT <- 2e4/4\n",
    "\n",
    "###################################################3\n",
    "# Time resolution: number of timesteps per generation\n",
    "tau <- 4\n",
    "tau <- 1/tau\n",
    "# Buffer size of population data object; represents the max possible number of clones in the population\n",
    "maxNClones <- N0*4\n",
    "# Log path\n",
    "logpath <- './test_v2.4.log'\n",
    "system(paste0('rm ',logpath))"
   ]
  },
  {
   "cell_type": "markdown",
   "metadata": {},
   "source": [
    "## Test run"
   ]
  },
  {
   "cell_type": "code",
   "execution_count": 15,
   "metadata": {},
   "outputs": [
    {
     "name": "stdout",
     "output_type": "stream",
     "text": [
      "   user  system elapsed \n",
      " 39.819   0.028  39.848 \n"
     ]
    },
    {
     "ename": "ERROR",
     "evalue": "Error in genTime[genTime == 0] <- NA: object 'genTime' not found\n",
     "output_type": "error",
     "traceback": [
      "Error in genTime[genTime == 0] <- NA: object 'genTime' not found\nTraceback:\n"
     ]
    }
   ],
   "source": [
    "out <- run_sim(N0, mu, tau, NT, sld, slp, spd, spp, gender, driverGene, geneList, maxNClones, logpath)\n",
    "Pop <- out[[1]]\n",
    "N <- out[[2]]\n",
    "\n",
    "# head(Pop)\n",
    "N[N==0] <- NA\n",
    "genTime[genTime==0] <- NA\n",
    "plot(1:NT*tau,N,type='l',xlab='Generation',ylab='Population Size')"
   ]
  },
  {
   "cell_type": "markdown",
   "metadata": {},
   "source": [
    "## Batch run"
   ]
  },
  {
   "cell_type": "code",
   "execution_count": null,
   "metadata": {},
   "outputs": [],
   "source": [
    "nrun <- 0\n",
    "\n",
    "N0v <- c(1e2,5e2,1e3)\n",
    "muv <- c(.05,0.1,0.2,0.5,1,5)\n",
    "if (gender=='male') {\n",
    "    muv_adj <- muv*(1-pd_exvsnon_m[2])\n",
    "} else if (gender=='female') {\n",
    "    muv_adj <- muv*(1-pd_exvsnon_f[2])\n",
    "}\n",
    "sdv <- c(.001,.005,.01,.05,.1,.5,1)\n",
    "spv <- c(.001,.005,.01,.05,.1,.5,1)\n",
    "hef <- 0.1 # Fraction of homozygous effect assigned to heterozygous mutations\n",
    "\n",
    "outPath <- '../../lung_1023/'\n",
    "logPath <- paste0(outPath,'run_1.log')\n",
    "\n",
    "tryCatch({\n",
    "for (nn in 1:10) {\n",
    "    for (ii in 1:length(N0v)){\n",
    "        for (jj in 1:length(muv)) {\n",
    "            for (ll in 1:length(sdv)) {\n",
    "                for (mm in 1:length(spv)) {\n",
    "                        nrun <- nrun+1\n",
    "                        line <- paste0('Run: ',toString(nrun),'\\tN0: ',toString(N0v[ii]),'\\tmu: ',toString(muv[jj]),'\\tsd: ',toString(sdv[ll]),'\\tsp: ',toString(spv[mm]))\n",
    "                        write(line,file=logPath,append=TRUE)\n",
    "                        out <- run_sim(N0v[ii], muv_adj[jj], tau, NT, sdv[ll]*hef, spv[mm]*hef, sdv[ll], spv[mm], gender, driverGene, geneList, N0v[ii]*4, logPath)\n",
    "                        Pop <- out[[1]]\n",
    "                        N <- out[[2]]\n",
    "                        save(Pop,N,file=paste0(outPath,'run_n0',N0v[ii],'_',nrun,\".rda\"))\n",
    "                        rm(Pop,N)\n",
    "                    }\n",
    "                }\n",
    "            }\n",
    "        }\n",
    "    }\n",
    "    }, warning = function(warn.msg){\n",
    "        write(toString(warn.msg), logPath, append=TRUE)\n",
    "    }, error = function(err.msg){\n",
    "        write(toString(err.msg), logPath, append=TRUE)\n",
    "    }\n",
    ")"
   ]
  },
  {
   "cell_type": "code",
   "execution_count": null,
   "metadata": {},
   "outputs": [],
   "source": []
  },
  {
   "cell_type": "code",
   "execution_count": null,
   "metadata": {},
   "outputs": [],
   "source": []
  },
  {
   "cell_type": "code",
   "execution_count": null,
   "metadata": {},
   "outputs": [],
   "source": []
  },
  {
   "cell_type": "code",
   "execution_count": null,
   "metadata": {},
   "outputs": [],
   "source": []
  },
  {
   "cell_type": "code",
   "execution_count": null,
   "metadata": {},
   "outputs": [],
   "source": []
  },
  {
   "cell_type": "code",
   "execution_count": null,
   "metadata": {},
   "outputs": [],
   "source": []
  }
 ],
 "metadata": {
  "kernelspec": {
   "display_name": "R",
   "language": "R",
   "name": "ir"
  },
  "language_info": {
   "codemirror_mode": "r",
   "file_extension": ".r",
   "mimetype": "text/x-r-source",
   "name": "R",
   "pygments_lexer": "r",
   "version": "3.5.1"
  }
 },
 "nbformat": 4,
 "nbformat_minor": 2
}
