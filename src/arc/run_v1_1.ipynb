{
 "cells": [
  {
   "cell_type": "code",
   "execution_count": 42,
   "metadata": {},
   "outputs": [],
   "source": [
    "library(data.table)\n",
    "source('./src_sompop_v0_1_1.r')\n",
    "load('../data/tumor_type_pd_cgc.rda') # probabilities of each mutation type"
   ]
  },
  {
   "cell_type": "markdown",
   "metadata": {},
   "source": [
    "### Define parameters"
   ]
  },
  {
   "cell_type": "code",
   "execution_count": 50,
   "metadata": {},
   "outputs": [],
   "source": [
    "# Initial number of cells\n",
    "N0 <- 1e3\n",
    "# Probability of passenger or driver L1 insertion per cell cycle\n",
    "mu <- 5\n",
    "mu <- mu*(1-pd_lung_m[3]) # Scale by 1-probability of null insertion\n",
    "# Driver (sd) and passenger (sp) mutation selection strengths\n",
    "sd <- .1\n",
    "sp <- .001\n",
    "# Insertion type probability distribution [driver, passenger]\n",
    "pd_mut <- c(0.01,0.99)\n",
    "\n",
    "# Number of time steps to simulate\n",
    "NT <- 5e2*10\n",
    "# Time resolution: number of timesteps per cell cycle in the initial population (can also be interpreted as max possible fold change in cell cycle rate)\n",
    "tau <- 10\n",
    "tau <- 1/tau\n",
    "# Buffer size of population data object; represents the max possible number of clones in the population\n",
    "maxNClones <- max(2000,N0*1000)\n",
    "# Log file path\n",
    "log.path <- './test_v1.0.log'\n",
    "system(paste0('rm ',log.path))"
   ]
  },
  {
   "cell_type": "markdown",
   "metadata": {},
   "source": [
    "## Test run"
   ]
  },
  {
   "cell_type": "code",
   "execution_count": 53,
   "metadata": {},
   "outputs": [
    {
     "name": "stdout",
     "output_type": "stream",
     "text": [
      "   user  system elapsed \n",
      "323.988   2.940 326.931 \n"
     ]
    },
    {
     "data": {
      "text/html": [
       "18.0600784529626"
      ],
      "text/latex": [
       "18.0600784529626"
      ],
      "text/markdown": [
       "18.0600784529626"
      ],
      "text/plain": [
       "[1] 18.06008"
      ]
     },
     "metadata": {},
     "output_type": "display_data"
    },
    {
     "data": {
      "text/html": [
       "42.759066822655"
      ],
      "text/latex": [
       "42.759066822655"
      ],
      "text/markdown": [
       "42.759066822655"
      ],
      "text/plain": [
       "[1] 42.75907"
      ]
     },
     "metadata": {},
     "output_type": "display_data"
    },
    {
     "data": {
      "image/png": "[encoded data removed]",
      "text/plain": [
       "plot without title"
      ]
     },
     "metadata": {},
     "output_type": "display_data"
    }
   ],
   "source": [
    "tryCatch({\n",
    "    out <- run_sim(N0, mu, tau, NT, sd, sp, maxNClones, pd_mut, log.path)\n",
    "    Pop <- out[[1]]\n",
    "    N <- out[[2]]\n",
    "    }, error = function(err.msg){\n",
    "            write(toString(err.msg), log.path, append=TRUE)\n",
    "        }\n",
    ")\n",
    "\n",
    "# head(Pop)\n",
    "N[N==0]<- NA\n",
    "plot(1:NT,N,type='l',xlab='Timestep',ylab='Population Size',log='y')\n",
    "# plot((1:NT)*tau,movavg(N,200,'s'),type='l',xlab='Generation',ylab='Population Size')\n",
    "\n",
    "nd_av <- sum(Pop$nd*(Pop$ncells/sum(Pop$ncells)))\n",
    "np_av <- sum(Pop$np*(Pop$ncells/sum(Pop$ncells)))\n",
    "nd_av\n",
    "np_av"
   ]
  },
  {
   "cell_type": "markdown",
   "metadata": {},
   "source": [
    "## Batch run"
   ]
  },
  {
   "cell_type": "code",
   "execution_count": null,
   "metadata": {},
   "outputs": [],
   "source": [
    "nrun <- 0\n",
    "muv <- c(0.05,0.10,0.50,1.00,5.00)\n",
    "muv_adj <- muv*(1-pd_lung[3])\n",
    "N0v <- c(1e2,5e2,1e3,2e3)\n",
    "sdv <- c(0.001,0.010,0.100,1.000)\n",
    "spv <- c(0.001,0.010,0.100,1.000)\n",
    "\n",
    "out.path <- '../../brain_0906_1hit/'\n",
    "log.path <- '../../brain_0906_1hit/run.log'\n",
    "\n",
    "tryCatch({\n",
    "    for (ii in 1:length(N0v)){\n",
    "        for (jj in 1:length(muv)) {\n",
    "            for (ll in 1:length(sdv)) {\n",
    "                for (mm in 1:length(spv)) {\n",
    "                    for (nn in 1:5) {\n",
    "                        nrun <- nrun+1\n",
    "                        line <- paste0('Run: ',toString(nrun),'\\tN0: ',toString(N0v[ii]),'\\tmu: ',toString(muv[jj]),'\\tsd: ',toString(sdv[ll]),'\\tsp: ',toString(spv[mm]))\n",
    "                        write(line,file=log.path,append=TRUE)\n",
    "                        out <- run_sim(N0v[ii], muv_adj[jj], tau, NT, sdv[ll], spv[mm], N0v[ii]*4, pd_mut, log.path)\n",
    "                        Pop <- out[[1]]\n",
    "                        N <- out[[2]]\n",
    "                        save(Pop,N,file=paste0(out.path,'run_n0',N0v[ii],'_',nrun,\".rda\"))\n",
    "                        rm(Pop,N)\n",
    "                    }\n",
    "                }\n",
    "            }\n",
    "        }\n",
    "    }\n",
    "    }, error = function(err.msg){\n",
    "        write(toString(err.msg), log.path, append=TRUE)\n",
    "    }\n",
    ")"
   ]
  },
  {
   "cell_type": "code",
   "execution_count": null,
   "metadata": {},
   "outputs": [],
   "source": []
  },
  {
   "cell_type": "code",
   "execution_count": null,
   "metadata": {},
   "outputs": [],
   "source": []
  },
  {
   "cell_type": "code",
   "execution_count": null,
   "metadata": {},
   "outputs": [],
   "source": []
  },
  {
   "cell_type": "code",
   "execution_count": null,
   "metadata": {},
   "outputs": [],
   "source": []
  },
  {
   "cell_type": "code",
   "execution_count": null,
   "metadata": {},
   "outputs": [],
   "source": []
  },
  {
   "cell_type": "code",
   "execution_count": null,
   "metadata": {},
   "outputs": [],
   "source": []
  },
  {
   "cell_type": "code",
   "execution_count": null,
   "metadata": {},
   "outputs": [],
   "source": []
  },
  {
   "cell_type": "code",
   "execution_count": null,
   "metadata": {},
   "outputs": [],
   "source": []
  }
 ],
 "metadata": {
  "kernelspec": {
   "display_name": "R",
   "language": "R",
   "name": "ir"
  },
  "language_info": {
   "codemirror_mode": "r",
   "file_extension": ".r",
   "mimetype": "text/x-r-source",
   "name": "R",
   "pygments_lexer": "r",
   "version": "3.5.1"
  }
 },
 "nbformat": 4,
 "nbformat_minor": 2
}
