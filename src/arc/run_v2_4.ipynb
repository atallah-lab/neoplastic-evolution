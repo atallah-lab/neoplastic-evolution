{
 "cells": [
  {
   "cell_type": "code",
   "execution_count": null,
   "metadata": {},
   "outputs": [],
   "source": [
    "library(data.table)\n",
    "load('../../data/genomes/hg38/exonicvsnon_counts.rda') # Probabilities of each mutation type\n",
    "load('../../data/genomes/hg38/gene_pd_exon.rda') # Load tables giving probability of insertion for each gene in a diploid genome for both genders\n",
    "source('./src_sompop_v0_2_4.r')\n",
    "xy_genes <- gene_pd_m$gene_id[gene_pd_m$chrom %in% c('X','Y')] # Getting list of genes on chroms. X and Y by symbol`"
   ]
  },
  {
   "cell_type": "code",
   "execution_count": null,
   "metadata": {},
   "outputs": [],
   "source": [
    "geneList <- read.csv('../../data/gene_lists/drivers_lusc_filt.txt',header=F)\n",
    "geneList <- geneList$V1"
   ]
  },
  {
   "cell_type": "code",
   "execution_count": null,
   "metadata": {},
   "outputs": [],
   "source": [
    "gene_pd_m[gene_pd_m$gene_id %in% geneList]\n",
    "geneList <- gene_pd_m[gene_pd_m$gene_id %in% geneList]$gene_sym"
   ]
  },
  {
   "cell_type": "markdown",
   "metadata": {},
   "source": [
    "### Define parameters"
   ]
  },
  {
   "cell_type": "code",
   "execution_count": null,
   "metadata": {},
   "outputs": [],
   "source": [
    "###################################################3\n",
    "# Gender of organism\n",
    "gender <- 'male'\n",
    "\n",
    "# Symbol of driver gene disrupted at t=0\n",
    "driverGene <- ''\n",
    "\n",
    "# List of driver genes\n",
    "geneList <- geneList\n",
    "\n",
    "# Initial number of cells\n",
    "N0 <- 1e3\n",
    "\n",
    "# Average # L1 insertions / cell cycle\n",
    "mu <- 1\n",
    "if (gender=='male') {\n",
    "    mu <- mu*(1-pd_exvsnon_m[2])# Scale by 1-probability of null (intron) insertion, to convert to probability of exonic insertion\n",
    "} else if (gender=='female') {\n",
    "    mu <- mu*(1-pd_exvsnon_f[2])\n",
    "}\n",
    "\n",
    "# Selective strengths of each mutation type\n",
    "spd <- 0.1 # Homozygous driver\n",
    "spp <- 0.005 # Homozygous passenger\n",
    "sld <- spd*0.1 # Heterozygous driver\n",
    "slp <- spp*0.1 # Hetero. passenger\n",
    "\n",
    "# Number of time steps to simulate\n",
    "NT <- 1e1\n",
    "\n",
    "###################################################3\n",
    "# Time resolution: number of timesteps per generation\n",
    "tau <- 1\n",
    "tau <- 1/tau\n",
    "# Buffer size of population data object; represents the max possible number of clones in the population\n",
    "maxNClones <- N0*5\n",
    "# Log path\n",
    "logpath <- './log.txt'"
   ]
  },
  {
   "cell_type": "markdown",
   "metadata": {},
   "source": [
    "## Test run"
   ]
  },
  {
   "cell_type": "code",
   "execution_count": null,
   "metadata": {
    "scrolled": false
   },
   "outputs": [],
   "source": [
    "out <- sompop(N0, mu, tau, NT, sld, slp, spd, spp, gender, driverGene, geneList, maxNClones, logpath)\n",
    "Pop <- out[[1]]\n",
    "N <- out[[2]]\n",
    "genTime <- out[[4]]\n",
    "\n",
    "# head(Pop)\n",
    "N[N==0] <- NA\n",
    "genTime[genTime==0] <- NA\n",
    "plot(1:NT*tau,N,type='l',xlab='Generation',ylab='Population Size')"
   ]
  },
  {
   "cell_type": "markdown",
   "metadata": {},
   "source": [
    "## Batch run"
   ]
  },
  {
   "cell_type": "code",
   "execution_count": null,
   "metadata": {},
   "outputs": [],
   "source": [
    "nrun <- 0\n",
    "\n",
    "N0v <- c(1e2,5e2,1e3)\n",
    "muv <- c(0.05,0.1,0.5,1,5)\n",
    "if (gender=='male') {\n",
    "    muv_adj <- muv*(1-pd_exvsnon_m[2])\n",
    "} else if (gender=='female') {\n",
    "    muv_adj <- muv*(1-pd_exvsnon_f[2])\n",
    "}\n",
    "sdv <- c(0.001,.005,0.01,0.05,0.1,0.5,1)\n",
    "spv <- c(0.001,.005,0.01,0.05,0.1,0.5,1)\n",
    "hef <- 0.1 # Fraction of homozygous effect assigned to heterozygous mutations\n",
    "\n",
    "outPath <- '~/jackgl/lusc_1115_3/'\n",
    "logPath <- paste0(outPath,'run_1.log')\n",
    "system(paste0('rm ',logPath))\n",
    "\n",
    "tryCatch({\n",
    "    for (ii in 1:length(N0v)){\n",
    "        for (jj in 1:length(muv)) {\n",
    "            for (ll in 1:length(sdv)) {\n",
    "                for (mm in 1:length(spv)) {\n",
    "                    for (nn in 1:5) {\n",
    "                        nrun <- nrun+1\n",
    "                        N0 <- N0v[ii]\n",
    "                        mu <- muv_adj[jj]\n",
    "                        sd <- sdv[ll]\n",
    "                        sp <- spv[mm]\n",
    "                        line <- paste0('Run: ',toString(nrun),'\\tN0: ',toString(N0v[ii]),'\\tmu: ',toString(muv[jj]),'\\tsd: ',toString(sdv[ll]),'\\tsp: ',toString(spv[mm]))\n",
    "                        write(line,file=logPath,append=TRUE)\n",
    "                        out <- sompop(N0, mu, tau, NT, sd*hef, sp*hef, sd, sp, gender, driverGene, geneList, N0v[ii]*4, logPath)\n",
    "                        Pop <- out[[1]]\n",
    "                        N <- out[[2]]\n",
    "                        mut_genes <- out[[3]]\n",
    "                        gen_time <- out[[4]]\n",
    "                        save(Pop,N,mut_genes,gen_time,N0,mu,sd,sp,file=paste0(outPath,'run_n0',N0v[ii],'_',nrun,\".rda\"))\n",
    "                        rm(Pop,N)\n",
    "                    }\n",
    "                }\n",
    "            }\n",
    "        }\n",
    "    }\n",
    "    }, warning = function(warn.msg){\n",
    "        write(toString(warn.msg), logPath, append=TRUE)\n",
    "    }, error = function(err.msg){\n",
    "        write(toString(err.msg), logPath, append=TRUE)\n",
    "    }\n",
    ")"
   ]
  },
  {
   "cell_type": "code",
   "execution_count": null,
   "metadata": {},
   "outputs": [],
   "source": []
  },
  {
   "cell_type": "code",
   "execution_count": null,
   "metadata": {},
   "outputs": [],
   "source": []
  },
  {
   "cell_type": "code",
   "execution_count": null,
   "metadata": {},
   "outputs": [],
   "source": []
  },
  {
   "cell_type": "code",
   "execution_count": null,
   "metadata": {},
   "outputs": [],
   "source": []
  },
  {
   "cell_type": "code",
   "execution_count": null,
   "metadata": {},
   "outputs": [],
   "source": []
  },
  {
   "cell_type": "code",
   "execution_count": null,
   "metadata": {},
   "outputs": [],
   "source": []
  }
 ],
 "metadata": {
  "kernelspec": {
   "display_name": "R",
   "language": "R",
   "name": "ir"
  },
  "language_info": {
   "codemirror_mode": "r",
   "file_extension": ".r",
   "mimetype": "text/x-r-source",
   "name": "R",
   "pygments_lexer": "r",
   "version": "3.5.2"
  }
 },
 "nbformat": 4,
 "nbformat_minor": 2
}
