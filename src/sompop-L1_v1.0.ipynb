{
 "cells": [
  {
   "cell_type": "code",
   "execution_count": 1,
   "metadata": {},
   "outputs": [],
   "source": [
    "library(data.table)\n",
    "# library(pracma) # only needed for moving-average plot\n",
    "load('../data/cancer_type_pd_th10.rda') # probabilities of each mutation type"
   ]
  },
  {
   "cell_type": "code",
   "execution_count": 2,
   "metadata": {},
   "outputs": [],
   "source": [
    "birthrate <- function(nd, np, sd, sp, tau) { # probability of birth per timestep\n",
    "    return((((1+sd)^nd)/((1+sp)^np))*tau)\n",
    "}\n",
    "delta_ncells <- function(B, D, ncells) { # change in number of cells for a clone\n",
    "    return (max(ncells + rbinom(1,ncells,min(B,1))-rbinom(1,ncells,min(D,1)),0))\n",
    "}\n",
    "get_mu_i <- function(B, mu) {return(mu*B)} # mutation rate of clone i: proportional to birth rate\n",
    "get_nins <- function(ncells, mu_i) {return (rbinom(1,ncells,mu_i))} # number of insertions in current clone"
   ]
  },
  {
   "cell_type": "code",
   "execution_count": 3,
   "metadata": {},
   "outputs": [],
   "source": [
    "# This function simulates the evolution of a cell population subject to L1 insertions over time.\n",
    "# By default, a single cell is initialized with a driver insertion.\n",
    "#\n",
    "# Inputs:\n",
    "#     N0 - initial population size (# cells)\n",
    "#     mu - mutation rate (# L1 transpositions / birth)\n",
    "#     tau - time resolution (# number of timesteps / birth of normal cell)\n",
    "#     NT - number of timesteps to simulate\n",
    "#     sd - driver selection strength (positive change in birth rate for each accumulated driver)\n",
    "#     sp - passenger selection strength (negative change in birth rate for each accumulated passenger)\n",
    "#     nclones - Buffer size of population data object; represents the max possible number of clones in the population\n",
    "#     pd_mut - Discrete probability distribution of mutation types assumed to be in the order: driver, passenger, null, and to sum to 1\n",
    "#\n",
    "# Outputs:\n",
    "#     Pop - data.table object containing a row for each clone in the final population, along\n",
    "#           with columns for number of drivers and passengers, birth rate, mutation rate, number of cells\n",
    "#     N - Array containing the population size over time\n",
    "\n",
    "run_sim <- function(N0, mu, tau, NT, sd, sp, nclones, pd_mut, logpath) {\n",
    "\n",
    "    Pop <- data.table(ncells=rep(0,nclones),nd=rep(0,nclones),np=rep(0,nclones),B=rep(0,nclones),mu_i=rep(0,nclones))\n",
    "    Pop[1:2,c('ncells','nd','np'):=list(c(N0-1,1),c(0,1),c(0,0))] # populations are initialized with a driver mutation in a single cell\n",
    "    Pop[1:2,B := mapply(birthrate,nd,np,sd,sp,tau)]\n",
    "    Pop[1:2,mu_i := mapply(get_mu_i, B, mu)]\n",
    "    \n",
    "    bkup_Pop <- data.table(ncells=rep(0,nclones),nd=rep(0,nclones),np=rep(0,nclones),B=rep(0,nclones),mu_i=rep(0,nclones))\n",
    "\n",
    "    N <- rep(0,NT)\n",
    "    pd_mut <- pd_mut[1:2]/sum(pd_mut[1:2])\n",
    "    write('Initialized...',file=logpath,append=TRUE)\n",
    "\n",
    "    ptm <- proc.time()\n",
    "    for (ii in 1:NT) {\n",
    "        \n",
    "        if(ii %in% c(round(NT/4),round(NT/4*2),round(NT/4*3),NT)) { # Print progress at 25% completed intervals\n",
    "            write(paste0(toString(ii/NT*100),'% done | ',format((proc.time()-ptm)[1],nsmall=3),' (s)'),file=logpath,append=TRUE)            \n",
    "        }   \n",
    "        \n",
    "        N[ii] <- sum(Pop$ncells) # get current number of cells\n",
    "        if (N[ii]>=3*N0 || N[ii]<1) {break} # Simulation stops if population has grown by 3X or died\n",
    "        D <- N[ii]*tau/N0        # compute death rate\n",
    "        \n",
    "        clog <- Pop$ncells>0 # get logical array for indices of active (# cells >0) clones\n",
    "        \n",
    "        nins <- sum(unlist(mapply(get_nins,Pop$ncells[clog],Pop$mu_i[clog],SIMPLIFY=FALSE))) # Get number of exonic insertions\n",
    "        if (nins > 0) {\n",
    "            \n",
    "            rownew <- which(Pop$ncells==0)[1] # find first row of the data table with ncells==0\n",
    "\n",
    "            types <- sample(1:2,nins,replace=TRUE,prob=pd_mut) # sample mutation types\n",
    "            nmu <- length(types) # total number of passenger and drivers\n",
    "\n",
    "            sampctr <- sample(rep(1:nclones,Pop$ncells),nmu,replace=FALSE) # list clone id of each cell; sample without replacement\n",
    "            ctab <- table(sampctr)\n",
    "            cids <- as.integer(names(ctab)) # get row ids of sampled clones\n",
    "            set(Pop,cids,1L,Pop[cids,1L] - as.integer(ctab)) # remove cells from sampled clones\n",
    "\n",
    "            # Populate the new rows representing new clones\n",
    "            if(rownew+nmu-1>nrow(Pop)){\n",
    "                Pop<-rbind(Pop,bkup_Pop)\n",
    "                write('Increased size of pop. object',file=logpath,append=TRUE)\n",
    "            }\n",
    "            Pop[rownew:(rownew+nmu-1), c(\"ncells\",\"nd\",\"np\"):=list(1, Pop[sampctr]$nd+((types==1)*1), Pop[sampctr]$np+((types==2)*1))]\n",
    "            Pop[rownew:(rownew+nmu-1), B := mapply(birthrate, nd, np, sd, sp, tau)]\n",
    "            Pop[rownew:(rownew+nmu-1), mu_i := mapply(get_mu_i, B, mu)]\n",
    "        }\n",
    "        \n",
    "        Pop[Pop$ncells>0, ncells:=mapply(delta_ncells, B, D, ncells)] # update number of cells for all clones\n",
    "        Pop <- Pop[order(Pop$ncells,decreasing=TRUE),] # order data.table by ncells\n",
    "    }\n",
    "#     print(proc.time() - ptm)\n",
    "\n",
    "    return(list(Pop,N))\n",
    "\n",
    "}\n"
   ]
  },
  {
   "cell_type": "markdown",
   "metadata": {},
   "source": [
    "### Define parameters"
   ]
  },
  {
   "cell_type": "code",
   "execution_count": 4,
   "metadata": {},
   "outputs": [],
   "source": [
    "# Initial number of cells\n",
    "N0 <- 100\n",
    "# Probability of passenger or driver L1 insertion per cell cycle\n",
    "mu <- 5\n",
    "mu <- mu*(1-pd_lung_m[3]) # Scale by 1-probability of null insertion\n",
    "# Driver (sd) and passenger (sp) mutation selection strengths\n",
    "sd <- .001\n",
    "sp <- .1\n",
    "# Insertion type probability distribution [driver, passenger]\n",
    "pd_mut <- pd_brain_m\n",
    "\n",
    "\n",
    "# Number of time steps to simulate\n",
    "NT <- 20000\n",
    "# Time resolution: number of timesteps per cell cycle in the initial population (can also be interpreted as max possible fold change in cell cycle rate)\n",
    "tau <- 4\n",
    "tau <- 1/tau\n",
    "# Buffer size of population data object; represents the max possible number of clones in the population\n",
    "maxNClones <- max(2000,N0*5)\n",
    "# Log file path\n",
    "log.path <- '~/jackgl/test.log'\n",
    "system(paste0('rm ',log.path))"
   ]
  },
  {
   "cell_type": "markdown",
   "metadata": {},
   "source": [
    "## Test run"
   ]
  },
  {
   "cell_type": "code",
   "execution_count": 5,
   "metadata": {
    "collapsed": true
   },
   "outputs": [
    {
     "data": {
      "image/png": "[encoded data removed]",
      "text/plain": [
       "plot without title"
      ]
     },
     "metadata": {},
     "output_type": "display_data"
    }
   ],
   "source": [
    "tryCatch({\n",
    "    out <- run_sim(N0, mu, tau, NT, sd, sp, maxNClones, pd_mut, log.path)\n",
    "    Pop <- out[[1]]\n",
    "    N <- out[[2]]\n",
    "    }, error = function(err.msg){\n",
    "            write(toString(err.msg), log.path, append=TRUE)\n",
    "        }\n",
    ")\n",
    "\n",
    "# head(Pop)\n",
    "N[N==0]<- NA\n",
    "plot(1:NT,N,type='l',xlab='Timestep',ylab='Population Size')\n",
    "# plot((1:NT)*tau,movavg(N,200,'s'),type='l',xlab='Generation',ylab='Population Size')"
   ]
  },
  {
   "cell_type": "markdown",
   "metadata": {},
   "source": [
    "## Batch run"
   ]
  },
  {
   "cell_type": "code",
   "execution_count": null,
   "metadata": {},
   "outputs": [],
   "source": [
    "nrun <- 0\n",
    "muv <- c(0.05,0.10,0.50,1.00,5.00)\n",
    "muv_adj <- muv*(1-pd_lung[3])\n",
    "N0v <- c(1e2,5e2,1e3,2e3)\n",
    "sdv <- c(0.001,0.010,0.100,1.000)\n",
    "spv <- c(0.001,0.010,0.100,1.000)\n",
    "\n",
    "out.path <- '../../brain_0906_1hit/'\n",
    "log.path <- '../../brain_0906_1hit/run.log'\n",
    "\n",
    "tryCatch({\n",
    "    for (ii in 1:length(N0v)){\n",
    "        for (jj in 1:length(muv)) {\n",
    "            for (ll in 1:length(sdv)) {\n",
    "                for (mm in 1:length(spv)) {\n",
    "                    for (nn in 1:5) {\n",
    "                        nrun <- nrun+1\n",
    "                        line <- paste0('Run: ',toString(nrun),'\\tN0: ',toString(N0v[ii]),'\\tmu: ',toString(muv[jj]),'\\tsd: ',toString(sdv[ll]),'\\tsp: ',toString(spv[mm]))\n",
    "                        write(line,file=paste0(out.path,'.log'),append=TRUE)\n",
    "                        out <- run_sim(N0v[ii], muv_adj[jj], tau, NT, sdv[ll], spv[mm], N0v[ii]*4, pd_mut, log.path)\n",
    "                        Pop <- out[[1]]\n",
    "                        N <- out[[2]]\n",
    "                        save(Pop,N,file=paste0(out.path,'run_n0',N0v[ii],'_',nrun,\".rda\"))\n",
    "                        rm(Pop,N)\n",
    "                    }\n",
    "                }\n",
    "            }\n",
    "        }\n",
    "    }\n",
    "    }, error = function(err.msg){\n",
    "        write(toString(err.msg), log.path, append=TRUE)\n",
    "    }\n",
    ")"
   ]
  },
  {
   "cell_type": "code",
   "execution_count": null,
   "metadata": {},
   "outputs": [],
   "source": []
  },
  {
   "cell_type": "code",
   "execution_count": null,
   "metadata": {},
   "outputs": [],
   "source": []
  },
  {
   "cell_type": "code",
   "execution_count": null,
   "metadata": {},
   "outputs": [],
   "source": []
  },
  {
   "cell_type": "code",
   "execution_count": null,
   "metadata": {},
   "outputs": [],
   "source": []
  },
  {
   "cell_type": "code",
   "execution_count": null,
   "metadata": {},
   "outputs": [],
   "source": []
  },
  {
   "cell_type": "code",
   "execution_count": null,
   "metadata": {},
   "outputs": [],
   "source": []
  },
  {
   "cell_type": "code",
   "execution_count": null,
   "metadata": {},
   "outputs": [],
   "source": []
  },
  {
   "cell_type": "code",
   "execution_count": null,
   "metadata": {},
   "outputs": [],
   "source": []
  }
 ],
 "metadata": {
  "kernelspec": {
   "display_name": "R",
   "language": "R",
   "name": "ir"
  },
  "language_info": {
   "codemirror_mode": "r",
   "file_extension": ".r",
   "mimetype": "text/x-r-source",
   "name": "R",
   "pygments_lexer": "r",
   "version": "3.5.1"
  }
 },
 "nbformat": 4,
 "nbformat_minor": 2
}
