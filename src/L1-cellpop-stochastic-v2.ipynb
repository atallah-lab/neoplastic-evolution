{
 "cells": [
  {
   "cell_type": "code",
   "execution_count": 1,
   "metadata": {},
   "outputs": [],
   "source": [
    "library(data.table)\n",
    "# library(pracma) # only needed for moving-average plot\n",
    "load('../data/cancer_type_pd_th25.rda') # probabilities of each mutation type\n",
    "load('../data/gene_pdt.rda')\n",
    "dftmp <- read.csv('~/jackgl/analyses/tcga_gene_lists/frequently_mutated_genes_TCGA_brain.csv')\n",
    "geneList_brain <- as.vector(dftmp$Symbol) # \" \" \" \" \" for brain cancer\n",
    "rm(dftmp)"
   ]
  },
  {
   "cell_type": "code",
   "execution_count": 2,
   "metadata": {},
   "outputs": [
    {
     "data": {
      "text/html": [
       "<table>\n",
       "<thead><tr><th scope=col>chrom</th><th scope=col>geneSym</th><th scope=col>p</th><th scope=col>type</th></tr></thead>\n",
       "<tbody>\n",
       "\t<tr><td>1           </td><td>DDX11L1     </td><td>5.752612e-06</td><td>0           </td></tr>\n",
       "\t<tr><td>1           </td><td>WASH7P      </td><td>1.752652e-06</td><td>0           </td></tr>\n",
       "\t<tr><td>1           </td><td>MIR6859-1   </td><td>2.248431e-08</td><td>0           </td></tr>\n",
       "\t<tr><td>1           </td><td>MIR1302-2   </td><td>5.635693e-06</td><td>0           </td></tr>\n",
       "\t<tr><td>1           </td><td>FAM138A     </td><td>5.075834e-06</td><td>0           </td></tr>\n",
       "\t<tr><td>1           </td><td>OR4G4P      </td><td>1.019439e-05</td><td>0           </td></tr>\n",
       "</tbody>\n",
       "</table>\n"
      ],
      "text/latex": [
       "\\begin{tabular}{r|llll}\n",
       " chrom & geneSym & p & type\\\\\n",
       "\\hline\n",
       "\t 1            & DDX11L1      & 5.752612e-06 & 0           \\\\\n",
       "\t 1            & WASH7P       & 1.752652e-06 & 0           \\\\\n",
       "\t 1            & MIR6859-1    & 2.248431e-08 & 0           \\\\\n",
       "\t 1            & MIR1302-2    & 5.635693e-06 & 0           \\\\\n",
       "\t 1            & FAM138A      & 5.075834e-06 & 0           \\\\\n",
       "\t 1            & OR4G4P       & 1.019439e-05 & 0           \\\\\n",
       "\\end{tabular}\n"
      ],
      "text/markdown": [
       "\n",
       "chrom | geneSym | p | type | \n",
       "|---|---|---|---|---|---|\n",
       "| 1            | DDX11L1      | 5.752612e-06 | 0            | \n",
       "| 1            | WASH7P       | 1.752652e-06 | 0            | \n",
       "| 1            | MIR6859-1    | 2.248431e-08 | 0            | \n",
       "| 1            | MIR1302-2    | 5.635693e-06 | 0            | \n",
       "| 1            | FAM138A      | 5.075834e-06 | 0            | \n",
       "| 1            | OR4G4P       | 1.019439e-05 | 0            | \n",
       "\n",
       "\n"
      ],
      "text/plain": [
       "  chrom geneSym   p            type\n",
       "1 1     DDX11L1   5.752612e-06 0   \n",
       "2 1     WASH7P    1.752652e-06 0   \n",
       "3 1     MIR6859-1 2.248431e-08 0   \n",
       "4 1     MIR1302-2 5.635693e-06 0   \n",
       "5 1     FAM138A   5.075834e-06 0   \n",
       "6 1     OR4G4P    1.019439e-05 0   "
      ]
     },
     "metadata": {},
     "output_type": "display_data"
    },
    {
     "data": {
      "text/html": [
       "<ol class=list-inline>\n",
       "\t<li>'IDH1'</li>\n",
       "\t<li>'TP53'</li>\n",
       "\t<li>'ATRX'</li>\n",
       "\t<li>'TTN'</li>\n",
       "\t<li>'PTEN'</li>\n",
       "\t<li>'EGFR'</li>\n",
       "\t<li>'CIC'</li>\n",
       "\t<li>'MUC16'</li>\n",
       "\t<li>'FLG'</li>\n",
       "\t<li>'PIK3CA'</li>\n",
       "</ol>\n"
      ],
      "text/latex": [
       "\\begin{enumerate*}\n",
       "\\item 'IDH1'\n",
       "\\item 'TP53'\n",
       "\\item 'ATRX'\n",
       "\\item 'TTN'\n",
       "\\item 'PTEN'\n",
       "\\item 'EGFR'\n",
       "\\item 'CIC'\n",
       "\\item 'MUC16'\n",
       "\\item 'FLG'\n",
       "\\item 'PIK3CA'\n",
       "\\end{enumerate*}\n"
      ],
      "text/markdown": [
       "1. 'IDH1'\n",
       "2. 'TP53'\n",
       "3. 'ATRX'\n",
       "4. 'TTN'\n",
       "5. 'PTEN'\n",
       "6. 'EGFR'\n",
       "7. 'CIC'\n",
       "8. 'MUC16'\n",
       "9. 'FLG'\n",
       "10. 'PIK3CA'\n",
       "\n",
       "\n"
      ],
      "text/plain": [
       " [1] \"IDH1\"   \"TP53\"   \"ATRX\"   \"TTN\"    \"PTEN\"   \"EGFR\"   \"CIC\"    \"MUC16\" \n",
       " [9] \"FLG\"    \"PIK3CA\""
      ]
     },
     "metadata": {},
     "output_type": "display_data"
    }
   ],
   "source": [
    "head(gene_pdt)\n",
    "geneList_brain"
   ]
  },
  {
   "cell_type": "code",
   "execution_count": 3,
   "metadata": {},
   "outputs": [
    {
     "data": {
      "text/html": [
       "<table>\n",
       "<thead><tr><th scope=col>chrom</th><th scope=col>geneSym</th><th scope=col>p</th><th scope=col>type</th></tr></thead>\n",
       "<tbody>\n",
       "\t<tr><td>1           </td><td>FLG         </td><td>3.770620e-05</td><td>1           </td></tr>\n",
       "\t<tr><td>2           </td><td>TTN         </td><td>8.259759e-04</td><td>1           </td></tr>\n",
       "\t<tr><td>2           </td><td>IDH1        </td><td>4.563416e-05</td><td>1           </td></tr>\n",
       "\t<tr><td>3           </td><td>PIK3CA      </td><td>1.246800e-04</td><td>1           </td></tr>\n",
       "\t<tr><td>7           </td><td>EGFR        </td><td>8.076928e-05</td><td>1           </td></tr>\n",
       "\t<tr><td>10          </td><td>PTEN        </td><td>1.509484e-04</td><td>1           </td></tr>\n",
       "</tbody>\n",
       "</table>\n"
      ],
      "text/latex": [
       "\\begin{tabular}{r|llll}\n",
       " chrom & geneSym & p & type\\\\\n",
       "\\hline\n",
       "\t 1            & FLG          & 3.770620e-05 & 1           \\\\\n",
       "\t 2            & TTN          & 8.259759e-04 & 1           \\\\\n",
       "\t 2            & IDH1         & 4.563416e-05 & 1           \\\\\n",
       "\t 3            & PIK3CA       & 1.246800e-04 & 1           \\\\\n",
       "\t 7            & EGFR         & 8.076928e-05 & 1           \\\\\n",
       "\t 10           & PTEN         & 1.509484e-04 & 1           \\\\\n",
       "\\end{tabular}\n"
      ],
      "text/markdown": [
       "\n",
       "chrom | geneSym | p | type | \n",
       "|---|---|---|---|---|---|\n",
       "| 1            | FLG          | 3.770620e-05 | 1            | \n",
       "| 2            | TTN          | 8.259759e-04 | 1            | \n",
       "| 2            | IDH1         | 4.563416e-05 | 1            | \n",
       "| 3            | PIK3CA       | 1.246800e-04 | 1            | \n",
       "| 7            | EGFR         | 8.076928e-05 | 1            | \n",
       "| 10           | PTEN         | 1.509484e-04 | 1            | \n",
       "\n",
       "\n"
      ],
      "text/plain": [
       "  chrom geneSym p            type\n",
       "1 1     FLG     3.770620e-05 1   \n",
       "2 2     TTN     8.259759e-04 1   \n",
       "3 2     IDH1    4.563416e-05 1   \n",
       "4 3     PIK3CA  1.246800e-04 1   \n",
       "5 7     EGFR    8.076928e-05 1   \n",
       "6 10    PTEN    1.509484e-04 1   "
      ]
     },
     "metadata": {},
     "output_type": "display_data"
    }
   ],
   "source": [
    "gene_pdt[gene_pdt$geneSym %in% geneList_brain,]$type <- 1\n",
    "head(gene_pdt[gene_pdt$geneSym %in% geneList_brain,])"
   ]
  },
  {
   "cell_type": "code",
   "execution_count": 4,
   "metadata": {},
   "outputs": [],
   "source": [
    "birthrate <- function(nld, nlp, npd, npp, sld, slp, spd, spp, tau) { # probability of birth per timestep   \n",
    "    return(((((1+sld)^nld)*((1+spd)^npd))/(((1+slp)^nlp)*((1+spp)^npp)))*tau)\n",
    "}\n",
    "delta_ncells <- function(B, D, ncells) { # change in number of cells for a clone\n",
    "    return (max(ncells + rbinom(1,ncells,min(B,1))-rbinom(1,ncells,min(D,1)),0))\n",
    "}\n",
    "get_mu_i <- function(B, mu) {return(mu*B)} # mutation rate of clone i: proportional to birth rate\n",
    "get_nins <- function(ncells, mu_i) {return (rbinom(1,ncells,mu_i))} # number of insertions in current clone"
   ]
  },
  {
   "cell_type": "code",
   "execution_count": 5,
   "metadata": {},
   "outputs": [],
   "source": [
    "update_mcount <- function(nld,nlp,npd,npp,typemut,typegene) {\n",
    "    \n",
    "    if (typemut==1) {return(list(nld,nlp,npd,npp))}\n",
    "    else if (typemut==2 & typegene==0) {return(list(nld,nlp+1,npd,npp))}\n",
    "    else if (typemut==2 & typegene==1) {return(list(nld+1,nlp,npd,npp))}\n",
    "    else if (typemut==3 & typegene==0) {return(list(nld,nlp-1,npd,npp+1))}\n",
    "    else if (typemut==3 & typegene==1) {return(list(nld-1,nlp,npd+1,npp))}\n",
    "    \n",
    "}"
   ]
  },
  {
   "cell_type": "code",
   "execution_count": 6,
   "metadata": {},
   "outputs": [],
   "source": [
    "# This function will update the gene lists for a given clone\n",
    "\n",
    "# type 1 - no effect\n",
    "# type 2 - weak effect\n",
    "# type 3 - strong effect\n",
    "\n",
    "update_genes <- function(lgenes,pgenes) {\n",
    "    lgenes<-unlist(lgenes)\n",
    "    pgenes<-unlist(pgenes)\n",
    "#     if (length(lgenes)==0) {return(list(list(lgenes),list(pgenes)))} # Shouldn't run into this?\n",
    "    \n",
    "    if (tail(lgenes,1) %in% pgenes) { # If the last gene in list is in list of paired disrupted genes, discard it\n",
    "        lgenes <- head(lgenes,length(lgenes)-1)\n",
    "        if (length(lgenes)==0) {lgenes <- c(NULL)}\n",
    "        type<-1\n",
    "    } else {\n",
    "        if (tail(lgenes,1) %in% head(lgenes,length(lgenes)-1)) { # If the last gene is in the list of lone disrupted genes\n",
    "            if (sample(c(0,1),1)) { # With 50% probability, assume it's the other copy, add the gene to the paired list, and discard it (all instances) from lone list\n",
    "                pgenes <- append(pgenes,tail(lgenes,1))\n",
    "                lgenes <- lgenes[lgenes!=tail(lgenes,1)]\n",
    "                if (length(lgenes)==0) {lgenes <- c(NULL)}\n",
    "                type<-3\n",
    "            } else { # Else, assume it hit already disrupted copy, and discard from list\n",
    "                lgenes <- head(lgenes,length(lgenes)-1)\n",
    "                if (length(lgenes)==0) {lgenes <- c(NULL)}\n",
    "                type<-1\n",
    "            }\n",
    "        } else {\n",
    "            type<-2\n",
    "        }\n",
    "    }\n",
    "    if (length(pgenes)==0) {pgenes <- list(NULL)}\n",
    "    return(list(list(lgenes),list(pgenes),type))\n",
    "}"
   ]
  },
  {
   "cell_type": "code",
   "execution_count": 7,
   "metadata": {},
   "outputs": [],
   "source": [
    "run_sim <- function(N0, mu, tau, NT, sld, slp, spd, spp, gene_pdt, nclones, logpath) {\n",
    "\n",
    "    # Allocate population\n",
    "    Pop <- data.table(ncells=rep(0,nclones),\n",
    "                      B=rep(0,nclones),\n",
    "                      mu_i=rep(0,nclones),\n",
    "                      nld=rep(0,nclones),\n",
    "                      nlp=rep(0,nclones),\n",
    "                      npd=rep(0,nclones),\n",
    "                      npp=rep(0,nclones),\n",
    "                      lgenes=rep(list(),nclones),\n",
    "                      pgenes=rep(list(),nclones),\n",
    "                      lasttype=rep(0,nclones))\n",
    "    # Initialize population\n",
    "    Pop[1:2,c('ncells','nld','nlp','npd','npp','lgenes','pgenes','lasttype'):=list(c(N0-1,1),\n",
    "                                                                                 c(0,1),\n",
    "                                                                                 c(0,0),\n",
    "                                                                                 c(0,0),\n",
    "                                                                                 c(0,0),\n",
    "                                                                                 list(list(),list('default driver')),\n",
    "                                                                                 list(list(),list()),\n",
    "                                                                                 c(0,1))]\n",
    "    \n",
    "    # Assign birth and insertion rates\n",
    "    Pop[1:2, B := mapply(birthrate, nld, nlp, npd, npp, sld, slp, spd, spp, tau)]\n",
    "    Pop[1:2, mu_i := mapply(get_mu_i, B, mu)]\n",
    "    \n",
    "    # For if the population data table needs to be enlarged\n",
    "    bkup_Pop <- data.table(ncells=rep(0,nclones),\n",
    "                      B=rep(0,nclones),\n",
    "                      mu_i=rep(0,nclones),\n",
    "                      nld=rep(0,nclones),\n",
    "                      nlp=rep(0,nclones),\n",
    "                      npd=rep(0,nclones),\n",
    "                      npp=rep(0,nclones),\n",
    "                      lgenes=rep(list(),nclones),\n",
    "                      pgenes=rep(list(),nclones),\n",
    "                      lasttype=rep(0,nclones))\n",
    "    \n",
    "    N <- rep(0,NT) # Allocate array for population size time series\n",
    "    genes <- rep(NA,nrow(gene_pdt))\n",
    "    write('Initialized...',file=logpath,append=TRUE)\n",
    "\n",
    "    ptm <- proc.time()\n",
    "    for (ii in 1:NT) { # Loop over time steps\n",
    "        \n",
    "        if(ii %in% c(round(NT/4),round(NT/4*2),round(NT/4*3),NT)) { # Print progress at 25% completed intervals\n",
    "            write(paste0(toString(ii/NT*100),'% done | ',format((proc.time()-ptm)[1],nsmall=3),' (s)'),file=logpath,append=TRUE)            \n",
    "        }\n",
    "        clog <- Pop$ncells>0 # Get logical array for indices of active (# cells >0) clones\n",
    "        \n",
    "        nins <- sum(mapply(get_nins,Pop$ncells[clog],Pop$mu_i[clog])) # Get number of exonic insertions\n",
    "        if (nins > 0) {\n",
    "            \n",
    "            rownew <- which(Pop$ncells==0)[1] # Find first row of the data table with ncells==0\n",
    "            \n",
    "            gene_ids <- sample(1:nrow(gene_pdt),nins,replace=TRUE,prob=gene_pdt$p)\n",
    "            gene_list <- gene_pdt$geneSym[gene_ids]\n",
    "            genes<-append(genes,gene_list)\n",
    "#             print(gene_list)\n",
    "            genetypes <- gene_pdt$type[gene_ids]\n",
    "\n",
    "            clonesWIns <- sample(rep(1:nclones,Pop$ncells),nins,replace=FALSE) # List clone id (row number) of each cell; sample without replacement\n",
    "            ctab <- table(clonesWIns)\n",
    "            cids <- as.integer(names(ctab)) # Get row ids of sampled clones\n",
    "            set(Pop,cids,1L,Pop[cids,1L] - as.integer(ctab)) # Remove cells from sampled clones\n",
    "\n",
    "            # Populate the new rows representing new clones\n",
    "            if(rownew+nins-1>nrow(Pop)){ # Enlarge the population data object if needed\n",
    "                Pop<-rbind(Pop,bkup_Pop)\n",
    "                write('Increased size of pop. object',file=logpath,append=TRUE)\n",
    "            }\n",
    "            new_inds <- rownew:(rownew+nins-1) # Row indices of new rows            \n",
    "            \n",
    "            Pop[new_inds, c(\"ncells\",\"nld\",\"nlp\",\"npd\",\"npp\",\"lgenes\",\"pgenes\",\"lasttype\"):=list(1, \n",
    "                                                                                                Pop[clonesWIns]$nld, \n",
    "                                                                                                Pop[clonesWIns]$nlp, \n",
    "                                                                                                Pop[clonesWIns]$npd, \n",
    "                                                                                                Pop[clonesWIns]$npp, \n",
    "                                                                                                mapply(append,Pop[clonesWIns]$lgenes,gene_list,SIMPLIFY=FALSE),\n",
    "                                                                                                Pop[clonesWIns]$pgenes,\n",
    "                                                                                                genetypes)]\n",
    "            # Update gene lists\n",
    "            tmp1 <- t(mapply(update_genes,Pop[new_inds,]$lgenes,Pop[new_inds,]$pgenes))\n",
    "            Pop[new_inds,]$lgenes <- tmp1[,1]\n",
    "            Pop[new_inds,]$pgenes <- tmp1[,2]\n",
    "            # Update insertion counts\n",
    "            tmp2<-t(mapply(update_mcount,Pop[new_inds,]$nld,Pop[new_inds,]$nlp,Pop[new_inds,]$npd,Pop[new_inds,]$npp,tmp1[,3],Pop[new_inds]$lasttype))\n",
    "            Pop[new_inds,c(\"nld\",\"nlp\",\"npd\",\"npp\"):=list(unlist(tmp2[,1]),unlist(tmp2[,2]),unlist(tmp2[,3]),unlist(tmp2[,4]))]\n",
    "            # Update birth and insertion rates\n",
    "            Pop[new_inds, B := mapply(birthrate, nld, nlp, npd, npp, sld, slp, spd, spp, tau)]\n",
    "            Pop[new_inds, mu_i := mapply(get_mu_i, B, mu)]\n",
    "        }\n",
    "\n",
    "        N[ii] <- sum(Pop$ncells) # Get current number of cells\n",
    "        if (N[ii]>=3*N0) {break} # Simulation stops if population has grown by 3X\n",
    "        D <- N[ii]*tau/N0        # Compute death rate\n",
    "        Pop[Pop$ncells>0, ncells:=mapply(delta_ncells, B, D, ncells)] # Update number of cells for all clones\n",
    "        Pop <- Pop[order(Pop$ncells,decreasing=TRUE),] # Order data.table by ncells\n",
    "\n",
    "    }\n",
    "#     print(proc.time() - ptm)\n",
    "    genes <- genes[!is.na(genes)]\n",
    "    Pop <- Pop[,1:9]\n",
    "    return(list(Pop,N,genes))\n",
    "\n",
    "}\n"
   ]
  },
  {
   "cell_type": "markdown",
   "metadata": {},
   "source": [
    "### Define parameters"
   ]
  },
  {
   "cell_type": "code",
   "execution_count": 8,
   "metadata": {},
   "outputs": [],
   "source": [
    "# Initial number of cells\n",
    "N0 <- 1000\n",
    "# Probability of passenger or driver L1 insertion per cell cycle\n",
    "mu <- 1\n",
    "mu <- mu*(1-pd_lung[3]) # Scale by 1-probability of null insertion\n",
    "\n",
    "\n",
    "spd <- .1\n",
    "spp <- .001\n",
    "sld <- spd*0.2\n",
    "slp <- spp*0.2\n",
    "\n",
    "\n",
    "# Number of time steps to simulate\n",
    "NT <- 20000\n",
    "# Time resolution: number of timesteps per cell cycle in the initial population (can also be interpreted as max possible fold change in cell cycle rate)\n",
    "tau <- 4\n",
    "tau <- 1/tau\n",
    "# Buffer size of population data object; represents the max possible number of clones in the population\n",
    "maxNClones <- max(2000,N0*5)"
   ]
  },
  {
   "cell_type": "markdown",
   "metadata": {},
   "source": [
    "## Test run"
   ]
  },
  {
   "cell_type": "code",
   "execution_count": null,
   "metadata": {},
   "outputs": [],
   "source": [
    "out <- run_sim(N0, mu, tau, NT, sld, slp, spd, spp, gene_pdt, maxNClones, './testwgene.log')\n",
    "Pop <- out[[1]]\n",
    "N <- out[[2]]\n",
    "\n",
    "head(Pop)\n",
    "N[N==0]<- NA\n",
    "plot(1:NT,N,type='l',xlab='Timestep',ylab='Population Size')\n",
    "# plot((1:NT)*tau,movavg(N,200,'s'),type='l',xlab='Generation',ylab='Population Size')"
   ]
  },
  {
   "cell_type": "markdown",
   "metadata": {},
   "source": [
    "## Batch run"
   ]
  },
  {
   "cell_type": "code",
   "execution_count": null,
   "metadata": {},
   "outputs": [],
   "source": [
    "# load('../data/cancer_type_pd_th25.rda') # probabilities of each mutation type\n",
    "nrun <- 0\n",
    "muv <- c(1e-1,1e-0,1e1,5e1)\n",
    "muv_adj <- muv*(1-pd_lung[3])\n",
    "N0v <- c(1e2,5e2,1e3,2e3)\n",
    "outPath <- '../../test_brain_genetrack/run'\n",
    "for (ii in 1:length(N0v)){\n",
    "    for (jj in 1:length(muv)) {\n",
    "        for (kk in 1:5) {\n",
    "            nrun <- nrun+1\n",
    "            line <- paste0('Run: ',toString(nrun),'\\tN0: ',toString(N0v[ii]),'\\tmu: ',toString(muv[jj]))\n",
    "            write(line,file=paste0(outPath,'.log'),append=TRUE)\n",
    "            out <- run_sim(N0v[ii], muv_adj[jj], tau, NT, sld, slp, spd, spp, gene_pdt, N0v[ii]*4, paste0(outPath,'.log'))\n",
    "            Pop <- out[[1]]\n",
    "            N <- out[[2]]\n",
    "            genes <- out[[3]]\n",
    "            save(Pop,N,genes,file=paste0(outPath,'_n0',N0v[ii],'_',nrun,\".rda\"))\n",
    "            rm(Pop,N,genes)\n",
    "        }\n",
    "    }\n",
    "}"
   ]
  },
  {
   "cell_type": "code",
   "execution_count": null,
   "metadata": {},
   "outputs": [],
   "source": []
  },
  {
   "cell_type": "code",
   "execution_count": null,
   "metadata": {},
   "outputs": [],
   "source": []
  },
  {
   "cell_type": "code",
   "execution_count": null,
   "metadata": {},
   "outputs": [],
   "source": []
  },
  {
   "cell_type": "code",
   "execution_count": null,
   "metadata": {},
   "outputs": [],
   "source": []
  },
  {
   "cell_type": "code",
   "execution_count": null,
   "metadata": {},
   "outputs": [],
   "source": []
  },
  {
   "cell_type": "code",
   "execution_count": null,
   "metadata": {},
   "outputs": [],
   "source": []
  },
  {
   "cell_type": "code",
   "execution_count": null,
   "metadata": {},
   "outputs": [],
   "source": []
  }
 ],
 "metadata": {
  "kernelspec": {
   "display_name": "R",
   "language": "R",
   "name": "ir"
  },
  "language_info": {
   "codemirror_mode": "r",
   "file_extension": ".r",
   "mimetype": "text/x-r-source",
   "name": "R",
   "pygments_lexer": "r",
   "version": "3.5.1"
  }
 },
 "nbformat": 4,
 "nbformat_minor": 2
}
