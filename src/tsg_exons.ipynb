{
 "cells": [
  {
   "cell_type": "code",
   "execution_count": 1,
   "metadata": {},
   "outputs": [
    {
     "name": "stderr",
     "output_type": "stream",
     "text": [
      "Loading required package: GenomicFeatures\n",
      "Loading required package: BiocGenerics\n",
      "Loading required package: parallel\n",
      "\n",
      "Attaching package: ‘BiocGenerics’\n",
      "\n",
      "The following objects are masked from ‘package:parallel’:\n",
      "\n",
      "    clusterApply, clusterApplyLB, clusterCall, clusterEvalQ,\n",
      "    clusterExport, clusterMap, parApply, parCapply, parLapply,\n",
      "    parLapplyLB, parRapply, parSapply, parSapplyLB\n",
      "\n",
      "The following objects are masked from ‘package:stats’:\n",
      "\n",
      "    IQR, mad, xtabs\n",
      "\n",
      "The following objects are masked from ‘package:base’:\n",
      "\n",
      "    anyDuplicated, append, as.data.frame, as.vector, cbind, colnames,\n",
      "    do.call, duplicated, eval, evalq, Filter, Find, get, grep, grepl,\n",
      "    intersect, is.unsorted, lapply, lengths, Map, mapply, match, mget,\n",
      "    order, paste, pmax, pmax.int, pmin, pmin.int, Position, rank,\n",
      "    rbind, Reduce, rownames, sapply, setdiff, sort, table, tapply,\n",
      "    union, unique, unlist, unsplit\n",
      "\n",
      "Loading required package: S4Vectors\n",
      "Loading required package: stats4\n",
      "Loading required package: IRanges\n",
      "Loading required package: GenomeInfoDb\n",
      "Loading required package: GenomicRanges\n",
      "Loading required package: AnnotationDbi\n",
      "Loading required package: Biobase\n",
      "Welcome to Bioconductor\n",
      "\n",
      "    Vignettes contain introductory material; view with\n",
      "    'browseVignettes()'. To cite Bioconductor, see\n",
      "    'citation(\"Biobase\")', and for packages 'citation(\"pkgname\")'.\n",
      "\n"
     ]
    }
   ],
   "source": [
    "library(TxDb.Hsapiens.UCSC.hg38.knownGene)"
   ]
  },
  {
   "cell_type": "code",
   "execution_count": 2,
   "metadata": {},
   "outputs": [],
   "source": [
    "exbyg <- exonsBy(TxDb.Hsapiens.UCSC.hg38.knownGene, \"gene\")"
   ]
  },
  {
   "cell_type": "code",
   "execution_count": 3,
   "metadata": {},
   "outputs": [],
   "source": [
    "exns <- exons(TxDb.Hsapiens.UCSC.hg38.knownGene)"
   ]
  },
  {
   "cell_type": "code",
   "execution_count": 4,
   "metadata": {},
   "outputs": [
    {
     "data": {
      "text/plain": [
       "GRangesList object of length 6:\n",
       "$1 \n",
       "GRanges object with 15 ranges and 2 metadata columns:\n",
       "       seqnames               ranges strand   |   exon_id   exon_name\n",
       "          <Rle>            <IRanges>  <Rle>   | <integer> <character>\n",
       "   [1]    chr19 [58346806, 58347029]      -   |    264625        <NA>\n",
       "   [2]    chr19 [58347353, 58347640]      -   |    264626        <NA>\n",
       "   [3]    chr19 [58348466, 58349128]      -   |    264627        <NA>\n",
       "   [4]    chr19 [58349568, 58350651]      -   |    264628        <NA>\n",
       "   [5]    chr19 [58350370, 58350651]      -   |    264629        <NA>\n",
       "   ...      ...                  ...    ... ...       ...         ...\n",
       "  [11]    chr19 [58357585, 58357649]      -   |    264636        <NA>\n",
       "  [12]    chr19 [58357952, 58358286]      -   |    264637        <NA>\n",
       "  [13]    chr19 [58358489, 58358585]      -   |    264638        <NA>\n",
       "  [14]    chr19 [58359197, 58359323]      -   |    264639        <NA>\n",
       "  [15]    chr19 [58362677, 58362848]      -   |    264640        <NA>\n",
       "\n",
       "$10 \n",
       "GRanges object with 2 ranges and 2 metadata columns:\n",
       "      seqnames               ranges strand | exon_id exon_name\n",
       "  [1]     chr8 [18391245, 18391345]      + |  120842      <NA>\n",
       "  [2]     chr8 [18399998, 18401213]      + |  120843      <NA>\n",
       "\n",
       "...\n",
       "<4 more elements>\n",
       "-------\n",
       "seqinfo: 455 sequences (1 circular) from hg38 genome"
      ]
     },
     "metadata": {},
     "output_type": "display_data"
    }
   ],
   "source": [
    "head(exbyg)"
   ]
  },
  {
   "cell_type": "code",
   "execution_count": 5,
   "metadata": {},
   "outputs": [],
   "source": [
    "tsgs <- read.table(\"~/Desktop/test.txt\")\n",
    "tsgs <- tsgs[2:nrow(tsgs),]\n",
    "names(tsgs) <- c(\"GeneID\",\"GeneSymbol\")"
   ]
  },
  {
   "cell_type": "code",
   "execution_count": 6,
   "metadata": {},
   "outputs": [],
   "source": [
    "exns$istsg=0"
   ]
  },
  {
   "cell_type": "code",
   "execution_count": 7,
   "metadata": {},
   "outputs": [
    {
     "data": {
      "text/plain": [
       "GRanges object with 6 ranges and 2 metadata columns:\n",
       "      seqnames         ranges strand |   exon_id     istsg\n",
       "         <Rle>      <IRanges>  <Rle> | <integer> <numeric>\n",
       "  [1]     chr1 [11874, 12227]      + |         1         0\n",
       "  [2]     chr1 [12595, 12721]      + |         2         0\n",
       "  [3]     chr1 [12613, 12721]      + |         3         0\n",
       "  [4]     chr1 [12646, 12697]      + |         4         0\n",
       "  [5]     chr1 [13221, 14409]      + |         5         0\n",
       "  [6]     chr1 [13403, 14409]      + |         6         0\n",
       "  -------\n",
       "  seqinfo: 455 sequences (1 circular) from hg38 genome"
      ]
     },
     "metadata": {},
     "output_type": "display_data"
    }
   ],
   "source": [
    "head(exns)"
   ]
  },
  {
   "cell_type": "code",
   "execution_count": 8,
   "metadata": {},
   "outputs": [],
   "source": [
    "for (i in tsgs$GeneID){ # Loop through tumor suppressor gene IDs\n",
    "    \n",
    "    tmp <- match(exbyg[[i]]$exon_id,exns$exon_id) # Get indices of exons\n",
    "    if (length(tmp)==0) {\n",
    "        next\n",
    "    }\n",
    "    \n",
    "    exns[tmp]$istsg <- 1\n",
    "\n",
    "}"
   ]
  },
  {
   "cell_type": "code",
   "execution_count": 9,
   "metadata": {},
   "outputs": [
    {
     "data": {
      "text/plain": [
       "GRanges object with 6 ranges and 2 metadata columns:\n",
       "      seqnames             ranges strand |   exon_id     istsg\n",
       "         <Rle>          <IRanges>  <Rle> | <integer> <numeric>\n",
       "  [1]     chr1 [1013467, 1013576]      + |        88         1\n",
       "  [2]     chr1 [1013984, 1014539]      + |        89         1\n",
       "  [3]     chr1 [1167104, 1167198]      + |       141         1\n",
       "  [4]     chr1 [1167863, 1167952]      + |       142         1\n",
       "  [5]     chr1 [3652565, 3652641]      + |       473         1\n",
       "  [6]     chr1 [3682333, 3682430]      + |       474         1\n",
       "  -------\n",
       "  seqinfo: 455 sequences (1 circular) from hg38 genome"
      ]
     },
     "metadata": {},
     "output_type": "display_data"
    }
   ],
   "source": [
    "head(exns[exns$istsg==1])"
   ]
  },
  {
   "cell_type": "code",
   "execution_count": 11,
   "metadata": {},
   "outputs": [],
   "source": [
    "exann<-c()\n",
    "exann$chrom <- as.vector(seqnames(exns))\n",
    "exann$start <- start(exns)\n",
    "exann$end <- end(exns)\n",
    "exann$istsg <- exns$istsg\n",
    "exann <- data.frame(exann)"
   ]
  },
  {
   "cell_type": "code",
   "execution_count": 12,
   "metadata": {},
   "outputs": [
    {
     "data": {
      "text/html": [
       "<table>\n",
       "<thead><tr><th scope=col>chrom</th><th scope=col>start</th><th scope=col>end</th><th scope=col>istsg</th></tr></thead>\n",
       "<tbody>\n",
       "\t<tr><td>chr1 </td><td>11874</td><td>12227</td><td>0    </td></tr>\n",
       "\t<tr><td>chr1 </td><td>12595</td><td>12721</td><td>0    </td></tr>\n",
       "\t<tr><td>chr1 </td><td>12613</td><td>12721</td><td>0    </td></tr>\n",
       "\t<tr><td>chr1 </td><td>12646</td><td>12697</td><td>0    </td></tr>\n",
       "\t<tr><td>chr1 </td><td>13221</td><td>14409</td><td>0    </td></tr>\n",
       "\t<tr><td>chr1 </td><td>13403</td><td>14409</td><td>0    </td></tr>\n",
       "</tbody>\n",
       "</table>\n"
      ],
      "text/latex": [
       "\\begin{tabular}{r|llll}\n",
       " chrom & start & end & istsg\\\\\n",
       "\\hline\n",
       "\t chr1  & 11874 & 12227 & 0    \\\\\n",
       "\t chr1  & 12595 & 12721 & 0    \\\\\n",
       "\t chr1  & 12613 & 12721 & 0    \\\\\n",
       "\t chr1  & 12646 & 12697 & 0    \\\\\n",
       "\t chr1  & 13221 & 14409 & 0    \\\\\n",
       "\t chr1  & 13403 & 14409 & 0    \\\\\n",
       "\\end{tabular}\n"
      ],
      "text/markdown": [
       "\n",
       "chrom | start | end | istsg | \n",
       "|---|---|---|---|---|---|\n",
       "| chr1  | 11874 | 12227 | 0     | \n",
       "| chr1  | 12595 | 12721 | 0     | \n",
       "| chr1  | 12613 | 12721 | 0     | \n",
       "| chr1  | 12646 | 12697 | 0     | \n",
       "| chr1  | 13221 | 14409 | 0     | \n",
       "| chr1  | 13403 | 14409 | 0     | \n",
       "\n",
       "\n"
      ],
      "text/plain": [
       "  chrom start end   istsg\n",
       "1 chr1  11874 12227 0    \n",
       "2 chr1  12595 12721 0    \n",
       "3 chr1  12613 12721 0    \n",
       "4 chr1  12646 12697 0    \n",
       "5 chr1  13221 14409 0    \n",
       "6 chr1  13403 14409 0    "
      ]
     },
     "metadata": {},
     "output_type": "display_data"
    }
   ],
   "source": [
    "head(exann)"
   ]
  },
  {
   "cell_type": "code",
   "execution_count": 14,
   "metadata": {},
   "outputs": [
    {
     "data": {
      "text/html": [
       "<table>\n",
       "<thead><tr><th></th><th scope=col>chrom</th><th scope=col>start</th><th scope=col>end</th><th scope=col>istsg</th></tr></thead>\n",
       "<tbody>\n",
       "\t<tr><th scope=row>293785</th><td>chrY    </td><td>26578095</td><td>26578328</td><td>0       </td></tr>\n",
       "\t<tr><th scope=row>293786</th><td>chrY    </td><td>57094007</td><td>57094084</td><td>0       </td></tr>\n",
       "\t<tr><th scope=row>293787</th><td>chrY    </td><td>57094564</td><td>57094605</td><td>0       </td></tr>\n",
       "\t<tr><th scope=row>293788</th><td>chrY    </td><td>57212178</td><td>57213357</td><td>0       </td></tr>\n",
       "\t<tr><th scope=row>293789</th><td>chrY    </td><td>57213856</td><td>57213964</td><td>0       </td></tr>\n",
       "\t<tr><th scope=row>293790</th><td>chrY    </td><td>57214350</td><td>57214703</td><td>0       </td></tr>\n",
       "</tbody>\n",
       "</table>\n"
      ],
      "text/latex": [
       "\\begin{tabular}{r|llll}\n",
       "  & chrom & start & end & istsg\\\\\n",
       "\\hline\n",
       "\t293785 & chrY     & 26578095 & 26578328 & 0       \\\\\n",
       "\t293786 & chrY     & 57094007 & 57094084 & 0       \\\\\n",
       "\t293787 & chrY     & 57094564 & 57094605 & 0       \\\\\n",
       "\t293788 & chrY     & 57212178 & 57213357 & 0       \\\\\n",
       "\t293789 & chrY     & 57213856 & 57213964 & 0       \\\\\n",
       "\t293790 & chrY     & 57214350 & 57214703 & 0       \\\\\n",
       "\\end{tabular}\n"
      ],
      "text/markdown": [
       "\n",
       "| <!--/--> | chrom | start | end | istsg | \n",
       "|---|---|---|---|---|---|\n",
       "| 293785 | chrY     | 26578095 | 26578328 | 0        | \n",
       "| 293786 | chrY     | 57094007 | 57094084 | 0        | \n",
       "| 293787 | chrY     | 57094564 | 57094605 | 0        | \n",
       "| 293788 | chrY     | 57212178 | 57213357 | 0        | \n",
       "| 293789 | chrY     | 57213856 | 57213964 | 0        | \n",
       "| 293790 | chrY     | 57214350 | 57214703 | 0        | \n",
       "\n",
       "\n"
      ],
      "text/plain": [
       "       chrom start    end      istsg\n",
       "293785 chrY  26578095 26578328 0    \n",
       "293786 chrY  57094007 57094084 0    \n",
       "293787 chrY  57094564 57094605 0    \n",
       "293788 chrY  57212178 57213357 0    \n",
       "293789 chrY  57213856 57213964 0    \n",
       "293790 chrY  57214350 57214703 0    "
      ]
     },
     "metadata": {},
     "output_type": "display_data"
    }
   ],
   "source": [
    "tail(exann[exann$chrom=='chrY',])"
   ]
  },
  {
   "cell_type": "code",
   "execution_count": 15,
   "metadata": {},
   "outputs": [],
   "source": [
    "exann <- exann[1:293790,]"
   ]
  },
  {
   "cell_type": "code",
   "execution_count": 16,
   "metadata": {},
   "outputs": [],
   "source": [
    "save(exann,file='~/jackgl/sim-develop/data/exann.rda')"
   ]
  }
 ],
 "metadata": {
  "kernelspec": {
   "display_name": "R",
   "language": "R",
   "name": "ir"
  },
  "language_info": {
   "codemirror_mode": "r",
   "file_extension": ".r",
   "mimetype": "text/x-r-source",
   "name": "R",
   "pygments_lexer": "r",
   "version": "3.3.2"
  }
 },
 "nbformat": 4,
 "nbformat_minor": 2
}
