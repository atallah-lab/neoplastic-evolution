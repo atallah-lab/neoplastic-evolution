{
 "cells": [
  {
   "cell_type": "code",
   "execution_count": 1,
   "metadata": {
    "collapsed": true
   },
   "outputs": [
    {
     "name": "stderr",
     "output_type": "stream",
     "text": [
      "Loading required package: GenomicFeatures\n",
      "Loading required package: BiocGenerics\n",
      "Loading required package: parallel\n",
      "\n",
      "Attaching package: ‘BiocGenerics’\n",
      "\n",
      "The following objects are masked from ‘package:parallel’:\n",
      "\n",
      "    clusterApply, clusterApplyLB, clusterCall, clusterEvalQ,\n",
      "    clusterExport, clusterMap, parApply, parCapply, parLapply,\n",
      "    parLapplyLB, parRapply, parSapply, parSapplyLB\n",
      "\n",
      "The following objects are masked from ‘package:stats’:\n",
      "\n",
      "    IQR, mad, xtabs\n",
      "\n",
      "The following objects are masked from ‘package:base’:\n",
      "\n",
      "    anyDuplicated, append, as.data.frame, as.vector, cbind, colnames,\n",
      "    do.call, duplicated, eval, evalq, Filter, Find, get, grep, grepl,\n",
      "    intersect, is.unsorted, lapply, lengths, Map, mapply, match, mget,\n",
      "    order, paste, pmax, pmax.int, pmin, pmin.int, Position, rank,\n",
      "    rbind, Reduce, rownames, sapply, setdiff, sort, table, tapply,\n",
      "    union, unique, unlist, unsplit\n",
      "\n",
      "Loading required package: S4Vectors\n",
      "Loading required package: stats4\n",
      "Loading required package: IRanges\n",
      "Loading required package: GenomeInfoDb\n",
      "Loading required package: GenomicRanges\n",
      "Loading required package: AnnotationDbi\n",
      "Loading required package: Biobase\n",
      "Welcome to Bioconductor\n",
      "\n",
      "    Vignettes contain introductory material; view with\n",
      "    'browseVignettes()'. To cite Bioconductor, see\n",
      "    'citation(\"Biobase\")', and for packages 'citation(\"pkgname\")'.\n",
      "\n",
      "\n",
      "Attaching package: ‘data.table’\n",
      "\n",
      "The following object is masked from ‘package:GenomicRanges’:\n",
      "\n",
      "    shift\n",
      "\n",
      "The following object is masked from ‘package:IRanges’:\n",
      "\n",
      "    shift\n",
      "\n"
     ]
    }
   ],
   "source": [
    "library(TxDb.Hsapiens.UCSC.hg38.knownGene)\n",
    "library(GenomicRanges)\n",
    "library(naturalsort)\n",
    "library(data.table)\n"
   ]
  },
  {
   "cell_type": "code",
   "execution_count": 2,
   "metadata": {},
   "outputs": [
    {
     "data": {
      "text/plain": [
       "GRanges object with 6 ranges and 1 metadata column:\n",
       "            seqnames               ranges strand |     gene_id\n",
       "               <Rle>            <IRanges>  <Rle> | <character>\n",
       "          1    chr19 [58346806, 58362848]      - |           1\n",
       "         10     chr8 [18391245, 18401213]      + |          10\n",
       "        100    chr20 [44619522, 44651735]      - |         100\n",
       "       1000    chr18 [27950966, 28177481]      - |        1000\n",
       "  100008589    chr21 [ 8213888,  8401980]      + |   100008589\n",
       "  100009613    chr11 [70072434, 70075348]      - |   100009613\n",
       "  -------\n",
       "  seqinfo: 455 sequences (1 circular) from hg38 genome"
      ]
     },
     "metadata": {},
     "output_type": "display_data"
    }
   ],
   "source": [
    "genes <- genes(TxDb.Hsapiens.UCSC.hg38.knownGene)\n",
    "head(genes)"
   ]
  },
  {
   "cell_type": "code",
   "execution_count": 3,
   "metadata": {},
   "outputs": [
    {
     "data": {
      "text/html": [
       "<table>\n",
       "<thead><tr><th></th><th scope=col>GeneID</th><th scope=col>GeneSymbol</th></tr></thead>\n",
       "<tbody>\n",
       "\t<tr><th scope=row>2</th><td>43    </td><td>ACHE  </td></tr>\n",
       "\t<tr><th scope=row>3</th><td>95    </td><td>ACY1  </td></tr>\n",
       "\t<tr><th scope=row>4</th><td>104   </td><td>ADARB1</td></tr>\n",
       "\t<tr><th scope=row>5</th><td>141   </td><td>ADPRH </td></tr>\n",
       "\t<tr><th scope=row>6</th><td>142   </td><td>PARP1 </td></tr>\n",
       "\t<tr><th scope=row>7</th><td>185   </td><td>AGTR1 </td></tr>\n",
       "</tbody>\n",
       "</table>\n"
      ],
      "text/latex": [
       "\\begin{tabular}{r|ll}\n",
       "  & GeneID & GeneSymbol\\\\\n",
       "\\hline\n",
       "\t2 & 43     & ACHE  \\\\\n",
       "\t3 & 95     & ACY1  \\\\\n",
       "\t4 & 104    & ADARB1\\\\\n",
       "\t5 & 141    & ADPRH \\\\\n",
       "\t6 & 142    & PARP1 \\\\\n",
       "\t7 & 185    & AGTR1 \\\\\n",
       "\\end{tabular}\n"
      ],
      "text/markdown": [
       "\n",
       "| <!--/--> | GeneID | GeneSymbol | \n",
       "|---|---|---|---|---|---|\n",
       "| 2 | 43     | ACHE   | \n",
       "| 3 | 95     | ACY1   | \n",
       "| 4 | 104    | ADARB1 | \n",
       "| 5 | 141    | ADPRH  | \n",
       "| 6 | 142    | PARP1  | \n",
       "| 7 | 185    | AGTR1  | \n",
       "\n",
       "\n"
      ],
      "text/plain": [
       "  GeneID GeneSymbol\n",
       "2 43     ACHE      \n",
       "3 95     ACY1      \n",
       "4 104    ADARB1    \n",
       "5 141    ADPRH     \n",
       "6 142    PARP1     \n",
       "7 185    AGTR1     "
      ]
     },
     "metadata": {},
     "output_type": "display_data"
    }
   ],
   "source": [
    "tsgs <- read.table(\"../data/Human_TSGs.txt\")\n",
    "tsgs <- tsgs[2:nrow(tsgs),]\n",
    "names(tsgs) <- c(\"GeneID\",\"GeneSymbol\")\n",
    "head(tsgs)"
   ]
  },
  {
   "cell_type": "code",
   "execution_count": 4,
   "metadata": {},
   "outputs": [
    {
     "data": {
      "text/html": [
       "<table>\n",
       "<thead><tr><th></th><th scope=col>chrom</th><th scope=col>start</th><th scope=col>end</th></tr></thead>\n",
       "<tbody>\n",
       "\t<tr><th scope=row>5</th><td>chr1     </td><td>226360691</td><td>226408100</td></tr>\n",
       "\t<tr><th scope=row>11</th><td>chr1     </td><td> 21509365</td><td> 21578412</td></tr>\n",
       "\t<tr><th scope=row>19</th><td>chr1     </td><td>228082660</td><td>228099212</td></tr>\n",
       "\t<tr><th scope=row>29</th><td>chr1     </td><td>212565334</td><td>212620777</td></tr>\n",
       "\t<tr><th scope=row>60</th><td>chr1     </td><td> 24899511</td><td> 24965121</td></tr>\n",
       "\t<tr><th scope=row>77</th><td>chr1     </td><td> 50967936</td><td> 50974637</td></tr>\n",
       "</tbody>\n",
       "</table>\n"
      ],
      "text/latex": [
       "\\begin{tabular}{r|lll}\n",
       "  & chrom & start & end\\\\\n",
       "\\hline\n",
       "\t5 & chr1      & 226360691 & 226408100\\\\\n",
       "\t11 & chr1      &  21509365 &  21578412\\\\\n",
       "\t19 & chr1      & 228082660 & 228099212\\\\\n",
       "\t29 & chr1      & 212565334 & 212620777\\\\\n",
       "\t60 & chr1      &  24899511 &  24965121\\\\\n",
       "\t77 & chr1      &  50967936 &  50974637\\\\\n",
       "\\end{tabular}\n"
      ],
      "text/markdown": [
       "\n",
       "| <!--/--> | chrom | start | end | \n",
       "|---|---|---|---|---|---|\n",
       "| 5 | chr1      | 226360691 | 226408100 | \n",
       "| 11 | chr1      |  21509365 |  21578412 | \n",
       "| 19 | chr1      | 228082660 | 228099212 | \n",
       "| 29 | chr1      | 212565334 | 212620777 | \n",
       "| 60 | chr1      |  24899511 |  24965121 | \n",
       "| 77 | chr1      |  50967936 |  50974637 | \n",
       "\n",
       "\n"
      ],
      "text/plain": [
       "   chrom start     end      \n",
       "5  chr1  226360691 226408100\n",
       "11 chr1   21509365  21578412\n",
       "19 chr1  228082660 228099212\n",
       "29 chr1  212565334 212620777\n",
       "60 chr1   24899511  24965121\n",
       "77 chr1   50967936  50974637"
      ]
     },
     "metadata": {},
     "output_type": "display_data"
    }
   ],
   "source": [
    "tsg_ranges<-c()\n",
    "unfound <- 0\n",
    "k<-1\n",
    "for (i in 1:nrow(tsgs)){ # Loop over TSGs\n",
    "    tmp <- genes[genes$gene_id==tsgs$GeneID[i]] # Get the row of genes matching current TSG\n",
    "    if (length(tmp) > 0) {\n",
    "        tsg_ranges$chrom[k] <- runValue(seqnames(tmp))\n",
    "        tsg_ranges$start[k] <- start(tmp)\n",
    "        tsg_ranges$end[k]   <- end(tmp)\n",
    "        k<-k+1\n",
    "    } else {unfound <- unfound+1}\n",
    "}\n",
    "tsg_ranges <- data.frame(tsg_ranges)\n",
    "tsg_ranges <- tsg_ranges[order(tsg_ranges$chrom),]\n",
    "tsg_ranges <- tsg_ranges[tsg_ranges$chrom<25,]\n",
    "tsg_ranges$chrom[tsg_ranges$chrom==23]<-'X'\n",
    "tsg_ranges$chrom[tsg_ranges$chrom==24]<-'Y'\n",
    "tsg_ranges$chrom <- paste0('chr',tsg_ranges$chrom)\n",
    "head(tsg_ranges)"
   ]
  },
  {
   "cell_type": "code",
   "execution_count": 6,
   "metadata": {},
   "outputs": [
    {
     "name": "stdout",
     "output_type": "stream",
     "text": [
      "1166 / 1217 tsgs were found"
     ]
    },
    {
     "data": {
      "text/html": [
       "95.8093672966311"
      ],
      "text/latex": [
       "95.8093672966311"
      ],
      "text/markdown": [
       "95.8093672966311"
      ],
      "text/plain": [
       "[1] 95.80937"
      ]
     },
     "metadata": {},
     "output_type": "display_data"
    }
   ],
   "source": [
    "cat(paste(nrow(tsgs)-unfound,'/',nrow(tsgs),'tsgs were found'))\n",
    "(nrow(tsgs)-unfound)/nrow(tsgs)*100"
   ]
  },
  {
   "cell_type": "code",
   "execution_count": 8,
   "metadata": {
    "scrolled": false
   },
   "outputs": [
    {
     "data": {
      "text/html": [
       "<table>\n",
       "<thead><tr><th scope=col>chrom</th><th scope=col>start</th><th scope=col>end</th><th scope=col>istsg</th></tr></thead>\n",
       "<tbody>\n",
       "\t<tr><td>chr1  </td><td> 11874</td><td> 12227</td><td>0     </td></tr>\n",
       "\t<tr><td>chr1  </td><td> 12595</td><td> 12721</td><td>0     </td></tr>\n",
       "\t<tr><td>chr1  </td><td> 13221</td><td> 14409</td><td>0     </td></tr>\n",
       "\t<tr><td>chr1  </td><td> 30366</td><td> 30503</td><td>0     </td></tr>\n",
       "\t<tr><td>chr1  </td><td> 69091</td><td> 70008</td><td>0     </td></tr>\n",
       "\t<tr><td>chr1  </td><td>182393</td><td>182746</td><td>0     </td></tr>\n",
       "</tbody>\n",
       "</table>\n"
      ],
      "text/latex": [
       "\\begin{tabular}{r|llll}\n",
       " chrom & start & end & istsg\\\\\n",
       "\\hline\n",
       "\t chr1   &  11874 &  12227 & 0     \\\\\n",
       "\t chr1   &  12595 &  12721 & 0     \\\\\n",
       "\t chr1   &  13221 &  14409 & 0     \\\\\n",
       "\t chr1   &  30366 &  30503 & 0     \\\\\n",
       "\t chr1   &  69091 &  70008 & 0     \\\\\n",
       "\t chr1   & 182393 & 182746 & 0     \\\\\n",
       "\\end{tabular}\n"
      ],
      "text/markdown": [
       "\n",
       "chrom | start | end | istsg | \n",
       "|---|---|---|---|---|---|\n",
       "| chr1   |  11874 |  12227 | 0      | \n",
       "| chr1   |  12595 |  12721 | 0      | \n",
       "| chr1   |  13221 |  14409 | 0      | \n",
       "| chr1   |  30366 |  30503 | 0      | \n",
       "| chr1   |  69091 |  70008 | 0      | \n",
       "| chr1   | 182393 | 182746 | 0      | \n",
       "\n",
       "\n"
      ],
      "text/plain": [
       "  chrom start  end    istsg\n",
       "1 chr1   11874  12227 0    \n",
       "2 chr1   12595  12721 0    \n",
       "3 chr1   13221  14409 0    \n",
       "4 chr1   30366  30503 0    \n",
       "5 chr1   69091  70008 0    \n",
       "6 chr1  182393 182746 0    "
      ]
     },
     "metadata": {},
     "output_type": "display_data"
    }
   ],
   "source": [
    "tmp<-c()\n",
    "# exann <- read.table('../../Data/humangenome//Homo_sapiens.GRCh38.89.gff3.exonfilt')\n",
    "cdsann <- exons(TxDb.Hsapiens.UCSC.hg38.knownGene)\n",
    "# cdsann <- GRanges(seqnames=cdsann$V1,IRanges(cdsann$V2,cdsann$V3))\n",
    "cdsann <- reduce(cdsann)\n",
    "tmp$chrom <- as.vector(seqnames(cdsann))\n",
    "tmp$start <- start(cdsann)\n",
    "tmp$end <- end(cdsann)\n",
    "cdsann <- data.frame(tmp)\n",
    "names(cdsann) <- c('chrom','start','end')\n",
    "cdsann$istsg <- 0\n",
    "head(cdsann)"
   ]
  },
  {
   "cell_type": "code",
   "execution_count": 9,
   "metadata": {},
   "outputs": [],
   "source": [
    "test <- exonsBy(TxDb.Hsapiens.UCSC.hg38.knownGene)"
   ]
  },
  {
   "cell_type": "code",
   "execution_count": 10,
   "metadata": {},
   "outputs": [
    {
     "data": {
      "text/plain": [
       "GRangesList object of length 6:\n",
       "$1 \n",
       "GRanges object with 3 ranges and 3 metadata columns:\n",
       "      seqnames         ranges strand |   exon_id   exon_name exon_rank\n",
       "         <Rle>      <IRanges>  <Rle> | <integer> <character> <integer>\n",
       "  [1]     chr1 [11874, 12227]      + |         1        <NA>         1\n",
       "  [2]     chr1 [12613, 12721]      + |         3        <NA>         2\n",
       "  [3]     chr1 [13221, 14409]      + |         5        <NA>         3\n",
       "\n",
       "$2 \n",
       "GRanges object with 3 ranges and 3 metadata columns:\n",
       "      seqnames         ranges strand | exon_id exon_name exon_rank\n",
       "  [1]     chr1 [11874, 12227]      + |       1      <NA>         1\n",
       "  [2]     chr1 [12646, 12697]      + |       4      <NA>         2\n",
       "  [3]     chr1 [13221, 14409]      + |       5      <NA>         3\n",
       "\n",
       "$3 \n",
       "GRanges object with 3 ranges and 3 metadata columns:\n",
       "      seqnames         ranges strand | exon_id exon_name exon_rank\n",
       "  [1]     chr1 [11874, 12227]      + |       1      <NA>         1\n",
       "  [2]     chr1 [12595, 12721]      + |       2      <NA>         2\n",
       "  [3]     chr1 [13403, 14409]      + |       6      <NA>         3\n",
       "\n",
       "...\n",
       "<3 more elements>\n",
       "-------\n",
       "seqinfo: 455 sequences (1 circular) from hg38 genome"
      ]
     },
     "metadata": {},
     "output_type": "display_data"
    }
   ],
   "source": [
    "head(test)"
   ]
  },
  {
   "cell_type": "code",
   "execution_count": 27,
   "metadata": {},
   "outputs": [],
   "source": [
    "for (i in 1:nrow(cdsann)) {\n",
    "    \n",
    "    tmp <- tsg_ranges[tsg_ranges$chrom==cdsann$chrom[i],]\n",
    "    if (length(which(between(cdsann$start[i],tmp$start,tmp$end)))>0) {\n",
    "        cdsann$istsg[i] <- 1\n",
    "    }\n",
    "    \n",
    "}"
   ]
  },
  {
   "cell_type": "code",
   "execution_count": 28,
   "metadata": {},
   "outputs": [
    {
     "data": {
      "text/html": [
       "<table>\n",
       "<thead><tr><th></th><th scope=col>chrom</th><th scope=col>start</th><th scope=col>end</th><th scope=col>istsg</th></tr></thead>\n",
       "<tbody>\n",
       "\t<tr><th scope=row>61</th><td>chr1   </td><td>1013467</td><td>1013576</td><td>1      </td></tr>\n",
       "\t<tr><th scope=row>62</th><td>chr1   </td><td>1013984</td><td>1014539</td><td>1      </td></tr>\n",
       "\t<tr><th scope=row>112</th><td>chr1   </td><td>1167104</td><td>1167198</td><td>1      </td></tr>\n",
       "\t<tr><th scope=row>113</th><td>chr1   </td><td>1167863</td><td>1167952</td><td>1      </td></tr>\n",
       "\t<tr><th scope=row>385</th><td>chr1   </td><td>3652565</td><td>3652641</td><td>1      </td></tr>\n",
       "\t<tr><th scope=row>386</th><td>chr1   </td><td>3682333</td><td>3682430</td><td>1      </td></tr>\n",
       "</tbody>\n",
       "</table>\n"
      ],
      "text/latex": [
       "\\begin{tabular}{r|llll}\n",
       "  & chrom & start & end & istsg\\\\\n",
       "\\hline\n",
       "\t61 & chr1    & 1013467 & 1013576 & 1      \\\\\n",
       "\t62 & chr1    & 1013984 & 1014539 & 1      \\\\\n",
       "\t112 & chr1    & 1167104 & 1167198 & 1      \\\\\n",
       "\t113 & chr1    & 1167863 & 1167952 & 1      \\\\\n",
       "\t385 & chr1    & 3652565 & 3652641 & 1      \\\\\n",
       "\t386 & chr1    & 3682333 & 3682430 & 1      \\\\\n",
       "\\end{tabular}\n"
      ],
      "text/markdown": [
       "\n",
       "| <!--/--> | chrom | start | end | istsg | \n",
       "|---|---|---|---|---|---|\n",
       "| 61 | chr1    | 1013467 | 1013576 | 1       | \n",
       "| 62 | chr1    | 1013984 | 1014539 | 1       | \n",
       "| 112 | chr1    | 1167104 | 1167198 | 1       | \n",
       "| 113 | chr1    | 1167863 | 1167952 | 1       | \n",
       "| 385 | chr1    | 3652565 | 3652641 | 1       | \n",
       "| 386 | chr1    | 3682333 | 3682430 | 1       | \n",
       "\n",
       "\n"
      ],
      "text/plain": [
       "    chrom start   end     istsg\n",
       "61  chr1  1013467 1013576 1    \n",
       "62  chr1  1013984 1014539 1    \n",
       "112 chr1  1167104 1167198 1    \n",
       "113 chr1  1167863 1167952 1    \n",
       "385 chr1  3652565 3652641 1    \n",
       "386 chr1  3682333 3682430 1    "
      ]
     },
     "metadata": {},
     "output_type": "display_data"
    }
   ],
   "source": [
    "head(cdsann[cdsann$istsg==1,])"
   ]
  },
  {
   "cell_type": "code",
   "execution_count": 29,
   "metadata": {},
   "outputs": [
    {
     "data": {
      "text/html": [
       "0.031717998"
      ],
      "text/latex": [
       "0.031717998"
      ],
      "text/markdown": [
       "0.031717998"
      ],
      "text/plain": [
       "[1] 0.031718"
      ]
     },
     "metadata": {},
     "output_type": "display_data"
    }
   ],
   "source": [
    "sum(cdsann$end-cdsann$start)/3e9"
   ]
  },
  {
   "cell_type": "code",
   "execution_count": 30,
   "metadata": {},
   "outputs": [],
   "source": [
    "exann <- cdsann\n",
    "save(exann, file='../data/exann.rda')"
   ]
  }
 ],
 "metadata": {
  "kernelspec": {
   "display_name": "R",
   "language": "R",
   "name": "ir"
  },
  "language_info": {
   "codemirror_mode": "r",
   "file_extension": ".r",
   "mimetype": "text/x-r-source",
   "name": "R",
   "pygments_lexer": "r",
   "version": "3.3.2"
  }
 },
 "nbformat": 4,
 "nbformat_minor": 2
}
